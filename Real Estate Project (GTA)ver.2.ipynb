{
 "cells": [
  {
   "cell_type": "code",
   "execution_count": 3,
   "metadata": {},
   "outputs": [],
   "source": [
    "import warnings\n",
    "warnings.filterwarnings('ignore')\n",
    "import pandas as pd\n",
    "import numpy as np\n",
    "import pandas as pd\n",
    "import matplotlib.pyplot as plt\n",
    "import statsmodels.api as sm\n",
    "import urllib.request\n",
    "import seaborn as sns\n",
    "from scipy import stats\n",
    "import pylab as pl\n",
    "%matplotlib inline"
   ]
  },
  {
   "cell_type": "markdown",
   "metadata": {},
   "source": [
    "# Import Dataset"
   ]
  },
  {
   "cell_type": "code",
   "execution_count": 4,
   "metadata": {
    "scrolled": true
   },
   "outputs": [
    {
     "name": "stdout",
     "output_type": "stream",
     "text": [
      "       Unnamed: 0                                              title  \\\n",
      "0             0.0  1303 - 38 Grenville St, Toronto (C4461599) | Z...   \n",
      "1             1.0          2 Cabot Crt, Toronto (W4502992) | Zoocasa   \n",
      "2             2.0  1504 - 30 Roehampton Ave, Toronto (C4511330) |...   \n",
      "3             3.0  514 - 65 East Liberty St, Toronto (C4515763) |...   \n",
      "4             4.0        61 Twelfth St, Toronto (W4519375) | Zoocasa   \n",
      "...           ...                                                ...   \n",
      "42877         NaN                                                NaN   \n",
      "42878         NaN                                                NaN   \n",
      "42879         NaN                                                NaN   \n",
      "42880         NaN                                                NaN   \n",
      "42881         NaN                                                NaN   \n",
      "\n",
      "       final_price  list_price    bedrooms bathrooms             sqft  \\\n",
      "0         855000.0    870000.0  2 + 1 beds   2 baths  800–899 sq. ft.   \n",
      "1         885000.0    898000.0      3 beds   2 baths      N/A sq. ft.   \n",
      "2         550000.0    549900.0      1 beds   1 baths  500–599 sq. ft.   \n",
      "3         665000.0    600000.0  1 + 1 beds   1 baths  600–699 sq. ft.   \n",
      "4         825513.0    839000.0      2 beds   2 baths      N/A sq. ft.   \n",
      "...            ...         ...         ...       ...              ...   \n",
      "42877     154900.0         NaN         NaN       NaN              NaN   \n",
      "42878     624900.0         NaN         NaN       NaN              NaN   \n",
      "42879     899000.0         NaN         NaN       NaN              NaN   \n",
      "42880     295000.0         NaN         NaN       NaN              NaN   \n",
      "42881    1595000.0         NaN         NaN       NaN              NaN   \n",
      "\n",
      "          parking                                        description  \\\n",
      "0       1 parking  Luxurious And Spacious Murano Tower. 2+1, 2 Ba...   \n",
      "1       6 parking  Fantastic Opportunity To Live Within The Histo...   \n",
      "2      no parking  Bright Sunfilled Spacious 1 Bdr Unit; Floor To...   \n",
      "3       1 parking  Rare Loft-Like Condo In Liberty Village W/ 18'...   \n",
      "4       1 parking  Location! Location! Location. Your Cottage In ...   \n",
      "...           ...                                                ...   \n",
      "42877         NaN                                                NaN   \n",
      "42878         NaN                                                NaN   \n",
      "42879         NaN                                                NaN   \n",
      "42880         NaN                                                NaN   \n",
      "42881         NaN                                                NaN   \n",
      "\n",
      "            mls           type  \\\n",
      "0      C4461599          Condo   \n",
      "1      W4502992  Semi-Detached   \n",
      "2      C4511330          Condo   \n",
      "3      C4515763          Condo   \n",
      "4      W4519375       Detached   \n",
      "...         ...            ...   \n",
      "42877       NaN            NaN   \n",
      "42878       NaN            NaN   \n",
      "42879       NaN            NaN   \n",
      "42880       NaN            NaN   \n",
      "42881       NaN            NaN   \n",
      "\n",
      "                                               full_link  \\\n",
      "0      https://www.zoocasa.com/toronto-on-real-estate...   \n",
      "1      https://www.zoocasa.com/toronto-on-real-estate...   \n",
      "2      https://www.zoocasa.com/toronto-on-real-estate...   \n",
      "3      https://www.zoocasa.com/toronto-on-real-estate...   \n",
      "4      https://www.zoocasa.com/toronto-on-real-estate...   \n",
      "...                                                  ...   \n",
      "42877                                                NaN   \n",
      "42878                                                NaN   \n",
      "42879                                                NaN   \n",
      "42880                                                NaN   \n",
      "42881                                                NaN   \n",
      "\n",
      "                                       full_address        lat       long  \\\n",
      "0                         38 Grenville St, Toronto         NaN        NaN   \n",
      "1                             2 Cabot Crt, Toronto         NaN        NaN   \n",
      "2                       30 Roehampton Ave, Toronto         NaN        NaN   \n",
      "3                      65 East Liberty St, Toronto         NaN        NaN   \n",
      "4                           61 Twelfth St, Toronto         NaN        NaN   \n",
      "...                                             ...        ...        ...   \n",
      "42877       3100 CARLING AVENUE UNIT#416 Ottawa, ON  45.353519 -75.807793   \n",
      "42878              5827 GLADEWOODS PLACE Ottawa, ON  45.441273 -75.532745   \n",
      "42879              6349 DEERMEADOW DRIVE Ottawa, ON  45.238155 -75.602249   \n",
      "42880                     212 ALVIN ROAD Ottawa, ON  45.453838 -75.650040   \n",
      "42881  BARTON Street BARTON Street Stoney Creek, ON  43.220070 -79.689835   \n",
      "\n",
      "       city_district  \n",
      "0                NaN  \n",
      "1                NaN  \n",
      "2                NaN  \n",
      "3                NaN  \n",
      "4                NaN  \n",
      "...              ...  \n",
      "42877            NaN  \n",
      "42878            NaN  \n",
      "42879            NaN  \n",
      "42880            NaN  \n",
      "42881            NaN  \n",
      "\n",
      "[42882 rows x 16 columns]\n"
     ]
    }
   ],
   "source": [
    "hd = pd.read_excel (r'C:\\Users\\timohakartoha\\Desktop\\SENECA\\BAN 240 Consulting Capstone Course\\Data Preproccessing\\Dataset 1+2.xlsx')\n",
    "print (hd)\n"
   ]
  },
  {
   "cell_type": "code",
   "execution_count": 5,
   "metadata": {
    "scrolled": true
   },
   "outputs": [
    {
     "data": {
      "text/html": [
       "<div>\n",
       "<style scoped>\n",
       "    .dataframe tbody tr th:only-of-type {\n",
       "        vertical-align: middle;\n",
       "    }\n",
       "\n",
       "    .dataframe tbody tr th {\n",
       "        vertical-align: top;\n",
       "    }\n",
       "\n",
       "    .dataframe thead th {\n",
       "        text-align: right;\n",
       "    }\n",
       "</style>\n",
       "<table border=\"1\" class=\"dataframe\">\n",
       "  <thead>\n",
       "    <tr style=\"text-align: right;\">\n",
       "      <th></th>\n",
       "      <th>Unnamed: 0</th>\n",
       "      <th>title</th>\n",
       "      <th>final_price</th>\n",
       "      <th>list_price</th>\n",
       "      <th>bedrooms</th>\n",
       "      <th>bathrooms</th>\n",
       "      <th>sqft</th>\n",
       "      <th>parking</th>\n",
       "      <th>description</th>\n",
       "      <th>mls</th>\n",
       "      <th>type</th>\n",
       "      <th>full_link</th>\n",
       "      <th>full_address</th>\n",
       "      <th>lat</th>\n",
       "      <th>long</th>\n",
       "      <th>city_district</th>\n",
       "    </tr>\n",
       "  </thead>\n",
       "  <tbody>\n",
       "    <tr>\n",
       "      <td>0</td>\n",
       "      <td>0.0</td>\n",
       "      <td>1303 - 38 Grenville St, Toronto (C4461599) | Z...</td>\n",
       "      <td>855000.0</td>\n",
       "      <td>870000.0</td>\n",
       "      <td>2 + 1 beds</td>\n",
       "      <td>2 baths</td>\n",
       "      <td>800–899 sq. ft.</td>\n",
       "      <td>1 parking</td>\n",
       "      <td>Luxurious And Spacious Murano Tower. 2+1, 2 Ba...</td>\n",
       "      <td>C4461599</td>\n",
       "      <td>Condo</td>\n",
       "      <td>https://www.zoocasa.com/toronto-on-real-estate...</td>\n",
       "      <td>38 Grenville St, Toronto</td>\n",
       "      <td>NaN</td>\n",
       "      <td>NaN</td>\n",
       "      <td>NaN</td>\n",
       "    </tr>\n",
       "    <tr>\n",
       "      <td>1</td>\n",
       "      <td>1.0</td>\n",
       "      <td>2 Cabot Crt, Toronto (W4502992) | Zoocasa</td>\n",
       "      <td>885000.0</td>\n",
       "      <td>898000.0</td>\n",
       "      <td>3 beds</td>\n",
       "      <td>2 baths</td>\n",
       "      <td>N/A sq. ft.</td>\n",
       "      <td>6 parking</td>\n",
       "      <td>Fantastic Opportunity To Live Within The Histo...</td>\n",
       "      <td>W4502992</td>\n",
       "      <td>Semi-Detached</td>\n",
       "      <td>https://www.zoocasa.com/toronto-on-real-estate...</td>\n",
       "      <td>2 Cabot Crt, Toronto</td>\n",
       "      <td>NaN</td>\n",
       "      <td>NaN</td>\n",
       "      <td>NaN</td>\n",
       "    </tr>\n",
       "    <tr>\n",
       "      <td>2</td>\n",
       "      <td>2.0</td>\n",
       "      <td>1504 - 30 Roehampton Ave, Toronto (C4511330) |...</td>\n",
       "      <td>550000.0</td>\n",
       "      <td>549900.0</td>\n",
       "      <td>1 beds</td>\n",
       "      <td>1 baths</td>\n",
       "      <td>500–599 sq. ft.</td>\n",
       "      <td>no parking</td>\n",
       "      <td>Bright Sunfilled Spacious 1 Bdr Unit; Floor To...</td>\n",
       "      <td>C4511330</td>\n",
       "      <td>Condo</td>\n",
       "      <td>https://www.zoocasa.com/toronto-on-real-estate...</td>\n",
       "      <td>30 Roehampton Ave, Toronto</td>\n",
       "      <td>NaN</td>\n",
       "      <td>NaN</td>\n",
       "      <td>NaN</td>\n",
       "    </tr>\n",
       "    <tr>\n",
       "      <td>3</td>\n",
       "      <td>3.0</td>\n",
       "      <td>514 - 65 East Liberty St, Toronto (C4515763) |...</td>\n",
       "      <td>665000.0</td>\n",
       "      <td>600000.0</td>\n",
       "      <td>1 + 1 beds</td>\n",
       "      <td>1 baths</td>\n",
       "      <td>600–699 sq. ft.</td>\n",
       "      <td>1 parking</td>\n",
       "      <td>Rare Loft-Like Condo In Liberty Village W/ 18'...</td>\n",
       "      <td>C4515763</td>\n",
       "      <td>Condo</td>\n",
       "      <td>https://www.zoocasa.com/toronto-on-real-estate...</td>\n",
       "      <td>65 East Liberty St, Toronto</td>\n",
       "      <td>NaN</td>\n",
       "      <td>NaN</td>\n",
       "      <td>NaN</td>\n",
       "    </tr>\n",
       "    <tr>\n",
       "      <td>4</td>\n",
       "      <td>4.0</td>\n",
       "      <td>61 Twelfth St, Toronto (W4519375) | Zoocasa</td>\n",
       "      <td>825513.0</td>\n",
       "      <td>839000.0</td>\n",
       "      <td>2 beds</td>\n",
       "      <td>2 baths</td>\n",
       "      <td>N/A sq. ft.</td>\n",
       "      <td>1 parking</td>\n",
       "      <td>Location! Location! Location. Your Cottage In ...</td>\n",
       "      <td>W4519375</td>\n",
       "      <td>Detached</td>\n",
       "      <td>https://www.zoocasa.com/toronto-on-real-estate...</td>\n",
       "      <td>61 Twelfth St, Toronto</td>\n",
       "      <td>NaN</td>\n",
       "      <td>NaN</td>\n",
       "      <td>NaN</td>\n",
       "    </tr>\n",
       "  </tbody>\n",
       "</table>\n",
       "</div>"
      ],
      "text/plain": [
       "   Unnamed: 0                                              title  final_price  \\\n",
       "0         0.0  1303 - 38 Grenville St, Toronto (C4461599) | Z...     855000.0   \n",
       "1         1.0          2 Cabot Crt, Toronto (W4502992) | Zoocasa     885000.0   \n",
       "2         2.0  1504 - 30 Roehampton Ave, Toronto (C4511330) |...     550000.0   \n",
       "3         3.0  514 - 65 East Liberty St, Toronto (C4515763) |...     665000.0   \n",
       "4         4.0        61 Twelfth St, Toronto (W4519375) | Zoocasa     825513.0   \n",
       "\n",
       "   list_price    bedrooms bathrooms             sqft     parking  \\\n",
       "0    870000.0  2 + 1 beds   2 baths  800–899 sq. ft.   1 parking   \n",
       "1    898000.0      3 beds   2 baths      N/A sq. ft.   6 parking   \n",
       "2    549900.0      1 beds   1 baths  500–599 sq. ft.  no parking   \n",
       "3    600000.0  1 + 1 beds   1 baths  600–699 sq. ft.   1 parking   \n",
       "4    839000.0      2 beds   2 baths      N/A sq. ft.   1 parking   \n",
       "\n",
       "                                         description       mls           type  \\\n",
       "0  Luxurious And Spacious Murano Tower. 2+1, 2 Ba...  C4461599          Condo   \n",
       "1  Fantastic Opportunity To Live Within The Histo...  W4502992  Semi-Detached   \n",
       "2  Bright Sunfilled Spacious 1 Bdr Unit; Floor To...  C4511330          Condo   \n",
       "3  Rare Loft-Like Condo In Liberty Village W/ 18'...  C4515763          Condo   \n",
       "4  Location! Location! Location. Your Cottage In ...  W4519375       Detached   \n",
       "\n",
       "                                           full_link  \\\n",
       "0  https://www.zoocasa.com/toronto-on-real-estate...   \n",
       "1  https://www.zoocasa.com/toronto-on-real-estate...   \n",
       "2  https://www.zoocasa.com/toronto-on-real-estate...   \n",
       "3  https://www.zoocasa.com/toronto-on-real-estate...   \n",
       "4  https://www.zoocasa.com/toronto-on-real-estate...   \n",
       "\n",
       "                    full_address  lat  long  city_district  \n",
       "0      38 Grenville St, Toronto   NaN   NaN            NaN  \n",
       "1          2 Cabot Crt, Toronto   NaN   NaN            NaN  \n",
       "2    30 Roehampton Ave, Toronto   NaN   NaN            NaN  \n",
       "3   65 East Liberty St, Toronto   NaN   NaN            NaN  \n",
       "4        61 Twelfth St, Toronto   NaN   NaN            NaN  "
      ]
     },
     "execution_count": 5,
     "metadata": {},
     "output_type": "execute_result"
    }
   ],
   "source": [
    "hd.head(5)"
   ]
  },
  {
   "cell_type": "markdown",
   "metadata": {},
   "source": [
    "# Data types\n"
   ]
  },
  {
   "cell_type": "code",
   "execution_count": 6,
   "metadata": {
    "scrolled": true
   },
   "outputs": [
    {
     "data": {
      "text/plain": [
       "Unnamed: 0       float64\n",
       "title             object\n",
       "final_price      float64\n",
       "list_price       float64\n",
       "bedrooms          object\n",
       "bathrooms         object\n",
       "sqft              object\n",
       "parking           object\n",
       "description       object\n",
       "mls               object\n",
       "type              object\n",
       "full_link         object\n",
       "full_address      object\n",
       "lat              float64\n",
       "long             float64\n",
       "city_district    float64\n",
       "dtype: object"
      ]
     },
     "execution_count": 6,
     "metadata": {},
     "output_type": "execute_result"
    }
   ],
   "source": [
    "hd.dtypes"
   ]
  },
  {
   "cell_type": "code",
   "execution_count": 7,
   "metadata": {},
   "outputs": [
    {
     "name": "stdout",
     "output_type": "stream",
     "text": [
      "Unnamed: 0                     >>>>      [0.0000e+00 1.0000e+00 2.0000e+00 ... 1.7542e+04 1.7543e+04        nan]\n",
      "title                          >>>>      ['1303 - 38 Grenville St, Toronto (C4461599) | Zoocasa'\n",
      " '2 Cabot Crt, Toronto (W4502992) | Zoocasa'\n",
      " '1504 - 30 Roehampton Ave, Toronto (C4511330) | Zoocasa' ...\n",
      " '1706 - 365 Church St, Toronto (C4330888) | Zoocasa'\n",
      " '43 Kalmar Ave, Toronto (E4331128) | Zoocasa' nan]\n",
      "final_price                    >>>>      [855000. 885000. 550000. ... 799997. 240500. 384888.]\n",
      "list_price                     >>>>      [ 870000.  898000.  549900. ... 1619900.  308000.  559980.]\n",
      "bedrooms                       >>>>      ['2 + 1 beds' '3 beds' '1 beds' '1 + 1 beds' '2 beds' '0 beds' '4 beds'\n",
      " '3 + 1 beds' '4 + 2 beds' '2 + 3 beds' '4 + 1 beds' '3 + 2 beds'\n",
      " '3 + 3 beds' '5 beds' '4 + 3 beds' '5 + 1 beds' nan '2 + 2 beds'\n",
      " '5 + 2 beds' '6 + 2 beds' '6 + 1 beds' '6 beds' '1 + 2 beds' '0 + 1 beds'\n",
      " '3 + 4 beds' '5 + 3 beds' '8 + 3 beds' '8 beds' '6 + 3 beds' '4 + 4 beds'\n",
      " '7 + 3 beds' '7 + 1 beds' '9 + 5 beds' '9 + 3 beds' '7 + 4 beds' '9 beds'\n",
      " '9 + 1 beds' '9 + 2 beds' '5 + 5 beds' '4 + 5 beds' '8 + 2 beds' '7 beds'\n",
      " '6 + 4 beds' '4 + 6 beds' '5 + 6 beds' '8 + 4 beds' '9 + 4 beds'\n",
      " '7 + 2 beds' '2 + 4 beds']\n",
      "bathrooms                      >>>>      ['2 baths' '1 baths' '5 baths' '4 baths' '3 baths' '6 baths' nan '8 baths'\n",
      " '7 baths' '9 baths' '14 baths' '10 baths' '11 baths']\n",
      "sqft                           >>>>      ['800–899 sq. ft.' 'N/A sq. ft.' '500–599 sq. ft.' '600–699 sq. ft.'\n",
      " '0-499 sq. ft.' '2500–3000 sq. ft.' '1000–1199 sq. ft.'\n",
      " '1100–1500 sq. ft.' '3000–3500 sq. ft.' '1500–2000 sq. ft.'\n",
      " '700–799 sq. ft.' '700–1100 sq. ft.' '2250–2499 sq. ft.'\n",
      " '1200–1399 sq. ft.' '900–999 sq. ft.' '2000–2500 sq. ft.'\n",
      " '1800–1999 sq. ft.' '2000–2249 sq. ft.' '1400–1599 sq. ft.'\n",
      " '3500–5000 sq. ft.' nan '1600–1799 sq. ft.' '4250–4499 sq. ft.'\n",
      " '700–899 sq. ft.' '2750–2999 sq. ft.' '3250–3499 sq. ft.'\n",
      " '2500–2749 sq. ft.' '500–699 sq. ft.' '3000–3249 sq. ft.'\n",
      " '900–1099 sq. ft.' '1100–1299 sq. ft.' '4500–4749 sq. ft.']\n",
      "parking                        >>>>      ['1 parking' '6 parking' 'no parking' '2 parking' '4 parking' '3 parking'\n",
      " '5 parking' '10 parking' nan '8 parking' '7 parking' '9 parking'\n",
      " '15 parking' '20 parking' '33 parking' '72 parking' '11 parking'\n",
      " '17 parking' '28 parking' '117 parking' '334 parking' '12 parking'\n",
      " '14 parking' '189 parking' '21 parking' '177 parking' '367 parking'\n",
      " '149 parking' '22 parking']\n",
      "description                    >>>>      ['Luxurious And Spacious Murano Tower. 2+1, 2 Bathrooms With Parking Spot + Locker. Perfect For Students And Medical Residents. Bright And Sunny South-West Views. Floor To Ceiling Windows. Steps To Hospitals, Uoft, Subway, Grocery, Financial District. Extras: Stainless Steel Fridge, Stove, Built-In Dishwasher, Microwave, Washer, Dryer, All Blinds, Granite Counters. Excellent Amenities: Pool, Gym, Guest Suites, Free Visitors Parking, 24H Concierge'\n",
      " 'Fantastic Opportunity To Live Within The Historic Islington Village. This Spacious Semi Is Nestled On An Incredible Extra Wide 55.5 X 111.5 Foot Lot & Merely Steps From The Ttc & Go Train. Home Is In Excellent Condition With Numerous Upgrades Including Furnace/Ac/Roof & Tank-Less Hot Water & Newer Windows. Newly Finished Bsmt & Washroom, Lndry (In-Law Suite Potential) Gas Hookup For Bbq & A Large Backyard With Patio & Deck! Offer Presentation Monday July 8th'\n",
      " \"Bright Sunfilled Spacious 1 Bdr Unit; Floor To Ceiling Picture Windows; 9' Ceiling; Open Balcony W/West View;Modern Kitchen W/Stainless Steel Appliances & Quartz Counter. Prime Yonge/Eglinton Location:Steps To Subway, Future Crosstown Ltr. Yonge Street Shops, Restaurants; Eglinton Square Shopping Centre W/Movie Theatre, Supermarket Just Cross Street.Fantastic 2 Storey Rec Centre W/Fitness,Yoga,Cycle Studios;Private Dining Room,Party Room,Patio W/Bbqs.\"\n",
      " ...\n",
      " 'Absolutely Beautiful **Freehold ** **End Unit** 3 Bdrm & 3 Bath Townhome In Desirable Neighbourhood. Hdwd On Main & 2nd. Main Flr W/Fam Rm. Open Concept 2nd Flr W/9 Ft Ceilings & Kitchen W/Granite Counters, B/S & Custom B/I Pantry. Mstr Bdrm W/W/I Closet & 5 Pc Ens. Furnace & Cac (3 Yrs). Steps To Transit & Kingston Rd. Mins From Schools, Restaurants, Banks, Go Station & Hwy 2 & 401. Easy Access To Downtown & Most Universities & Colleges.'\n",
      " \"One Year New Luxury Condo Built By Menkes. High Demanding Location At Downtown. Walk Score 98. 5 Mins Walk To Ryerson University. 5 Mins To Subway. 9 Mins To Eaton Centre, Dundas Sq. 2 Mins To Supermarket. Unobstructed Beautiful View. 10' Ceiling. Open Concept. Laminate Flr Throu-Out. Modern Kitchen W/Big Pantry. Well Equipped Facilities:24/7 Concierge, Gym, Party Room, Theatre, Yoga Studio, Bbq, Media Lounge. Best Building For Student Or Young Professionals.\"\n",
      " 'Great Builder Lot In Birchcliff Village. Can Be Rented Out While Waiting For Your Permits. House Is As-Is Only. Numerous New Builds In The Area, Amazing Schools (With French Immersion & Early/Late Daycare), Coffee Houses, Gift Shops, Restaurants, Multi-Million Dollar Community Centre With Pool & Gym, Great Transit, Parks, Near The Lake, Mins To The Beach, 30 Mins To Downtown.']\n",
      "mls                            >>>>      ['C4461599' 'W4502992' 'C4511330' ... 'C4330888' 'E4331128' nan]\n",
      "type                           >>>>      ['Condo' 'Semi-Detached' 'Detached' 'Duplex' nan 'Att/Row/Twnhouse' 'Link'\n",
      " 'Apt' 'Multiplex' 'Triplex' 'Store W/Apt/Offc' 'Fourplex' 'Cottage']\n",
      "full_link                      >>>>      ['https://www.zoocasa.com/toronto-on-real-estate/6136914-1303-38-grenville-st-toronto-on-m4y1a5-vow'\n",
      " 'https://www.zoocasa.com/toronto-on-real-estate/6242813-2-cabot-crt-toronto-on-m9a2h4-vow'\n",
      " 'https://www.zoocasa.com/toronto-on-real-estate/6262833-1504-30-roehampton-ave-toronto-on-m4p1r2-vow'\n",
      " ...\n",
      " 'https://www.zoocasa.com/toronto-on-real-estate/5820229-1706-365-church-st-toronto-on-m5b1z9-vow'\n",
      " 'https://www.zoocasa.com/toronto-on-real-estate/5821416-43-kalmar-ave-toronto-on-m1n3g2-vow'\n",
      " nan]\n",
      "full_address                   >>>>      [' 38 Grenville St, Toronto ' '2 Cabot Crt, Toronto '\n",
      " ' 30 Roehampton Ave, Toronto ' ... '6349 DEERMEADOW DRIVE Ottawa, ON'\n",
      " '212 ALVIN ROAD Ottawa, ON'\n",
      " 'BARTON Street BARTON Street Stoney Creek, ON']\n",
      "lat                            >>>>      [      nan 43.679882 43.25     ... 45.238155 45.453838 43.22007 ]\n",
      "long                           >>>>      [       nan -79.544266 -79.904396 ... -75.602249 -75.65004  -79.689835]\n",
      "city_district                  >>>>      [nan]\n"
     ]
    }
   ],
   "source": [
    "for col in hd.columns:\n",
    "    print(f'{col :30s} >>>>      {hd[col].unique()}')"
   ]
  },
  {
   "cell_type": "markdown",
   "metadata": {},
   "source": [
    "# Delete some features : Unnamed: 0, title, full_link "
   ]
  },
  {
   "cell_type": "code",
   "execution_count": 8,
   "metadata": {},
   "outputs": [],
   "source": [
    "hd = hd.drop(['title', 'full_link'], axis=1)"
   ]
  },
  {
   "cell_type": "code",
   "execution_count": 9,
   "metadata": {
    "scrolled": true
   },
   "outputs": [
    {
     "data": {
      "text/html": [
       "<div>\n",
       "<style scoped>\n",
       "    .dataframe tbody tr th:only-of-type {\n",
       "        vertical-align: middle;\n",
       "    }\n",
       "\n",
       "    .dataframe tbody tr th {\n",
       "        vertical-align: top;\n",
       "    }\n",
       "\n",
       "    .dataframe thead th {\n",
       "        text-align: right;\n",
       "    }\n",
       "</style>\n",
       "<table border=\"1\" class=\"dataframe\">\n",
       "  <thead>\n",
       "    <tr style=\"text-align: right;\">\n",
       "      <th></th>\n",
       "      <th>Unnamed: 0</th>\n",
       "      <th>final_price</th>\n",
       "      <th>list_price</th>\n",
       "      <th>bedrooms</th>\n",
       "      <th>bathrooms</th>\n",
       "      <th>sqft</th>\n",
       "      <th>parking</th>\n",
       "      <th>description</th>\n",
       "      <th>mls</th>\n",
       "      <th>type</th>\n",
       "      <th>full_address</th>\n",
       "      <th>lat</th>\n",
       "      <th>long</th>\n",
       "      <th>city_district</th>\n",
       "    </tr>\n",
       "  </thead>\n",
       "  <tbody>\n",
       "    <tr>\n",
       "      <td>0</td>\n",
       "      <td>0.0</td>\n",
       "      <td>855000.0</td>\n",
       "      <td>870000.0</td>\n",
       "      <td>2 + 1 beds</td>\n",
       "      <td>2 baths</td>\n",
       "      <td>800–899 sq. ft.</td>\n",
       "      <td>1 parking</td>\n",
       "      <td>Luxurious And Spacious Murano Tower. 2+1, 2 Ba...</td>\n",
       "      <td>C4461599</td>\n",
       "      <td>Condo</td>\n",
       "      <td>38 Grenville St, Toronto</td>\n",
       "      <td>NaN</td>\n",
       "      <td>NaN</td>\n",
       "      <td>NaN</td>\n",
       "    </tr>\n",
       "    <tr>\n",
       "      <td>1</td>\n",
       "      <td>1.0</td>\n",
       "      <td>885000.0</td>\n",
       "      <td>898000.0</td>\n",
       "      <td>3 beds</td>\n",
       "      <td>2 baths</td>\n",
       "      <td>N/A sq. ft.</td>\n",
       "      <td>6 parking</td>\n",
       "      <td>Fantastic Opportunity To Live Within The Histo...</td>\n",
       "      <td>W4502992</td>\n",
       "      <td>Semi-Detached</td>\n",
       "      <td>2 Cabot Crt, Toronto</td>\n",
       "      <td>NaN</td>\n",
       "      <td>NaN</td>\n",
       "      <td>NaN</td>\n",
       "    </tr>\n",
       "    <tr>\n",
       "      <td>2</td>\n",
       "      <td>2.0</td>\n",
       "      <td>550000.0</td>\n",
       "      <td>549900.0</td>\n",
       "      <td>1 beds</td>\n",
       "      <td>1 baths</td>\n",
       "      <td>500–599 sq. ft.</td>\n",
       "      <td>no parking</td>\n",
       "      <td>Bright Sunfilled Spacious 1 Bdr Unit; Floor To...</td>\n",
       "      <td>C4511330</td>\n",
       "      <td>Condo</td>\n",
       "      <td>30 Roehampton Ave, Toronto</td>\n",
       "      <td>NaN</td>\n",
       "      <td>NaN</td>\n",
       "      <td>NaN</td>\n",
       "    </tr>\n",
       "    <tr>\n",
       "      <td>3</td>\n",
       "      <td>3.0</td>\n",
       "      <td>665000.0</td>\n",
       "      <td>600000.0</td>\n",
       "      <td>1 + 1 beds</td>\n",
       "      <td>1 baths</td>\n",
       "      <td>600–699 sq. ft.</td>\n",
       "      <td>1 parking</td>\n",
       "      <td>Rare Loft-Like Condo In Liberty Village W/ 18'...</td>\n",
       "      <td>C4515763</td>\n",
       "      <td>Condo</td>\n",
       "      <td>65 East Liberty St, Toronto</td>\n",
       "      <td>NaN</td>\n",
       "      <td>NaN</td>\n",
       "      <td>NaN</td>\n",
       "    </tr>\n",
       "    <tr>\n",
       "      <td>4</td>\n",
       "      <td>4.0</td>\n",
       "      <td>825513.0</td>\n",
       "      <td>839000.0</td>\n",
       "      <td>2 beds</td>\n",
       "      <td>2 baths</td>\n",
       "      <td>N/A sq. ft.</td>\n",
       "      <td>1 parking</td>\n",
       "      <td>Location! Location! Location. Your Cottage In ...</td>\n",
       "      <td>W4519375</td>\n",
       "      <td>Detached</td>\n",
       "      <td>61 Twelfth St, Toronto</td>\n",
       "      <td>NaN</td>\n",
       "      <td>NaN</td>\n",
       "      <td>NaN</td>\n",
       "    </tr>\n",
       "  </tbody>\n",
       "</table>\n",
       "</div>"
      ],
      "text/plain": [
       "   Unnamed: 0  final_price  list_price    bedrooms bathrooms             sqft  \\\n",
       "0         0.0     855000.0    870000.0  2 + 1 beds   2 baths  800–899 sq. ft.   \n",
       "1         1.0     885000.0    898000.0      3 beds   2 baths      N/A sq. ft.   \n",
       "2         2.0     550000.0    549900.0      1 beds   1 baths  500–599 sq. ft.   \n",
       "3         3.0     665000.0    600000.0  1 + 1 beds   1 baths  600–699 sq. ft.   \n",
       "4         4.0     825513.0    839000.0      2 beds   2 baths      N/A sq. ft.   \n",
       "\n",
       "      parking                                        description       mls  \\\n",
       "0   1 parking  Luxurious And Spacious Murano Tower. 2+1, 2 Ba...  C4461599   \n",
       "1   6 parking  Fantastic Opportunity To Live Within The Histo...  W4502992   \n",
       "2  no parking  Bright Sunfilled Spacious 1 Bdr Unit; Floor To...  C4511330   \n",
       "3   1 parking  Rare Loft-Like Condo In Liberty Village W/ 18'...  C4515763   \n",
       "4   1 parking  Location! Location! Location. Your Cottage In ...  W4519375   \n",
       "\n",
       "            type                   full_address  lat  long  city_district  \n",
       "0          Condo      38 Grenville St, Toronto   NaN   NaN            NaN  \n",
       "1  Semi-Detached          2 Cabot Crt, Toronto   NaN   NaN            NaN  \n",
       "2          Condo    30 Roehampton Ave, Toronto   NaN   NaN            NaN  \n",
       "3          Condo   65 East Liberty St, Toronto   NaN   NaN            NaN  \n",
       "4       Detached        61 Twelfth St, Toronto   NaN   NaN            NaN  "
      ]
     },
     "execution_count": 9,
     "metadata": {},
     "output_type": "execute_result"
    }
   ],
   "source": [
    "hd.head(5)"
   ]
  },
  {
   "cell_type": "code",
   "execution_count": 10,
   "metadata": {},
   "outputs": [],
   "source": [
    "hd.rename({\"Unnamed: 0\":\"a\"}, axis=\"columns\", inplace=True)         "
   ]
  },
  {
   "cell_type": "code",
   "execution_count": 11,
   "metadata": {},
   "outputs": [],
   "source": [
    "hd.drop([\"a\"], axis=1, inplace=True)"
   ]
  },
  {
   "cell_type": "code",
   "execution_count": 12,
   "metadata": {
    "scrolled": true
   },
   "outputs": [
    {
     "data": {
      "text/html": [
       "<div>\n",
       "<style scoped>\n",
       "    .dataframe tbody tr th:only-of-type {\n",
       "        vertical-align: middle;\n",
       "    }\n",
       "\n",
       "    .dataframe tbody tr th {\n",
       "        vertical-align: top;\n",
       "    }\n",
       "\n",
       "    .dataframe thead th {\n",
       "        text-align: right;\n",
       "    }\n",
       "</style>\n",
       "<table border=\"1\" class=\"dataframe\">\n",
       "  <thead>\n",
       "    <tr style=\"text-align: right;\">\n",
       "      <th></th>\n",
       "      <th>final_price</th>\n",
       "      <th>list_price</th>\n",
       "      <th>bedrooms</th>\n",
       "      <th>bathrooms</th>\n",
       "      <th>sqft</th>\n",
       "      <th>parking</th>\n",
       "      <th>description</th>\n",
       "      <th>mls</th>\n",
       "      <th>type</th>\n",
       "      <th>full_address</th>\n",
       "      <th>lat</th>\n",
       "      <th>long</th>\n",
       "      <th>city_district</th>\n",
       "    </tr>\n",
       "  </thead>\n",
       "  <tbody>\n",
       "    <tr>\n",
       "      <td>0</td>\n",
       "      <td>855000.0</td>\n",
       "      <td>870000.0</td>\n",
       "      <td>2 + 1 beds</td>\n",
       "      <td>2 baths</td>\n",
       "      <td>800–899 sq. ft.</td>\n",
       "      <td>1 parking</td>\n",
       "      <td>Luxurious And Spacious Murano Tower. 2+1, 2 Ba...</td>\n",
       "      <td>C4461599</td>\n",
       "      <td>Condo</td>\n",
       "      <td>38 Grenville St, Toronto</td>\n",
       "      <td>NaN</td>\n",
       "      <td>NaN</td>\n",
       "      <td>NaN</td>\n",
       "    </tr>\n",
       "    <tr>\n",
       "      <td>1</td>\n",
       "      <td>885000.0</td>\n",
       "      <td>898000.0</td>\n",
       "      <td>3 beds</td>\n",
       "      <td>2 baths</td>\n",
       "      <td>N/A sq. ft.</td>\n",
       "      <td>6 parking</td>\n",
       "      <td>Fantastic Opportunity To Live Within The Histo...</td>\n",
       "      <td>W4502992</td>\n",
       "      <td>Semi-Detached</td>\n",
       "      <td>2 Cabot Crt, Toronto</td>\n",
       "      <td>NaN</td>\n",
       "      <td>NaN</td>\n",
       "      <td>NaN</td>\n",
       "    </tr>\n",
       "    <tr>\n",
       "      <td>2</td>\n",
       "      <td>550000.0</td>\n",
       "      <td>549900.0</td>\n",
       "      <td>1 beds</td>\n",
       "      <td>1 baths</td>\n",
       "      <td>500–599 sq. ft.</td>\n",
       "      <td>no parking</td>\n",
       "      <td>Bright Sunfilled Spacious 1 Bdr Unit; Floor To...</td>\n",
       "      <td>C4511330</td>\n",
       "      <td>Condo</td>\n",
       "      <td>30 Roehampton Ave, Toronto</td>\n",
       "      <td>NaN</td>\n",
       "      <td>NaN</td>\n",
       "      <td>NaN</td>\n",
       "    </tr>\n",
       "    <tr>\n",
       "      <td>3</td>\n",
       "      <td>665000.0</td>\n",
       "      <td>600000.0</td>\n",
       "      <td>1 + 1 beds</td>\n",
       "      <td>1 baths</td>\n",
       "      <td>600–699 sq. ft.</td>\n",
       "      <td>1 parking</td>\n",
       "      <td>Rare Loft-Like Condo In Liberty Village W/ 18'...</td>\n",
       "      <td>C4515763</td>\n",
       "      <td>Condo</td>\n",
       "      <td>65 East Liberty St, Toronto</td>\n",
       "      <td>NaN</td>\n",
       "      <td>NaN</td>\n",
       "      <td>NaN</td>\n",
       "    </tr>\n",
       "    <tr>\n",
       "      <td>4</td>\n",
       "      <td>825513.0</td>\n",
       "      <td>839000.0</td>\n",
       "      <td>2 beds</td>\n",
       "      <td>2 baths</td>\n",
       "      <td>N/A sq. ft.</td>\n",
       "      <td>1 parking</td>\n",
       "      <td>Location! Location! Location. Your Cottage In ...</td>\n",
       "      <td>W4519375</td>\n",
       "      <td>Detached</td>\n",
       "      <td>61 Twelfth St, Toronto</td>\n",
       "      <td>NaN</td>\n",
       "      <td>NaN</td>\n",
       "      <td>NaN</td>\n",
       "    </tr>\n",
       "  </tbody>\n",
       "</table>\n",
       "</div>"
      ],
      "text/plain": [
       "   final_price  list_price    bedrooms bathrooms             sqft     parking  \\\n",
       "0     855000.0    870000.0  2 + 1 beds   2 baths  800–899 sq. ft.   1 parking   \n",
       "1     885000.0    898000.0      3 beds   2 baths      N/A sq. ft.   6 parking   \n",
       "2     550000.0    549900.0      1 beds   1 baths  500–599 sq. ft.  no parking   \n",
       "3     665000.0    600000.0  1 + 1 beds   1 baths  600–699 sq. ft.   1 parking   \n",
       "4     825513.0    839000.0      2 beds   2 baths      N/A sq. ft.   1 parking   \n",
       "\n",
       "                                         description       mls           type  \\\n",
       "0  Luxurious And Spacious Murano Tower. 2+1, 2 Ba...  C4461599          Condo   \n",
       "1  Fantastic Opportunity To Live Within The Histo...  W4502992  Semi-Detached   \n",
       "2  Bright Sunfilled Spacious 1 Bdr Unit; Floor To...  C4511330          Condo   \n",
       "3  Rare Loft-Like Condo In Liberty Village W/ 18'...  C4515763          Condo   \n",
       "4  Location! Location! Location. Your Cottage In ...  W4519375       Detached   \n",
       "\n",
       "                    full_address  lat  long  city_district  \n",
       "0      38 Grenville St, Toronto   NaN   NaN            NaN  \n",
       "1          2 Cabot Crt, Toronto   NaN   NaN            NaN  \n",
       "2    30 Roehampton Ave, Toronto   NaN   NaN            NaN  \n",
       "3   65 East Liberty St, Toronto   NaN   NaN            NaN  \n",
       "4        61 Twelfth St, Toronto   NaN   NaN            NaN  "
      ]
     },
     "execution_count": 12,
     "metadata": {},
     "output_type": "execute_result"
    }
   ],
   "source": [
    "hd.head(5)"
   ]
  },
  {
   "cell_type": "markdown",
   "metadata": {},
   "source": [
    "# Rename Columns"
   ]
  },
  {
   "cell_type": "code",
   "execution_count": 13,
   "metadata": {},
   "outputs": [],
   "source": [
    "hd.rename({\"final_price\":\"Price\"}, axis=\"columns\", inplace=True) \n",
    "hd.rename({\"list_price\":\"Listing Price\"}, axis=\"columns\", inplace=True)\n",
    "hd.rename({\"bedrooms\":\"Number of Bedrooms\"}, axis=\"columns\", inplace=True) \n",
    "hd.rename({\"bathrooms\":\"Number of Bathrooms\"}, axis=\"columns\", inplace=True) \n",
    "hd.rename({\"sqft\":\"Square Feet\"}, axis=\"columns\", inplace=True) \n",
    "hd.rename({\"parking\":\"Number of Parking Spaces\"}, axis=\"columns\", inplace=True) \n",
    "hd.rename({\"description\":\"Description\"}, axis=\"columns\", inplace=True) \n",
    "hd.rename({\"mls\":\"MLS\"}, axis=\"columns\", inplace=True) \n",
    "hd.rename({\"mls\":\"MLS\"}, axis=\"columns\", inplace=True)\n",
    "hd.rename({\"type\":\"Building Type\"}, axis=\"columns\", inplace=True) \n",
    "hd.rename({\"full_address\":\"Address\"}, axis=\"columns\", inplace=True) \n",
    "hd.rename({\"lat\":\"Latitude\"}, axis=\"columns\", inplace=True) \n",
    "hd.rename({\"long\":\"Longitude\"}, axis=\"columns\", inplace=True)\n",
    "hd.rename({\"city_district\":\"City District\"}, axis=\"columns\", inplace=True)"
   ]
  },
  {
   "cell_type": "code",
   "execution_count": 14,
   "metadata": {
    "scrolled": false
   },
   "outputs": [
    {
     "data": {
      "text/html": [
       "<div>\n",
       "<style scoped>\n",
       "    .dataframe tbody tr th:only-of-type {\n",
       "        vertical-align: middle;\n",
       "    }\n",
       "\n",
       "    .dataframe tbody tr th {\n",
       "        vertical-align: top;\n",
       "    }\n",
       "\n",
       "    .dataframe thead th {\n",
       "        text-align: right;\n",
       "    }\n",
       "</style>\n",
       "<table border=\"1\" class=\"dataframe\">\n",
       "  <thead>\n",
       "    <tr style=\"text-align: right;\">\n",
       "      <th></th>\n",
       "      <th>Price</th>\n",
       "      <th>Listing Price</th>\n",
       "      <th>Number of Bedrooms</th>\n",
       "      <th>Number of Bathrooms</th>\n",
       "      <th>Square Feet</th>\n",
       "      <th>Number of Parking Spaces</th>\n",
       "      <th>Description</th>\n",
       "      <th>MLS</th>\n",
       "      <th>Building Type</th>\n",
       "      <th>Address</th>\n",
       "      <th>Latitude</th>\n",
       "      <th>Longitude</th>\n",
       "      <th>City District</th>\n",
       "    </tr>\n",
       "  </thead>\n",
       "  <tbody>\n",
       "    <tr>\n",
       "      <td>0</td>\n",
       "      <td>855000.0</td>\n",
       "      <td>870000.0</td>\n",
       "      <td>2 + 1 beds</td>\n",
       "      <td>2 baths</td>\n",
       "      <td>800–899 sq. ft.</td>\n",
       "      <td>1 parking</td>\n",
       "      <td>Luxurious And Spacious Murano Tower. 2+1, 2 Ba...</td>\n",
       "      <td>C4461599</td>\n",
       "      <td>Condo</td>\n",
       "      <td>38 Grenville St, Toronto</td>\n",
       "      <td>NaN</td>\n",
       "      <td>NaN</td>\n",
       "      <td>NaN</td>\n",
       "    </tr>\n",
       "    <tr>\n",
       "      <td>1</td>\n",
       "      <td>885000.0</td>\n",
       "      <td>898000.0</td>\n",
       "      <td>3 beds</td>\n",
       "      <td>2 baths</td>\n",
       "      <td>N/A sq. ft.</td>\n",
       "      <td>6 parking</td>\n",
       "      <td>Fantastic Opportunity To Live Within The Histo...</td>\n",
       "      <td>W4502992</td>\n",
       "      <td>Semi-Detached</td>\n",
       "      <td>2 Cabot Crt, Toronto</td>\n",
       "      <td>NaN</td>\n",
       "      <td>NaN</td>\n",
       "      <td>NaN</td>\n",
       "    </tr>\n",
       "    <tr>\n",
       "      <td>2</td>\n",
       "      <td>550000.0</td>\n",
       "      <td>549900.0</td>\n",
       "      <td>1 beds</td>\n",
       "      <td>1 baths</td>\n",
       "      <td>500–599 sq. ft.</td>\n",
       "      <td>no parking</td>\n",
       "      <td>Bright Sunfilled Spacious 1 Bdr Unit; Floor To...</td>\n",
       "      <td>C4511330</td>\n",
       "      <td>Condo</td>\n",
       "      <td>30 Roehampton Ave, Toronto</td>\n",
       "      <td>NaN</td>\n",
       "      <td>NaN</td>\n",
       "      <td>NaN</td>\n",
       "    </tr>\n",
       "    <tr>\n",
       "      <td>3</td>\n",
       "      <td>665000.0</td>\n",
       "      <td>600000.0</td>\n",
       "      <td>1 + 1 beds</td>\n",
       "      <td>1 baths</td>\n",
       "      <td>600–699 sq. ft.</td>\n",
       "      <td>1 parking</td>\n",
       "      <td>Rare Loft-Like Condo In Liberty Village W/ 18'...</td>\n",
       "      <td>C4515763</td>\n",
       "      <td>Condo</td>\n",
       "      <td>65 East Liberty St, Toronto</td>\n",
       "      <td>NaN</td>\n",
       "      <td>NaN</td>\n",
       "      <td>NaN</td>\n",
       "    </tr>\n",
       "    <tr>\n",
       "      <td>4</td>\n",
       "      <td>825513.0</td>\n",
       "      <td>839000.0</td>\n",
       "      <td>2 beds</td>\n",
       "      <td>2 baths</td>\n",
       "      <td>N/A sq. ft.</td>\n",
       "      <td>1 parking</td>\n",
       "      <td>Location! Location! Location. Your Cottage In ...</td>\n",
       "      <td>W4519375</td>\n",
       "      <td>Detached</td>\n",
       "      <td>61 Twelfth St, Toronto</td>\n",
       "      <td>NaN</td>\n",
       "      <td>NaN</td>\n",
       "      <td>NaN</td>\n",
       "    </tr>\n",
       "  </tbody>\n",
       "</table>\n",
       "</div>"
      ],
      "text/plain": [
       "      Price  Listing Price Number of Bedrooms Number of Bathrooms  \\\n",
       "0  855000.0       870000.0         2 + 1 beds             2 baths   \n",
       "1  885000.0       898000.0             3 beds             2 baths   \n",
       "2  550000.0       549900.0             1 beds             1 baths   \n",
       "3  665000.0       600000.0         1 + 1 beds             1 baths   \n",
       "4  825513.0       839000.0             2 beds             2 baths   \n",
       "\n",
       "       Square Feet Number of Parking Spaces  \\\n",
       "0  800–899 sq. ft.                1 parking   \n",
       "1      N/A sq. ft.                6 parking   \n",
       "2  500–599 sq. ft.               no parking   \n",
       "3  600–699 sq. ft.                1 parking   \n",
       "4      N/A sq. ft.                1 parking   \n",
       "\n",
       "                                         Description       MLS  Building Type  \\\n",
       "0  Luxurious And Spacious Murano Tower. 2+1, 2 Ba...  C4461599          Condo   \n",
       "1  Fantastic Opportunity To Live Within The Histo...  W4502992  Semi-Detached   \n",
       "2  Bright Sunfilled Spacious 1 Bdr Unit; Floor To...  C4511330          Condo   \n",
       "3  Rare Loft-Like Condo In Liberty Village W/ 18'...  C4515763          Condo   \n",
       "4  Location! Location! Location. Your Cottage In ...  W4519375       Detached   \n",
       "\n",
       "                         Address  Latitude  Longitude  City District  \n",
       "0      38 Grenville St, Toronto        NaN        NaN            NaN  \n",
       "1          2 Cabot Crt, Toronto        NaN        NaN            NaN  \n",
       "2    30 Roehampton Ave, Toronto        NaN        NaN            NaN  \n",
       "3   65 East Liberty St, Toronto        NaN        NaN            NaN  \n",
       "4        61 Twelfth St, Toronto        NaN        NaN            NaN  "
      ]
     },
     "execution_count": 14,
     "metadata": {},
     "output_type": "execute_result"
    }
   ],
   "source": [
    "hd.head(5)"
   ]
  },
  {
   "cell_type": "code",
   "execution_count": 15,
   "metadata": {
    "scrolled": false
   },
   "outputs": [
    {
     "data": {
      "text/plain": [
       "Price                       float64\n",
       "Listing Price               float64\n",
       "Number of Bedrooms           object\n",
       "Number of Bathrooms          object\n",
       "Square Feet                  object\n",
       "Number of Parking Spaces     object\n",
       "Description                  object\n",
       "MLS                          object\n",
       "Building Type                object\n",
       "Address                      object\n",
       "Latitude                    float64\n",
       "Longitude                   float64\n",
       "City District               float64\n",
       "dtype: object"
      ]
     },
     "execution_count": 15,
     "metadata": {},
     "output_type": "execute_result"
    }
   ],
   "source": [
    "hd.dtypes"
   ]
  },
  {
   "cell_type": "markdown",
   "metadata": {},
   "source": [
    "# Missing Values:"
   ]
  },
  {
   "cell_type": "code",
   "execution_count": 16,
   "metadata": {},
   "outputs": [
    {
     "data": {
      "text/html": [
       "<div>\n",
       "<style scoped>\n",
       "    .dataframe tbody tr th:only-of-type {\n",
       "        vertical-align: middle;\n",
       "    }\n",
       "\n",
       "    .dataframe tbody tr th {\n",
       "        vertical-align: top;\n",
       "    }\n",
       "\n",
       "    .dataframe thead th {\n",
       "        text-align: right;\n",
       "    }\n",
       "</style>\n",
       "<table border=\"1\" class=\"dataframe\">\n",
       "  <thead>\n",
       "    <tr style=\"text-align: right;\">\n",
       "      <th></th>\n",
       "      <th>Price</th>\n",
       "      <th>Listing Price</th>\n",
       "      <th>Number of Bedrooms</th>\n",
       "      <th>Number of Bathrooms</th>\n",
       "      <th>Square Feet</th>\n",
       "      <th>Number of Parking Spaces</th>\n",
       "      <th>Description</th>\n",
       "      <th>MLS</th>\n",
       "      <th>Building Type</th>\n",
       "      <th>Address</th>\n",
       "      <th>Latitude</th>\n",
       "      <th>Longitude</th>\n",
       "      <th>City District</th>\n",
       "    </tr>\n",
       "  </thead>\n",
       "  <tbody>\n",
       "    <tr>\n",
       "      <td>0</td>\n",
       "      <td>False</td>\n",
       "      <td>False</td>\n",
       "      <td>False</td>\n",
       "      <td>False</td>\n",
       "      <td>False</td>\n",
       "      <td>False</td>\n",
       "      <td>False</td>\n",
       "      <td>False</td>\n",
       "      <td>False</td>\n",
       "      <td>False</td>\n",
       "      <td>True</td>\n",
       "      <td>True</td>\n",
       "      <td>True</td>\n",
       "    </tr>\n",
       "    <tr>\n",
       "      <td>1</td>\n",
       "      <td>False</td>\n",
       "      <td>False</td>\n",
       "      <td>False</td>\n",
       "      <td>False</td>\n",
       "      <td>False</td>\n",
       "      <td>False</td>\n",
       "      <td>False</td>\n",
       "      <td>False</td>\n",
       "      <td>False</td>\n",
       "      <td>False</td>\n",
       "      <td>True</td>\n",
       "      <td>True</td>\n",
       "      <td>True</td>\n",
       "    </tr>\n",
       "    <tr>\n",
       "      <td>2</td>\n",
       "      <td>False</td>\n",
       "      <td>False</td>\n",
       "      <td>False</td>\n",
       "      <td>False</td>\n",
       "      <td>False</td>\n",
       "      <td>False</td>\n",
       "      <td>False</td>\n",
       "      <td>False</td>\n",
       "      <td>False</td>\n",
       "      <td>False</td>\n",
       "      <td>True</td>\n",
       "      <td>True</td>\n",
       "      <td>True</td>\n",
       "    </tr>\n",
       "    <tr>\n",
       "      <td>3</td>\n",
       "      <td>False</td>\n",
       "      <td>False</td>\n",
       "      <td>False</td>\n",
       "      <td>False</td>\n",
       "      <td>False</td>\n",
       "      <td>False</td>\n",
       "      <td>False</td>\n",
       "      <td>False</td>\n",
       "      <td>False</td>\n",
       "      <td>False</td>\n",
       "      <td>True</td>\n",
       "      <td>True</td>\n",
       "      <td>True</td>\n",
       "    </tr>\n",
       "    <tr>\n",
       "      <td>4</td>\n",
       "      <td>False</td>\n",
       "      <td>False</td>\n",
       "      <td>False</td>\n",
       "      <td>False</td>\n",
       "      <td>False</td>\n",
       "      <td>False</td>\n",
       "      <td>False</td>\n",
       "      <td>False</td>\n",
       "      <td>False</td>\n",
       "      <td>False</td>\n",
       "      <td>True</td>\n",
       "      <td>True</td>\n",
       "      <td>True</td>\n",
       "    </tr>\n",
       "  </tbody>\n",
       "</table>\n",
       "</div>"
      ],
      "text/plain": [
       "   Price  Listing Price  Number of Bedrooms  Number of Bathrooms  Square Feet  \\\n",
       "0  False          False               False                False        False   \n",
       "1  False          False               False                False        False   \n",
       "2  False          False               False                False        False   \n",
       "3  False          False               False                False        False   \n",
       "4  False          False               False                False        False   \n",
       "\n",
       "   Number of Parking Spaces  Description    MLS  Building Type  Address  \\\n",
       "0                     False        False  False          False    False   \n",
       "1                     False        False  False          False    False   \n",
       "2                     False        False  False          False    False   \n",
       "3                     False        False  False          False    False   \n",
       "4                     False        False  False          False    False   \n",
       "\n",
       "   Latitude  Longitude  City District  \n",
       "0      True       True           True  \n",
       "1      True       True           True  \n",
       "2      True       True           True  \n",
       "3      True       True           True  \n",
       "4      True       True           True  "
      ]
     },
     "execution_count": 16,
     "metadata": {},
     "output_type": "execute_result"
    }
   ],
   "source": [
    "missing_data = hd.isnull()\n",
    "missing_data.head(5)"
   ]
  },
  {
   "cell_type": "code",
   "execution_count": 17,
   "metadata": {},
   "outputs": [
    {
     "name": "stdout",
     "output_type": "stream",
     "text": [
      "Price\n",
      "False    42756\n",
      "True       126\n",
      "Name: Price, dtype: int64\n",
      "\n",
      "Listing Price\n",
      "True     25477\n",
      "False    17405\n",
      "Name: Listing Price, dtype: int64\n",
      "\n",
      "Number of Bedrooms\n",
      "True     25477\n",
      "False    17405\n",
      "Name: Number of Bedrooms, dtype: int64\n",
      "\n",
      "Number of Bathrooms\n",
      "True     25477\n",
      "False    17405\n",
      "Name: Number of Bathrooms, dtype: int64\n",
      "\n",
      "Square Feet\n",
      "True     25477\n",
      "False    17405\n",
      "Name: Square Feet, dtype: int64\n",
      "\n",
      "Number of Parking Spaces\n",
      "True     25477\n",
      "False    17405\n",
      "Name: Number of Parking Spaces, dtype: int64\n",
      "\n",
      "Description\n",
      "True     25537\n",
      "False    17345\n",
      "Name: Description, dtype: int64\n",
      "\n",
      "MLS\n",
      "True     25351\n",
      "False    17531\n",
      "Name: MLS, dtype: int64\n",
      "\n",
      "Building Type\n",
      "True     25477\n",
      "False    17405\n",
      "Name: Building Type, dtype: int64\n",
      "\n",
      "Address\n",
      "False    42696\n",
      "True       186\n",
      "Name: Address, dtype: int64\n",
      "\n",
      "Latitude\n",
      "False    25351\n",
      "True     17531\n",
      "Name: Latitude, dtype: int64\n",
      "\n",
      "Longitude\n",
      "False    25351\n",
      "True     17531\n",
      "Name: Longitude, dtype: int64\n",
      "\n",
      "City District\n",
      "True    42882\n",
      "Name: City District, dtype: int64\n",
      "\n"
     ]
    }
   ],
   "source": [
    "for column in missing_data.columns.values.tolist():\n",
    "  print(column)\n",
    "  print(missing_data[column].value_counts())\n",
    "  print('')"
   ]
  },
  {
   "cell_type": "markdown",
   "metadata": {},
   "source": [
    "# Correct Types of Features:"
   ]
  },
  {
   "cell_type": "markdown",
   "metadata": {},
   "source": [
    "# Changing Number of Bedrooms from categorical to numeric"
   ]
  },
  {
   "cell_type": "code",
   "execution_count": 18,
   "metadata": {},
   "outputs": [
    {
     "data": {
      "text/plain": [
       "count      17405\n",
       "unique        48\n",
       "top       2 beds\n",
       "freq        3314\n",
       "Name: Number of Bedrooms, dtype: object"
      ]
     },
     "execution_count": 18,
     "metadata": {},
     "output_type": "execute_result"
    }
   ],
   "source": [
    "hd['Number of Bedrooms']. describe()"
   ]
  },
  {
   "cell_type": "code",
   "execution_count": 19,
   "metadata": {},
   "outputs": [
    {
     "data": {
      "text/plain": [
       "array(['2 + 1 beds', '3 beds', '1 beds', '1 + 1 beds', '2 beds', '0 beds',\n",
       "       '4 beds', '3 + 1 beds', '4 + 2 beds', '2 + 3 beds', '4 + 1 beds',\n",
       "       '3 + 2 beds', '3 + 3 beds', '5 beds', '4 + 3 beds', '5 + 1 beds',\n",
       "       nan, '2 + 2 beds', '5 + 2 beds', '6 + 2 beds', '6 + 1 beds',\n",
       "       '6 beds', '1 + 2 beds', '0 + 1 beds', '3 + 4 beds', '5 + 3 beds',\n",
       "       '8 + 3 beds', '8 beds', '6 + 3 beds', '4 + 4 beds', '7 + 3 beds',\n",
       "       '7 + 1 beds', '9 + 5 beds', '9 + 3 beds', '7 + 4 beds', '9 beds',\n",
       "       '9 + 1 beds', '9 + 2 beds', '5 + 5 beds', '4 + 5 beds',\n",
       "       '8 + 2 beds', '7 beds', '6 + 4 beds', '4 + 6 beds', '5 + 6 beds',\n",
       "       '8 + 4 beds', '9 + 4 beds', '7 + 2 beds', '2 + 4 beds'],\n",
       "      dtype=object)"
      ]
     },
     "execution_count": 19,
     "metadata": {},
     "output_type": "execute_result"
    }
   ],
   "source": [
    "hd['Number of Bedrooms'].unique()"
   ]
  },
  {
   "cell_type": "code",
   "execution_count": 20,
   "metadata": {},
   "outputs": [],
   "source": [
    "hd['Number of Bedrooms'] = hd['Number of Bedrooms'].replace('beds', ' ', regex=True)"
   ]
  },
  {
   "cell_type": "code",
   "execution_count": 21,
   "metadata": {
    "scrolled": true
   },
   "outputs": [
    {
     "data": {
      "text/html": [
       "<div>\n",
       "<style scoped>\n",
       "    .dataframe tbody tr th:only-of-type {\n",
       "        vertical-align: middle;\n",
       "    }\n",
       "\n",
       "    .dataframe tbody tr th {\n",
       "        vertical-align: top;\n",
       "    }\n",
       "\n",
       "    .dataframe thead th {\n",
       "        text-align: right;\n",
       "    }\n",
       "</style>\n",
       "<table border=\"1\" class=\"dataframe\">\n",
       "  <thead>\n",
       "    <tr style=\"text-align: right;\">\n",
       "      <th></th>\n",
       "      <th>Price</th>\n",
       "      <th>Listing Price</th>\n",
       "      <th>Number of Bedrooms</th>\n",
       "      <th>Number of Bathrooms</th>\n",
       "      <th>Square Feet</th>\n",
       "      <th>Number of Parking Spaces</th>\n",
       "      <th>Description</th>\n",
       "      <th>MLS</th>\n",
       "      <th>Building Type</th>\n",
       "      <th>Address</th>\n",
       "      <th>Latitude</th>\n",
       "      <th>Longitude</th>\n",
       "      <th>City District</th>\n",
       "    </tr>\n",
       "  </thead>\n",
       "  <tbody>\n",
       "    <tr>\n",
       "      <td>0</td>\n",
       "      <td>855000.0</td>\n",
       "      <td>870000.0</td>\n",
       "      <td>2 + 1</td>\n",
       "      <td>2 baths</td>\n",
       "      <td>800–899 sq. ft.</td>\n",
       "      <td>1 parking</td>\n",
       "      <td>Luxurious And Spacious Murano Tower. 2+1, 2 Ba...</td>\n",
       "      <td>C4461599</td>\n",
       "      <td>Condo</td>\n",
       "      <td>38 Grenville St, Toronto</td>\n",
       "      <td>NaN</td>\n",
       "      <td>NaN</td>\n",
       "      <td>NaN</td>\n",
       "    </tr>\n",
       "    <tr>\n",
       "      <td>1</td>\n",
       "      <td>885000.0</td>\n",
       "      <td>898000.0</td>\n",
       "      <td>3</td>\n",
       "      <td>2 baths</td>\n",
       "      <td>N/A sq. ft.</td>\n",
       "      <td>6 parking</td>\n",
       "      <td>Fantastic Opportunity To Live Within The Histo...</td>\n",
       "      <td>W4502992</td>\n",
       "      <td>Semi-Detached</td>\n",
       "      <td>2 Cabot Crt, Toronto</td>\n",
       "      <td>NaN</td>\n",
       "      <td>NaN</td>\n",
       "      <td>NaN</td>\n",
       "    </tr>\n",
       "    <tr>\n",
       "      <td>2</td>\n",
       "      <td>550000.0</td>\n",
       "      <td>549900.0</td>\n",
       "      <td>1</td>\n",
       "      <td>1 baths</td>\n",
       "      <td>500–599 sq. ft.</td>\n",
       "      <td>no parking</td>\n",
       "      <td>Bright Sunfilled Spacious 1 Bdr Unit; Floor To...</td>\n",
       "      <td>C4511330</td>\n",
       "      <td>Condo</td>\n",
       "      <td>30 Roehampton Ave, Toronto</td>\n",
       "      <td>NaN</td>\n",
       "      <td>NaN</td>\n",
       "      <td>NaN</td>\n",
       "    </tr>\n",
       "    <tr>\n",
       "      <td>3</td>\n",
       "      <td>665000.0</td>\n",
       "      <td>600000.0</td>\n",
       "      <td>1 + 1</td>\n",
       "      <td>1 baths</td>\n",
       "      <td>600–699 sq. ft.</td>\n",
       "      <td>1 parking</td>\n",
       "      <td>Rare Loft-Like Condo In Liberty Village W/ 18'...</td>\n",
       "      <td>C4515763</td>\n",
       "      <td>Condo</td>\n",
       "      <td>65 East Liberty St, Toronto</td>\n",
       "      <td>NaN</td>\n",
       "      <td>NaN</td>\n",
       "      <td>NaN</td>\n",
       "    </tr>\n",
       "    <tr>\n",
       "      <td>4</td>\n",
       "      <td>825513.0</td>\n",
       "      <td>839000.0</td>\n",
       "      <td>2</td>\n",
       "      <td>2 baths</td>\n",
       "      <td>N/A sq. ft.</td>\n",
       "      <td>1 parking</td>\n",
       "      <td>Location! Location! Location. Your Cottage In ...</td>\n",
       "      <td>W4519375</td>\n",
       "      <td>Detached</td>\n",
       "      <td>61 Twelfth St, Toronto</td>\n",
       "      <td>NaN</td>\n",
       "      <td>NaN</td>\n",
       "      <td>NaN</td>\n",
       "    </tr>\n",
       "  </tbody>\n",
       "</table>\n",
       "</div>"
      ],
      "text/plain": [
       "      Price  Listing Price Number of Bedrooms Number of Bathrooms  \\\n",
       "0  855000.0       870000.0            2 + 1               2 baths   \n",
       "1  885000.0       898000.0                3               2 baths   \n",
       "2  550000.0       549900.0                1               1 baths   \n",
       "3  665000.0       600000.0            1 + 1               1 baths   \n",
       "4  825513.0       839000.0                2               2 baths   \n",
       "\n",
       "       Square Feet Number of Parking Spaces  \\\n",
       "0  800–899 sq. ft.                1 parking   \n",
       "1      N/A sq. ft.                6 parking   \n",
       "2  500–599 sq. ft.               no parking   \n",
       "3  600–699 sq. ft.                1 parking   \n",
       "4      N/A sq. ft.                1 parking   \n",
       "\n",
       "                                         Description       MLS  Building Type  \\\n",
       "0  Luxurious And Spacious Murano Tower. 2+1, 2 Ba...  C4461599          Condo   \n",
       "1  Fantastic Opportunity To Live Within The Histo...  W4502992  Semi-Detached   \n",
       "2  Bright Sunfilled Spacious 1 Bdr Unit; Floor To...  C4511330          Condo   \n",
       "3  Rare Loft-Like Condo In Liberty Village W/ 18'...  C4515763          Condo   \n",
       "4  Location! Location! Location. Your Cottage In ...  W4519375       Detached   \n",
       "\n",
       "                         Address  Latitude  Longitude  City District  \n",
       "0      38 Grenville St, Toronto        NaN        NaN            NaN  \n",
       "1          2 Cabot Crt, Toronto        NaN        NaN            NaN  \n",
       "2    30 Roehampton Ave, Toronto        NaN        NaN            NaN  \n",
       "3   65 East Liberty St, Toronto        NaN        NaN            NaN  \n",
       "4        61 Twelfth St, Toronto        NaN        NaN            NaN  "
      ]
     },
     "execution_count": 21,
     "metadata": {},
     "output_type": "execute_result"
    }
   ],
   "source": [
    "hd.head(5)"
   ]
  },
  {
   "cell_type": "code",
   "execution_count": 22,
   "metadata": {},
   "outputs": [
    {
     "data": {
      "text/plain": [
       "array(['2 + 1  ', '3  ', '1  ', '1 + 1  ', '2  ', '0  ', '4  ', '3 + 1  ',\n",
       "       '4 + 2  ', '2 + 3  ', '4 + 1  ', '3 + 2  ', '3 + 3  ', '5  ',\n",
       "       '4 + 3  ', '5 + 1  ', nan, '2 + 2  ', '5 + 2  ', '6 + 2  ',\n",
       "       '6 + 1  ', '6  ', '1 + 2  ', '0 + 1  ', '3 + 4  ', '5 + 3  ',\n",
       "       '8 + 3  ', '8  ', '6 + 3  ', '4 + 4  ', '7 + 3  ', '7 + 1  ',\n",
       "       '9 + 5  ', '9 + 3  ', '7 + 4  ', '9  ', '9 + 1  ', '9 + 2  ',\n",
       "       '5 + 5  ', '4 + 5  ', '8 + 2  ', '7  ', '6 + 4  ', '4 + 6  ',\n",
       "       '5 + 6  ', '8 + 4  ', '9 + 4  ', '7 + 2  ', '2 + 4  '],\n",
       "      dtype=object)"
      ]
     },
     "execution_count": 22,
     "metadata": {},
     "output_type": "execute_result"
    }
   ],
   "source": [
    "hd['Number of Bedrooms'].unique()"
   ]
  },
  {
   "cell_type": "code",
   "execution_count": 23,
   "metadata": {},
   "outputs": [],
   "source": [
    "hd['Number of Bedrooms'] = hd['Number of Bedrooms'].replace('2 + 1  ', 3)\n",
    "hd['Number of Bedrooms'] = hd['Number of Bedrooms'].replace('3  ', 3)\n",
    "hd['Number of Bedrooms'] = hd['Number of Bedrooms'].replace('1 + 1  ', 2)\n",
    "hd['Number of Bedrooms'] = hd['Number of Bedrooms'].replace('3 + 1  ', 4)\n",
    "hd['Number of Bedrooms'] = hd['Number of Bedrooms'].replace('4 + 2  ', 6)\n",
    "hd['Number of Bedrooms'] = hd['Number of Bedrooms'].replace('2 + 3  ', 5)\n",
    "hd['Number of Bedrooms'] = hd['Number of Bedrooms'].replace('4 + 1  ', 5)\n",
    "hd['Number of Bedrooms'] = hd['Number of Bedrooms'].replace('3 + 2  ', 5)\n",
    "hd['Number of Bedrooms'] = hd['Number of Bedrooms'].replace('3 + 3  ', 6)\n",
    "hd['Number of Bedrooms'] = hd['Number of Bedrooms'].replace('4 + 3  ', 7)\n",
    "hd['Number of Bedrooms'] = hd['Number of Bedrooms'].replace('5 + 1  ', 6)\n",
    "hd['Number of Bedrooms'] = hd['Number of Bedrooms'].replace('2 + 2  ', 4)\n",
    "hd['Number of Bedrooms'] = hd['Number of Bedrooms'].replace('5 + 2  ', 7)\n",
    "hd['Number of Bedrooms'] = hd['Number of Bedrooms'].replace('6 + 2  ', 8)\n",
    "hd['Number of Bedrooms'] = hd['Number of Bedrooms'].replace('6 + 1  ', 7)\n",
    "hd['Number of Bedrooms'] = hd['Number of Bedrooms'].replace('1 + 2  ', 3)\n",
    "hd['Number of Bedrooms'] = hd['Number of Bedrooms'].replace('0 + 1  ', 1)\n",
    "hd['Number of Bedrooms'] = hd['Number of Bedrooms'].replace('3 + 4  ', 7)\n",
    "hd['Number of Bedrooms'] = hd['Number of Bedrooms'].replace('5 + 3  ', 8)\n",
    "hd['Number of Bedrooms'] = hd['Number of Bedrooms'].replace('8 + 3  ', 11)\n",
    "hd['Number of Bedrooms'] = hd['Number of Bedrooms'].replace('6 + 3  ', 9)\n",
    "hd['Number of Bedrooms'] = hd['Number of Bedrooms'].replace('4 + 4  ', 8)\n",
    "hd['Number of Bedrooms'] = hd['Number of Bedrooms'].replace('7 + 3  ', 10)\n",
    "hd['Number of Bedrooms'] = hd['Number of Bedrooms'].replace('7 + 1  ', 8)\n",
    "hd['Number of Bedrooms'] = hd['Number of Bedrooms'].replace('9 + 5  ', 14)\n",
    "hd['Number of Bedrooms'] = hd['Number of Bedrooms'].replace('9 + 3  ', 12)\n",
    "hd['Number of Bedrooms'] = hd['Number of Bedrooms'].replace('7 + 4  ', 11)\n",
    "hd['Number of Bedrooms'] = hd['Number of Bedrooms'].replace('9 + 1  ', 10)\n",
    "hd['Number of Bedrooms'] = hd['Number of Bedrooms'].replace('9 + 2  ', 11)\n",
    "hd['Number of Bedrooms'] = hd['Number of Bedrooms'].replace('5 + 5  ', 10)\n",
    "hd['Number of Bedrooms'] = hd['Number of Bedrooms'].replace('4 + 5  ', 9)\n",
    "hd['Number of Bedrooms'] = hd['Number of Bedrooms'].replace('8 + 2  ', 10)\n",
    "hd['Number of Bedrooms'] = hd['Number of Bedrooms'].replace('6 + 4  ', 10)\n",
    "hd['Number of Bedrooms'] = hd['Number of Bedrooms'].replace('4 + 6  ', 10)\n",
    "hd['Number of Bedrooms'] = hd['Number of Bedrooms'].replace('5 + 6  ', 10)\n",
    "hd['Number of Bedrooms'] = hd['Number of Bedrooms'].replace('8 + 4  ', 12)\n",
    "hd['Number of Bedrooms'] = hd['Number of Bedrooms'].replace('9 + 4  ', 13)\n",
    "hd['Number of Bedrooms'] = hd['Number of Bedrooms'].replace('7 + 2  ', 9)\n",
    "hd['Number of Bedrooms'] = hd['Number of Bedrooms'].replace('2 + 4  ', 6)\n",
    "\n"
   ]
  },
  {
   "cell_type": "code",
   "execution_count": 24,
   "metadata": {},
   "outputs": [
    {
     "data": {
      "text/plain": [
       "array([3, '1  ', 2, '2  ', '0  ', '4  ', 4, 6, 5, '5  ', 7, nan, 8, '6  ',\n",
       "       1, 11, '8  ', 9, 10, 14, 12, '9  ', '7  ', 13], dtype=object)"
      ]
     },
     "execution_count": 24,
     "metadata": {},
     "output_type": "execute_result"
    }
   ],
   "source": [
    "hd['Number of Bedrooms'].unique()"
   ]
  },
  {
   "cell_type": "code",
   "execution_count": 25,
   "metadata": {},
   "outputs": [
    {
     "data": {
      "text/plain": [
       "0        3.0\n",
       "1        3.0\n",
       "2        1.0\n",
       "3        2.0\n",
       "4        2.0\n",
       "        ... \n",
       "42877    NaN\n",
       "42878    NaN\n",
       "42879    NaN\n",
       "42880    NaN\n",
       "42881    NaN\n",
       "Name: Number of Bedrooms, Length: 42882, dtype: float64"
      ]
     },
     "execution_count": 25,
     "metadata": {},
     "output_type": "execute_result"
    }
   ],
   "source": [
    "hd['Number of Bedrooms'].astype('float')"
   ]
  },
  {
   "cell_type": "code",
   "execution_count": 26,
   "metadata": {},
   "outputs": [],
   "source": [
    "hd['Number of Bedrooms'] = pd.to_numeric(hd['Number of Bedrooms'], errors='coerce')"
   ]
  },
  {
   "cell_type": "markdown",
   "metadata": {},
   "source": [
    "Now Type of Number of Bedrooms is float64 instead of object"
   ]
  },
  {
   "cell_type": "code",
   "execution_count": 27,
   "metadata": {},
   "outputs": [
    {
     "data": {
      "text/plain": [
       "Price                       float64\n",
       "Listing Price               float64\n",
       "Number of Bedrooms          float64\n",
       "Number of Bathrooms          object\n",
       "Square Feet                  object\n",
       "Number of Parking Spaces     object\n",
       "Description                  object\n",
       "MLS                          object\n",
       "Building Type                object\n",
       "Address                      object\n",
       "Latitude                    float64\n",
       "Longitude                   float64\n",
       "City District               float64\n",
       "dtype: object"
      ]
     },
     "execution_count": 27,
     "metadata": {},
     "output_type": "execute_result"
    }
   ],
   "source": [
    "hd.dtypes"
   ]
  },
  {
   "cell_type": "code",
   "execution_count": 28,
   "metadata": {},
   "outputs": [
    {
     "data": {
      "text/html": [
       "<div>\n",
       "<style scoped>\n",
       "    .dataframe tbody tr th:only-of-type {\n",
       "        vertical-align: middle;\n",
       "    }\n",
       "\n",
       "    .dataframe tbody tr th {\n",
       "        vertical-align: top;\n",
       "    }\n",
       "\n",
       "    .dataframe thead th {\n",
       "        text-align: right;\n",
       "    }\n",
       "</style>\n",
       "<table border=\"1\" class=\"dataframe\">\n",
       "  <thead>\n",
       "    <tr style=\"text-align: right;\">\n",
       "      <th></th>\n",
       "      <th>Price</th>\n",
       "      <th>Listing Price</th>\n",
       "      <th>Number of Bedrooms</th>\n",
       "      <th>Number of Bathrooms</th>\n",
       "      <th>Square Feet</th>\n",
       "      <th>Number of Parking Spaces</th>\n",
       "      <th>Description</th>\n",
       "      <th>MLS</th>\n",
       "      <th>Building Type</th>\n",
       "      <th>Address</th>\n",
       "      <th>Latitude</th>\n",
       "      <th>Longitude</th>\n",
       "      <th>City District</th>\n",
       "    </tr>\n",
       "  </thead>\n",
       "  <tbody>\n",
       "    <tr>\n",
       "      <td>0</td>\n",
       "      <td>855000.0</td>\n",
       "      <td>870000.0</td>\n",
       "      <td>3.0</td>\n",
       "      <td>2 baths</td>\n",
       "      <td>800–899 sq. ft.</td>\n",
       "      <td>1 parking</td>\n",
       "      <td>Luxurious And Spacious Murano Tower. 2+1, 2 Ba...</td>\n",
       "      <td>C4461599</td>\n",
       "      <td>Condo</td>\n",
       "      <td>38 Grenville St, Toronto</td>\n",
       "      <td>NaN</td>\n",
       "      <td>NaN</td>\n",
       "      <td>NaN</td>\n",
       "    </tr>\n",
       "    <tr>\n",
       "      <td>1</td>\n",
       "      <td>885000.0</td>\n",
       "      <td>898000.0</td>\n",
       "      <td>3.0</td>\n",
       "      <td>2 baths</td>\n",
       "      <td>N/A sq. ft.</td>\n",
       "      <td>6 parking</td>\n",
       "      <td>Fantastic Opportunity To Live Within The Histo...</td>\n",
       "      <td>W4502992</td>\n",
       "      <td>Semi-Detached</td>\n",
       "      <td>2 Cabot Crt, Toronto</td>\n",
       "      <td>NaN</td>\n",
       "      <td>NaN</td>\n",
       "      <td>NaN</td>\n",
       "    </tr>\n",
       "    <tr>\n",
       "      <td>2</td>\n",
       "      <td>550000.0</td>\n",
       "      <td>549900.0</td>\n",
       "      <td>1.0</td>\n",
       "      <td>1 baths</td>\n",
       "      <td>500–599 sq. ft.</td>\n",
       "      <td>no parking</td>\n",
       "      <td>Bright Sunfilled Spacious 1 Bdr Unit; Floor To...</td>\n",
       "      <td>C4511330</td>\n",
       "      <td>Condo</td>\n",
       "      <td>30 Roehampton Ave, Toronto</td>\n",
       "      <td>NaN</td>\n",
       "      <td>NaN</td>\n",
       "      <td>NaN</td>\n",
       "    </tr>\n",
       "    <tr>\n",
       "      <td>3</td>\n",
       "      <td>665000.0</td>\n",
       "      <td>600000.0</td>\n",
       "      <td>2.0</td>\n",
       "      <td>1 baths</td>\n",
       "      <td>600–699 sq. ft.</td>\n",
       "      <td>1 parking</td>\n",
       "      <td>Rare Loft-Like Condo In Liberty Village W/ 18'...</td>\n",
       "      <td>C4515763</td>\n",
       "      <td>Condo</td>\n",
       "      <td>65 East Liberty St, Toronto</td>\n",
       "      <td>NaN</td>\n",
       "      <td>NaN</td>\n",
       "      <td>NaN</td>\n",
       "    </tr>\n",
       "    <tr>\n",
       "      <td>4</td>\n",
       "      <td>825513.0</td>\n",
       "      <td>839000.0</td>\n",
       "      <td>2.0</td>\n",
       "      <td>2 baths</td>\n",
       "      <td>N/A sq. ft.</td>\n",
       "      <td>1 parking</td>\n",
       "      <td>Location! Location! Location. Your Cottage In ...</td>\n",
       "      <td>W4519375</td>\n",
       "      <td>Detached</td>\n",
       "      <td>61 Twelfth St, Toronto</td>\n",
       "      <td>NaN</td>\n",
       "      <td>NaN</td>\n",
       "      <td>NaN</td>\n",
       "    </tr>\n",
       "  </tbody>\n",
       "</table>\n",
       "</div>"
      ],
      "text/plain": [
       "      Price  Listing Price  Number of Bedrooms Number of Bathrooms  \\\n",
       "0  855000.0       870000.0                 3.0             2 baths   \n",
       "1  885000.0       898000.0                 3.0             2 baths   \n",
       "2  550000.0       549900.0                 1.0             1 baths   \n",
       "3  665000.0       600000.0                 2.0             1 baths   \n",
       "4  825513.0       839000.0                 2.0             2 baths   \n",
       "\n",
       "       Square Feet Number of Parking Spaces  \\\n",
       "0  800–899 sq. ft.                1 parking   \n",
       "1      N/A sq. ft.                6 parking   \n",
       "2  500–599 sq. ft.               no parking   \n",
       "3  600–699 sq. ft.                1 parking   \n",
       "4      N/A sq. ft.                1 parking   \n",
       "\n",
       "                                         Description       MLS  Building Type  \\\n",
       "0  Luxurious And Spacious Murano Tower. 2+1, 2 Ba...  C4461599          Condo   \n",
       "1  Fantastic Opportunity To Live Within The Histo...  W4502992  Semi-Detached   \n",
       "2  Bright Sunfilled Spacious 1 Bdr Unit; Floor To...  C4511330          Condo   \n",
       "3  Rare Loft-Like Condo In Liberty Village W/ 18'...  C4515763          Condo   \n",
       "4  Location! Location! Location. Your Cottage In ...  W4519375       Detached   \n",
       "\n",
       "                         Address  Latitude  Longitude  City District  \n",
       "0      38 Grenville St, Toronto        NaN        NaN            NaN  \n",
       "1          2 Cabot Crt, Toronto        NaN        NaN            NaN  \n",
       "2    30 Roehampton Ave, Toronto        NaN        NaN            NaN  \n",
       "3   65 East Liberty St, Toronto        NaN        NaN            NaN  \n",
       "4        61 Twelfth St, Toronto        NaN        NaN            NaN  "
      ]
     },
     "execution_count": 28,
     "metadata": {},
     "output_type": "execute_result"
    }
   ],
   "source": [
    "hd.head(5)"
   ]
  },
  {
   "cell_type": "markdown",
   "metadata": {},
   "source": [
    "# Changing Number of Bedrooms from categorical to numeric¶"
   ]
  },
  {
   "cell_type": "code",
   "execution_count": 29,
   "metadata": {},
   "outputs": [
    {
     "data": {
      "text/plain": [
       "array([ 3.,  1.,  2.,  0.,  4.,  6.,  5.,  7., nan,  8., 11.,  9., 10.,\n",
       "       14., 12., 13.])"
      ]
     },
     "execution_count": 29,
     "metadata": {},
     "output_type": "execute_result"
    }
   ],
   "source": [
    "hd['Number of Bedrooms'].unique()"
   ]
  },
  {
   "cell_type": "code",
   "execution_count": 30,
   "metadata": {},
   "outputs": [],
   "source": [
    "hd['Number of Bathrooms'] = hd['Number of Bathrooms'].replace('baths', ' ', regex=True)"
   ]
  },
  {
   "cell_type": "code",
   "execution_count": 31,
   "metadata": {
    "scrolled": true
   },
   "outputs": [
    {
     "data": {
      "text/plain": [
       "0        2.0\n",
       "1        2.0\n",
       "2        1.0\n",
       "3        1.0\n",
       "4        2.0\n",
       "        ... \n",
       "42877    NaN\n",
       "42878    NaN\n",
       "42879    NaN\n",
       "42880    NaN\n",
       "42881    NaN\n",
       "Name: Number of Bathrooms, Length: 42882, dtype: float64"
      ]
     },
     "execution_count": 31,
     "metadata": {},
     "output_type": "execute_result"
    }
   ],
   "source": [
    "hd['Number of Bathrooms'].astype('float')"
   ]
  },
  {
   "cell_type": "code",
   "execution_count": 32,
   "metadata": {},
   "outputs": [],
   "source": [
    "hd['Number of Bathrooms'] = pd.to_numeric(hd['Number of Bathrooms'], errors='coerce')"
   ]
  },
  {
   "cell_type": "code",
   "execution_count": 33,
   "metadata": {},
   "outputs": [],
   "source": [
    "# Now Type of Number of Bathrooms is float64 instead of object"
   ]
  },
  {
   "cell_type": "code",
   "execution_count": 34,
   "metadata": {
    "scrolled": true
   },
   "outputs": [
    {
     "data": {
      "text/plain": [
       "Price                       float64\n",
       "Listing Price               float64\n",
       "Number of Bedrooms          float64\n",
       "Number of Bathrooms         float64\n",
       "Square Feet                  object\n",
       "Number of Parking Spaces     object\n",
       "Description                  object\n",
       "MLS                          object\n",
       "Building Type                object\n",
       "Address                      object\n",
       "Latitude                    float64\n",
       "Longitude                   float64\n",
       "City District               float64\n",
       "dtype: object"
      ]
     },
     "execution_count": 34,
     "metadata": {},
     "output_type": "execute_result"
    }
   ],
   "source": [
    "hd.dtypes"
   ]
  },
  {
   "cell_type": "code",
   "execution_count": 35,
   "metadata": {},
   "outputs": [
    {
     "data": {
      "text/html": [
       "<div>\n",
       "<style scoped>\n",
       "    .dataframe tbody tr th:only-of-type {\n",
       "        vertical-align: middle;\n",
       "    }\n",
       "\n",
       "    .dataframe tbody tr th {\n",
       "        vertical-align: top;\n",
       "    }\n",
       "\n",
       "    .dataframe thead th {\n",
       "        text-align: right;\n",
       "    }\n",
       "</style>\n",
       "<table border=\"1\" class=\"dataframe\">\n",
       "  <thead>\n",
       "    <tr style=\"text-align: right;\">\n",
       "      <th></th>\n",
       "      <th>Price</th>\n",
       "      <th>Listing Price</th>\n",
       "      <th>Number of Bedrooms</th>\n",
       "      <th>Number of Bathrooms</th>\n",
       "      <th>Square Feet</th>\n",
       "      <th>Number of Parking Spaces</th>\n",
       "      <th>Description</th>\n",
       "      <th>MLS</th>\n",
       "      <th>Building Type</th>\n",
       "      <th>Address</th>\n",
       "      <th>Latitude</th>\n",
       "      <th>Longitude</th>\n",
       "      <th>City District</th>\n",
       "    </tr>\n",
       "  </thead>\n",
       "  <tbody>\n",
       "    <tr>\n",
       "      <td>0</td>\n",
       "      <td>855000.0</td>\n",
       "      <td>870000.0</td>\n",
       "      <td>3.0</td>\n",
       "      <td>2.0</td>\n",
       "      <td>800–899 sq. ft.</td>\n",
       "      <td>1 parking</td>\n",
       "      <td>Luxurious And Spacious Murano Tower. 2+1, 2 Ba...</td>\n",
       "      <td>C4461599</td>\n",
       "      <td>Condo</td>\n",
       "      <td>38 Grenville St, Toronto</td>\n",
       "      <td>NaN</td>\n",
       "      <td>NaN</td>\n",
       "      <td>NaN</td>\n",
       "    </tr>\n",
       "    <tr>\n",
       "      <td>1</td>\n",
       "      <td>885000.0</td>\n",
       "      <td>898000.0</td>\n",
       "      <td>3.0</td>\n",
       "      <td>2.0</td>\n",
       "      <td>N/A sq. ft.</td>\n",
       "      <td>6 parking</td>\n",
       "      <td>Fantastic Opportunity To Live Within The Histo...</td>\n",
       "      <td>W4502992</td>\n",
       "      <td>Semi-Detached</td>\n",
       "      <td>2 Cabot Crt, Toronto</td>\n",
       "      <td>NaN</td>\n",
       "      <td>NaN</td>\n",
       "      <td>NaN</td>\n",
       "    </tr>\n",
       "    <tr>\n",
       "      <td>2</td>\n",
       "      <td>550000.0</td>\n",
       "      <td>549900.0</td>\n",
       "      <td>1.0</td>\n",
       "      <td>1.0</td>\n",
       "      <td>500–599 sq. ft.</td>\n",
       "      <td>no parking</td>\n",
       "      <td>Bright Sunfilled Spacious 1 Bdr Unit; Floor To...</td>\n",
       "      <td>C4511330</td>\n",
       "      <td>Condo</td>\n",
       "      <td>30 Roehampton Ave, Toronto</td>\n",
       "      <td>NaN</td>\n",
       "      <td>NaN</td>\n",
       "      <td>NaN</td>\n",
       "    </tr>\n",
       "    <tr>\n",
       "      <td>3</td>\n",
       "      <td>665000.0</td>\n",
       "      <td>600000.0</td>\n",
       "      <td>2.0</td>\n",
       "      <td>1.0</td>\n",
       "      <td>600–699 sq. ft.</td>\n",
       "      <td>1 parking</td>\n",
       "      <td>Rare Loft-Like Condo In Liberty Village W/ 18'...</td>\n",
       "      <td>C4515763</td>\n",
       "      <td>Condo</td>\n",
       "      <td>65 East Liberty St, Toronto</td>\n",
       "      <td>NaN</td>\n",
       "      <td>NaN</td>\n",
       "      <td>NaN</td>\n",
       "    </tr>\n",
       "    <tr>\n",
       "      <td>4</td>\n",
       "      <td>825513.0</td>\n",
       "      <td>839000.0</td>\n",
       "      <td>2.0</td>\n",
       "      <td>2.0</td>\n",
       "      <td>N/A sq. ft.</td>\n",
       "      <td>1 parking</td>\n",
       "      <td>Location! Location! Location. Your Cottage In ...</td>\n",
       "      <td>W4519375</td>\n",
       "      <td>Detached</td>\n",
       "      <td>61 Twelfth St, Toronto</td>\n",
       "      <td>NaN</td>\n",
       "      <td>NaN</td>\n",
       "      <td>NaN</td>\n",
       "    </tr>\n",
       "  </tbody>\n",
       "</table>\n",
       "</div>"
      ],
      "text/plain": [
       "      Price  Listing Price  Number of Bedrooms  Number of Bathrooms  \\\n",
       "0  855000.0       870000.0                 3.0                  2.0   \n",
       "1  885000.0       898000.0                 3.0                  2.0   \n",
       "2  550000.0       549900.0                 1.0                  1.0   \n",
       "3  665000.0       600000.0                 2.0                  1.0   \n",
       "4  825513.0       839000.0                 2.0                  2.0   \n",
       "\n",
       "       Square Feet Number of Parking Spaces  \\\n",
       "0  800–899 sq. ft.                1 parking   \n",
       "1      N/A sq. ft.                6 parking   \n",
       "2  500–599 sq. ft.               no parking   \n",
       "3  600–699 sq. ft.                1 parking   \n",
       "4      N/A sq. ft.                1 parking   \n",
       "\n",
       "                                         Description       MLS  Building Type  \\\n",
       "0  Luxurious And Spacious Murano Tower. 2+1, 2 Ba...  C4461599          Condo   \n",
       "1  Fantastic Opportunity To Live Within The Histo...  W4502992  Semi-Detached   \n",
       "2  Bright Sunfilled Spacious 1 Bdr Unit; Floor To...  C4511330          Condo   \n",
       "3  Rare Loft-Like Condo In Liberty Village W/ 18'...  C4515763          Condo   \n",
       "4  Location! Location! Location. Your Cottage In ...  W4519375       Detached   \n",
       "\n",
       "                         Address  Latitude  Longitude  City District  \n",
       "0      38 Grenville St, Toronto        NaN        NaN            NaN  \n",
       "1          2 Cabot Crt, Toronto        NaN        NaN            NaN  \n",
       "2    30 Roehampton Ave, Toronto        NaN        NaN            NaN  \n",
       "3   65 East Liberty St, Toronto        NaN        NaN            NaN  \n",
       "4        61 Twelfth St, Toronto        NaN        NaN            NaN  "
      ]
     },
     "execution_count": 35,
     "metadata": {},
     "output_type": "execute_result"
    }
   ],
   "source": [
    "hd.head(5)"
   ]
  },
  {
   "cell_type": "markdown",
   "metadata": {},
   "source": [
    "# Changing Number of Parking Spaces from categorical to numeric"
   ]
  },
  {
   "cell_type": "code",
   "execution_count": 36,
   "metadata": {},
   "outputs": [],
   "source": [
    "hd['Number of Parking Spaces'] = hd['Number of Parking Spaces'].replace('parking', ' ', regex=True)\n",
    "hd['Number of Parking Spaces'] = hd['Number of Parking Spaces'].replace('no parking', 'NaN', regex=True)\n",
    "hd['Number of Parking Spaces'] = hd['Number of Parking Spaces'].replace('no  ', 'NaN', regex=True)"
   ]
  },
  {
   "cell_type": "code",
   "execution_count": 37,
   "metadata": {},
   "outputs": [
    {
     "data": {
      "text/plain": [
       "0        1.0\n",
       "1        6.0\n",
       "2        NaN\n",
       "3        1.0\n",
       "4        1.0\n",
       "        ... \n",
       "42877    NaN\n",
       "42878    NaN\n",
       "42879    NaN\n",
       "42880    NaN\n",
       "42881    NaN\n",
       "Name: Number of Parking Spaces, Length: 42882, dtype: float64"
      ]
     },
     "execution_count": 37,
     "metadata": {},
     "output_type": "execute_result"
    }
   ],
   "source": [
    "hd['Number of Parking Spaces'].astype('float')"
   ]
  },
  {
   "cell_type": "code",
   "execution_count": 38,
   "metadata": {},
   "outputs": [],
   "source": [
    "hd['Number of Parking Spaces'] = pd.to_numeric(hd['Number of Parking Spaces'], errors='coerce')"
   ]
  },
  {
   "cell_type": "code",
   "execution_count": 39,
   "metadata": {},
   "outputs": [],
   "source": [
    "# Now Type of Number of Parking Spaces is float instead of object"
   ]
  },
  {
   "cell_type": "code",
   "execution_count": 40,
   "metadata": {
    "scrolled": true
   },
   "outputs": [
    {
     "data": {
      "text/plain": [
       "Price                       float64\n",
       "Listing Price               float64\n",
       "Number of Bedrooms          float64\n",
       "Number of Bathrooms         float64\n",
       "Square Feet                  object\n",
       "Number of Parking Spaces    float64\n",
       "Description                  object\n",
       "MLS                          object\n",
       "Building Type                object\n",
       "Address                      object\n",
       "Latitude                    float64\n",
       "Longitude                   float64\n",
       "City District               float64\n",
       "dtype: object"
      ]
     },
     "execution_count": 40,
     "metadata": {},
     "output_type": "execute_result"
    }
   ],
   "source": [
    "hd.dtypes"
   ]
  },
  {
   "cell_type": "code",
   "execution_count": 41,
   "metadata": {},
   "outputs": [
    {
     "data": {
      "text/html": [
       "<div>\n",
       "<style scoped>\n",
       "    .dataframe tbody tr th:only-of-type {\n",
       "        vertical-align: middle;\n",
       "    }\n",
       "\n",
       "    .dataframe tbody tr th {\n",
       "        vertical-align: top;\n",
       "    }\n",
       "\n",
       "    .dataframe thead th {\n",
       "        text-align: right;\n",
       "    }\n",
       "</style>\n",
       "<table border=\"1\" class=\"dataframe\">\n",
       "  <thead>\n",
       "    <tr style=\"text-align: right;\">\n",
       "      <th></th>\n",
       "      <th>Price</th>\n",
       "      <th>Listing Price</th>\n",
       "      <th>Number of Bedrooms</th>\n",
       "      <th>Number of Bathrooms</th>\n",
       "      <th>Square Feet</th>\n",
       "      <th>Number of Parking Spaces</th>\n",
       "      <th>Description</th>\n",
       "      <th>MLS</th>\n",
       "      <th>Building Type</th>\n",
       "      <th>Address</th>\n",
       "      <th>Latitude</th>\n",
       "      <th>Longitude</th>\n",
       "      <th>City District</th>\n",
       "    </tr>\n",
       "  </thead>\n",
       "  <tbody>\n",
       "    <tr>\n",
       "      <td>0</td>\n",
       "      <td>855000.0</td>\n",
       "      <td>870000.0</td>\n",
       "      <td>3.0</td>\n",
       "      <td>2.0</td>\n",
       "      <td>800–899 sq. ft.</td>\n",
       "      <td>1.0</td>\n",
       "      <td>Luxurious And Spacious Murano Tower. 2+1, 2 Ba...</td>\n",
       "      <td>C4461599</td>\n",
       "      <td>Condo</td>\n",
       "      <td>38 Grenville St, Toronto</td>\n",
       "      <td>NaN</td>\n",
       "      <td>NaN</td>\n",
       "      <td>NaN</td>\n",
       "    </tr>\n",
       "    <tr>\n",
       "      <td>1</td>\n",
       "      <td>885000.0</td>\n",
       "      <td>898000.0</td>\n",
       "      <td>3.0</td>\n",
       "      <td>2.0</td>\n",
       "      <td>N/A sq. ft.</td>\n",
       "      <td>6.0</td>\n",
       "      <td>Fantastic Opportunity To Live Within The Histo...</td>\n",
       "      <td>W4502992</td>\n",
       "      <td>Semi-Detached</td>\n",
       "      <td>2 Cabot Crt, Toronto</td>\n",
       "      <td>NaN</td>\n",
       "      <td>NaN</td>\n",
       "      <td>NaN</td>\n",
       "    </tr>\n",
       "    <tr>\n",
       "      <td>2</td>\n",
       "      <td>550000.0</td>\n",
       "      <td>549900.0</td>\n",
       "      <td>1.0</td>\n",
       "      <td>1.0</td>\n",
       "      <td>500–599 sq. ft.</td>\n",
       "      <td>NaN</td>\n",
       "      <td>Bright Sunfilled Spacious 1 Bdr Unit; Floor To...</td>\n",
       "      <td>C4511330</td>\n",
       "      <td>Condo</td>\n",
       "      <td>30 Roehampton Ave, Toronto</td>\n",
       "      <td>NaN</td>\n",
       "      <td>NaN</td>\n",
       "      <td>NaN</td>\n",
       "    </tr>\n",
       "    <tr>\n",
       "      <td>3</td>\n",
       "      <td>665000.0</td>\n",
       "      <td>600000.0</td>\n",
       "      <td>2.0</td>\n",
       "      <td>1.0</td>\n",
       "      <td>600–699 sq. ft.</td>\n",
       "      <td>1.0</td>\n",
       "      <td>Rare Loft-Like Condo In Liberty Village W/ 18'...</td>\n",
       "      <td>C4515763</td>\n",
       "      <td>Condo</td>\n",
       "      <td>65 East Liberty St, Toronto</td>\n",
       "      <td>NaN</td>\n",
       "      <td>NaN</td>\n",
       "      <td>NaN</td>\n",
       "    </tr>\n",
       "    <tr>\n",
       "      <td>4</td>\n",
       "      <td>825513.0</td>\n",
       "      <td>839000.0</td>\n",
       "      <td>2.0</td>\n",
       "      <td>2.0</td>\n",
       "      <td>N/A sq. ft.</td>\n",
       "      <td>1.0</td>\n",
       "      <td>Location! Location! Location. Your Cottage In ...</td>\n",
       "      <td>W4519375</td>\n",
       "      <td>Detached</td>\n",
       "      <td>61 Twelfth St, Toronto</td>\n",
       "      <td>NaN</td>\n",
       "      <td>NaN</td>\n",
       "      <td>NaN</td>\n",
       "    </tr>\n",
       "  </tbody>\n",
       "</table>\n",
       "</div>"
      ],
      "text/plain": [
       "      Price  Listing Price  Number of Bedrooms  Number of Bathrooms  \\\n",
       "0  855000.0       870000.0                 3.0                  2.0   \n",
       "1  885000.0       898000.0                 3.0                  2.0   \n",
       "2  550000.0       549900.0                 1.0                  1.0   \n",
       "3  665000.0       600000.0                 2.0                  1.0   \n",
       "4  825513.0       839000.0                 2.0                  2.0   \n",
       "\n",
       "       Square Feet  Number of Parking Spaces  \\\n",
       "0  800–899 sq. ft.                       1.0   \n",
       "1      N/A sq. ft.                       6.0   \n",
       "2  500–599 sq. ft.                       NaN   \n",
       "3  600–699 sq. ft.                       1.0   \n",
       "4      N/A sq. ft.                       1.0   \n",
       "\n",
       "                                         Description       MLS  Building Type  \\\n",
       "0  Luxurious And Spacious Murano Tower. 2+1, 2 Ba...  C4461599          Condo   \n",
       "1  Fantastic Opportunity To Live Within The Histo...  W4502992  Semi-Detached   \n",
       "2  Bright Sunfilled Spacious 1 Bdr Unit; Floor To...  C4511330          Condo   \n",
       "3  Rare Loft-Like Condo In Liberty Village W/ 18'...  C4515763          Condo   \n",
       "4  Location! Location! Location. Your Cottage In ...  W4519375       Detached   \n",
       "\n",
       "                         Address  Latitude  Longitude  City District  \n",
       "0      38 Grenville St, Toronto        NaN        NaN            NaN  \n",
       "1          2 Cabot Crt, Toronto        NaN        NaN            NaN  \n",
       "2    30 Roehampton Ave, Toronto        NaN        NaN            NaN  \n",
       "3   65 East Liberty St, Toronto        NaN        NaN            NaN  \n",
       "4        61 Twelfth St, Toronto        NaN        NaN            NaN  "
      ]
     },
     "execution_count": 41,
     "metadata": {},
     "output_type": "execute_result"
    }
   ],
   "source": [
    "hd.head(5)"
   ]
  },
  {
   "cell_type": "markdown",
   "metadata": {},
   "source": [
    "# Changing Square Feet from categorical to numeric"
   ]
  },
  {
   "cell_type": "code",
   "execution_count": 42,
   "metadata": {
    "scrolled": true
   },
   "outputs": [
    {
     "data": {
      "text/plain": [
       "array(['800–899 sq. ft.', 'N/A sq. ft.', '500–599 sq. ft.',\n",
       "       '600–699 sq. ft.', '0-499 sq. ft.', '2500–3000 sq. ft.',\n",
       "       '1000–1199 sq. ft.', '1100–1500 sq. ft.', '3000–3500 sq. ft.',\n",
       "       '1500–2000 sq. ft.', '700–799 sq. ft.', '700–1100 sq. ft.',\n",
       "       '2250–2499 sq. ft.', '1200–1399 sq. ft.', '900–999 sq. ft.',\n",
       "       '2000–2500 sq. ft.', '1800–1999 sq. ft.', '2000–2249 sq. ft.',\n",
       "       '1400–1599 sq. ft.', '3500–5000 sq. ft.', nan, '1600–1799 sq. ft.',\n",
       "       '4250–4499 sq. ft.', '700–899 sq. ft.', '2750–2999 sq. ft.',\n",
       "       '3250–3499 sq. ft.', '2500–2749 sq. ft.', '500–699 sq. ft.',\n",
       "       '3000–3249 sq. ft.', '900–1099 sq. ft.', '1100–1299 sq. ft.',\n",
       "       '4500–4749 sq. ft.'], dtype=object)"
      ]
     },
     "execution_count": 42,
     "metadata": {},
     "output_type": "execute_result"
    }
   ],
   "source": [
    "hd['Square Feet'].unique()"
   ]
  },
  {
   "cell_type": "code",
   "execution_count": 43,
   "metadata": {},
   "outputs": [],
   "source": [
    "hd['Square Feet'] = hd['Square Feet'].replace('sq. ft.', ' ', regex=True)"
   ]
  },
  {
   "cell_type": "code",
   "execution_count": 44,
   "metadata": {
    "scrolled": true
   },
   "outputs": [
    {
     "data": {
      "text/plain": [
       "array(['800–899  ', 'N/A  ', '500–599  ', '600–699  ', '0-499  ',\n",
       "       '2500–3000  ', '1000–1199  ', '1100–1500  ', '3000–3500  ',\n",
       "       '1500–2000  ', '700–799  ', '700–1100  ', '2250–2499  ',\n",
       "       '1200–1399  ', '900–999  ', '2000–2500  ', '1800–1999  ',\n",
       "       '2000–2249  ', '1400–1599  ', '3500–5000  ', nan, '1600–1799  ',\n",
       "       '4250–4499  ', '700–899  ', '2750–2999  ', '3250–3499  ',\n",
       "       '2500–2749  ', '500–699  ', '3000–3249  ', '900–1099  ',\n",
       "       '1100–1299  ', '4500–4749  '], dtype=object)"
      ]
     },
     "execution_count": 44,
     "metadata": {},
     "output_type": "execute_result"
    }
   ],
   "source": [
    "hd['Square Feet'].unique()"
   ]
  },
  {
   "cell_type": "code",
   "execution_count": 45,
   "metadata": {},
   "outputs": [],
   "source": [
    "hd['Square Feet'] = hd['Square Feet'].replace('800–899  ', 850)\n",
    "hd['Square Feet'] = hd['Square Feet'].replace('500–599  ', 550)\n",
    "hd['Square Feet'] = hd['Square Feet'].replace('600–699  ', 650)\n",
    "hd['Square Feet'] = hd['Square Feet'].replace('0-499  ', 250)\n",
    "hd['Square Feet'] = hd['Square Feet'].replace('2500–3000  ', 2750)\n",
    "hd['Square Feet'] = hd['Square Feet'].replace('1000–1199  ', 1100)\n",
    "hd['Square Feet'] = hd['Square Feet'].replace('1100–1500  ', 1350)\n",
    "hd['Square Feet'] = hd['Square Feet'].replace('3000–3500  ', 3250)\n",
    "hd['Square Feet'] = hd['Square Feet'].replace('1500–2000  ', 1750)\n",
    "hd['Square Feet'] = hd['Square Feet'].replace('700–1100  ', 900)\n",
    "hd['Square Feet'] = hd['Square Feet'].replace('2250–2499  ', 2375)\n",
    "hd['Square Feet'] = hd['Square Feet'].replace('1200–1399  ', 1300)\n",
    "hd['Square Feet'] = hd['Square Feet'].replace('2000–2500  ', 2250)\n",
    "hd['Square Feet'] = hd['Square Feet'].replace('1800–1999  ', 1900)\n",
    "hd['Square Feet'] = hd['Square Feet'].replace('2000–2249  ', 2125)\n",
    "hd['Square Feet'] = hd['Square Feet'].replace('1400–1599  ', 1500)\n",
    "hd['Square Feet'] = hd['Square Feet'].replace('3500–5000  ', 4250)\n",
    "hd['Square Feet'] = hd['Square Feet'].replace('1600–1799  ', 1700)\n",
    "hd['Square Feet'] = hd['Square Feet'].replace('4250–4499  ', 4375)\n",
    "hd['Square Feet'] = hd['Square Feet'].replace('2750–2999  ', 2875)\n",
    "hd['Square Feet'] = hd['Square Feet'].replace('3250–3499  ', 3375)\n",
    "hd['Square Feet'] = hd['Square Feet'].replace('2500–2749  ', 2625)\n",
    "hd['Square Feet'] = hd['Square Feet'].replace('3000–3249  ', 3125)\n",
    "hd['Square Feet'] = hd['Square Feet'].replace('900–1099  ', 1000)\n",
    "hd['Square Feet'] = hd['Square Feet'].replace('1100–1299  ', 1200)\n",
    "hd['Square Feet'] = hd['Square Feet'].replace('4500–4749  ', 4650)\n",
    "hd['Square Feet'] = hd['Square Feet'].replace('700–799  ', 750)\n",
    "hd['Square Feet'] = hd['Square Feet'].replace('900–999  ', 950)\n",
    "hd['Square Feet'] = hd['Square Feet'].replace('700–899  ', 800)\n",
    "hd['Square Feet'] = hd['Square Feet'].replace('500–699  ', 600)\n",
    "hd['Square Feet'] = hd['Square Feet'].replace('N/A  ', 'NaN')\n",
    "hd['Square Feet'] = hd['Square Feet'].replace('nan', 'NaN')\n",
    "hd['Square Feet'] = hd['Square Feet'].replace(' ', 'NaN')"
   ]
  },
  {
   "cell_type": "code",
   "execution_count": 46,
   "metadata": {},
   "outputs": [
    {
     "data": {
      "text/plain": [
       "array([850, 'NaN', 550, 650, 250, 2750, 1100, 1350, 3250, 1750, 750, 900,\n",
       "       2375, 1300, 950, 2250, 1900, 2125, 1500, 4250, nan, 1700, 4375,\n",
       "       800, 2875, 3375, 2625, 600, 3125, 1000, 1200, 4650], dtype=object)"
      ]
     },
     "execution_count": 46,
     "metadata": {},
     "output_type": "execute_result"
    }
   ],
   "source": [
    "hd['Square Feet'].unique()"
   ]
  },
  {
   "cell_type": "code",
   "execution_count": 47,
   "metadata": {
    "scrolled": true
   },
   "outputs": [
    {
     "data": {
      "text/plain": [
       "0        850.0\n",
       "1          NaN\n",
       "2        550.0\n",
       "3        650.0\n",
       "4          NaN\n",
       "         ...  \n",
       "42877      NaN\n",
       "42878      NaN\n",
       "42879      NaN\n",
       "42880      NaN\n",
       "42881      NaN\n",
       "Name: Square Feet, Length: 42882, dtype: float64"
      ]
     },
     "execution_count": 47,
     "metadata": {},
     "output_type": "execute_result"
    }
   ],
   "source": [
    "hd['Square Feet'].astype('float')"
   ]
  },
  {
   "cell_type": "code",
   "execution_count": 48,
   "metadata": {},
   "outputs": [],
   "source": [
    "hd['Square Feet'] = pd.to_numeric(hd['Square Feet'], errors='coerce')"
   ]
  },
  {
   "cell_type": "code",
   "execution_count": 49,
   "metadata": {},
   "outputs": [],
   "source": [
    "# Now Type of Square Feet is float instead of object"
   ]
  },
  {
   "cell_type": "code",
   "execution_count": 50,
   "metadata": {},
   "outputs": [
    {
     "data": {
      "text/plain": [
       "Price                       float64\n",
       "Listing Price               float64\n",
       "Number of Bedrooms          float64\n",
       "Number of Bathrooms         float64\n",
       "Square Feet                 float64\n",
       "Number of Parking Spaces    float64\n",
       "Description                  object\n",
       "MLS                          object\n",
       "Building Type                object\n",
       "Address                      object\n",
       "Latitude                    float64\n",
       "Longitude                   float64\n",
       "City District               float64\n",
       "dtype: object"
      ]
     },
     "execution_count": 50,
     "metadata": {},
     "output_type": "execute_result"
    }
   ],
   "source": [
    "hd.dtypes"
   ]
  },
  {
   "cell_type": "markdown",
   "metadata": {},
   "source": [
    "# Statistics"
   ]
  },
  {
   "cell_type": "code",
   "execution_count": 51,
   "metadata": {},
   "outputs": [
    {
     "name": "stdout",
     "output_type": "stream",
     "text": [
      "Price\n",
      "299900.0     301\n",
      "399900.0     276\n",
      "499900.0     198\n",
      "249900.0     196\n",
      "349900.0     196\n",
      "            ... \n",
      "234850.0       1\n",
      "569902.0       1\n",
      "1412000.0      1\n",
      "546125.0       1\n",
      "138990.0       1\n",
      "Name: Price, Length: 5642, dtype: int64\n",
      "\n",
      "Listing Price\n",
      "799000.0    280\n",
      "699000.0    278\n",
      "899000.0    235\n",
      "599000.0    231\n",
      "699900.0    210\n",
      "           ... \n",
      "886886.0      1\n",
      "508998.0      1\n",
      "508999.0      1\n",
      "443500.0      1\n",
      "949990.0      1\n",
      "Name: Listing Price, Length: 2275, dtype: int64\n",
      "\n",
      "Number of Bedrooms\n",
      "2.0     5600\n",
      "3.0     4481\n",
      "4.0     2839\n",
      "1.0     2086\n",
      "5.0     1459\n",
      "6.0      525\n",
      "0.0      188\n",
      "7.0      136\n",
      "8.0       53\n",
      "10.0      14\n",
      "9.0       11\n",
      "11.0       6\n",
      "12.0       5\n",
      "13.0       1\n",
      "14.0       1\n",
      "Name: Number of Bedrooms, dtype: int64\n",
      "\n",
      "Number of Bathrooms\n",
      "2.0     7702\n",
      "1.0     5228\n",
      "3.0     2538\n",
      "4.0     1221\n",
      "5.0      476\n",
      "6.0      138\n",
      "7.0       68\n",
      "8.0       24\n",
      "9.0        4\n",
      "10.0       3\n",
      "14.0       2\n",
      "11.0       1\n",
      "Name: Number of Bathrooms, dtype: int64\n",
      "\n",
      "Square Feet\n",
      "650.0     1776\n",
      "1100.0    1308\n",
      "750.0     1288\n",
      "550.0     1276\n",
      "850.0     1130\n",
      "1300.0     958\n",
      "950.0      905\n",
      "1750.0     552\n",
      "250.0      465\n",
      "1500.0     464\n",
      "1350.0     460\n",
      "2250.0     416\n",
      "2750.0     262\n",
      "1700.0     222\n",
      "4250.0     183\n",
      "3250.0     148\n",
      "1900.0     115\n",
      "900.0      113\n",
      "2125.0      84\n",
      "2375.0      46\n",
      "2625.0      11\n",
      "2875.0       8\n",
      "4375.0       4\n",
      "3375.0       4\n",
      "3125.0       3\n",
      "1000.0       2\n",
      "600.0        1\n",
      "800.0        1\n",
      "1200.0       1\n",
      "4650.0       1\n",
      "Name: Square Feet, dtype: int64\n",
      "\n",
      "Number of Parking Spaces\n",
      "1.0      9302\n",
      "2.0      3111\n",
      "4.0      1322\n",
      "3.0       960\n",
      "6.0       265\n",
      "5.0       243\n",
      "8.0        37\n",
      "7.0        32\n",
      "10.0       17\n",
      "9.0         5\n",
      "33.0        2\n",
      "28.0        1\n",
      "12.0        1\n",
      "177.0       1\n",
      "72.0        1\n",
      "15.0        1\n",
      "149.0       1\n",
      "11.0        1\n",
      "21.0        1\n",
      "367.0       1\n",
      "17.0        1\n",
      "117.0       1\n",
      "22.0        1\n",
      "20.0        1\n",
      "14.0        1\n",
      "189.0       1\n",
      "334.0       1\n",
      "Name: Number of Parking Spaces, dtype: int64\n",
      "\n",
      "Description\n",
      "Great Unit In A Prestigious High Demand Building; Conveniently Located Steps From Bayview Village, Public Transit Right At Your Doorstep, Minutes From Everything Else. Parking Space Is Included In The Price - No More Parking Spots Available For Sale In The Building.                                                                                                                                                                                                     6\n",
      "Prime Annex / Yorkville Aaa Location! C N Tower & Skyline, Spacious & Bright 2 Bedroom 2 Bathroom Corner Unit With Spectacular South Unobstructed Views.1084 Sq. Ft. Floor To Ceiling Windows. Wide Wrap Around Balcony.Full Outdoor Summer Living! Steps To Subway Lines, Yorkville, U Of T, Museums,Bloor St. Shops, Restaurants. Speak To L/A Re Ensuite Laundry. Maintenance Fee Includes All Utilities.                                                                   6\n",
      "Excellent Value In A Great Neighbourhood. Open Balcony. Renovations Done To Building And Unit.                                                                                                                                                                                                                                                                                                                                                                                 6\n",
      "Start Loving Your Living! An Incredible Opportunity To Own At The Foot Of Toronto's Waterfront. The Splendor Of Shimmering Lake & City Views In This Spacious 1223 Sqft Corner Unit W/Over 300 Sqft Of Lr & Dr Space. In Addition, A Separate Eat-In Kitchen W/Unobstructed Forever Water View. Expansive Master Bdrm: 4 Piece Ensuite, His & Her Closets & W/O To Balcony. Remove B/I - Use As Sitting/Office Area. Phenomenal Amenities! All-Inclusive Maint. (Ex:Taxes).    5\n",
      "Location + Potential Abound At This Bathurst Manor Survivor. Mostly Original Condition. Two Doors From Wilmington Sitting On 47X115 Feet. Continue To Rent While Awaiting Permits Of Hold For Long Term. Recently Updated High Efficiency Furnace And Instant Hot Water. Separate Entrance To Basement Apartment. Non Retrofit.                                                                                                                                                5\n",
      "                                                                                                                                                                                                                                                                                                                                                                                                                                                                              ..\n",
      "Welcome To Your New Home, The Tridel Built Royal Crest Towers, This Well Maintained Original Owner Unit Is A 2 Bedroom, 2 Washroom Corner Unit With Lots Of Natural Light Featuring Two Balconies And A Fireplace Pride Of Ownership Is All Over This Unit                                                                                                                                                                                                                     1\n",
      "Fabulous Starter Home With Option For Income Potential. Newly Upgraded Home Features Hardwood Floor, Renovated Gourmet Kitchen: Quartz Counter-Tops, Ceramic Backsplash, New Washroom & Stainless Steel Appliances. Great Family Area! Ready To Move-In. Walking Distance To Ttc, Easy Access To Highways! New Roof, New Furnace, New Windows. Separate Entrance To Basement.                                                                                                  1\n",
      "Large 1 Bedroom Plus Den South Facing At The Hudson. 758 Sq Ft. 2 Full Baths. All The Bells And Whistles! Huge \"Canadian House And Home\" Custom Designer Closet In Den. Gourmet Kitchen With S/S Appliances And Quartz Ctp, Hardwood Floors Throughout. Spacious Master Bdrm. South Facing Unobstructed Views From Every Room. Maintenance Fees Include All Utilities.                                                                                                         1\n",
      "99 Walkscore. Fabulous Suite At Tridel Element. Heart Of The Entertainment District. Kitchen W/ Granite Counter Top & Island. 2 Full Bedrooms. Open Balcony, Laminate Floor In Living, Dining & Bdrms. Includes Parking & Locker .Unit- 730 Sq Ft.Building Features 24 Hr Concierge, Rooftop Terrace, Aqua Spa, Gym, Billiards Lounge , Steps To Subway, Streetcar, Restaurants, Shops, Financial District, Rogers Centre.                                                     1\n",
      "Gem Of A Location Location Location**Newly Renovated With New Flooring, Washer/Dryer, And Custom Closet**Large 1 Br Sub-Penthouse**Finch Station At Doorstep**24Hr Gate-House Security**Recently Renovated Building Amenities**Convenient Access To All Amenities**Move-In Ready**Exclusive Use Of Tandem Parking Space For 2 Cars**                                                                                                                                           1\n",
      "Name: Description, Length: 15284, dtype: int64\n",
      "\n",
      "MLS\n",
      "W4463830    6\n",
      "C4480332    6\n",
      "C4465352    6\n",
      "C4472071    5\n",
      "C4462482    5\n",
      "           ..\n",
      "E4358373    1\n",
      "E4423947    1\n",
      "C4396274    1\n",
      "W4340944    1\n",
      "W4352593    1\n",
      "Name: MLS, Length: 15496, dtype: int64\n",
      "\n",
      "Building Type\n",
      "Condo               10014\n",
      "Detached             5028\n",
      "Semi-Detached        1631\n",
      "Att/Row/Twnhouse      537\n",
      "Apt                    62\n",
      "Link                   43\n",
      "Duplex                 33\n",
      "Triplex                24\n",
      "Multiplex              22\n",
      "Store W/Apt/Offc        9\n",
      "Cottage                 1\n",
      "Fourplex                1\n",
      "Name: Building Type, dtype: int64\n",
      "\n",
      "Address\n",
      " 105 The Queensway Ave, Toronto            39\n",
      " 5 Valhalla Inn Rd, Toronto                33\n",
      " 56 Annie Craig Dr, Toronto                30\n",
      " 98 Lillian St, Toronto                    26\n",
      " 100 Wingarden Crt, Toronto                26\n",
      "                                           ..\n",
      "53 BOULDER Crescent Guelph, ON              1\n",
      "3153 OLD BRONTE RD N Oakville, ON           1\n",
      "112 King St, Toronto                        1\n",
      "6685 MAIN ST Whitchurch-Stouffville, ON     1\n",
      "#202 - 320 Parkdale Avenue Ottawa, ON       1\n",
      "Name: Address, Length: 32446, dtype: int64\n",
      "\n",
      "Latitude\n",
      "-999.000000    161\n",
      " 44.898811      55\n",
      " 44.605946      50\n",
      " 42.314938      36\n",
      " 43.595020      31\n",
      "              ... \n",
      " 44.406998       1\n",
      " 43.611557       1\n",
      " 44.284039       1\n",
      " 44.231911       1\n",
      " 42.113052       1\n",
      "Name: Latitude, Length: 18222, dtype: int64\n",
      "\n",
      "Longitude\n",
      "-999.000000    161\n",
      "-76.248558      55\n",
      "-80.593689      50\n",
      "-83.036362      36\n",
      "-79.636017      31\n",
      "              ... \n",
      "-80.304771       1\n",
      "-80.926933       1\n",
      "-76.630508       1\n",
      "-81.171364       1\n",
      "-76.519699       1\n",
      "Name: Longitude, Length: 18089, dtype: int64\n",
      "\n",
      "City District\n",
      "Series([], Name: City District, dtype: int64)\n",
      "\n"
     ]
    }
   ],
   "source": [
    "for column in hd.columns.values.tolist():\n",
    "  print(column)\n",
    "  print(hd[column].value_counts())\n",
    "  print('')"
   ]
  },
  {
   "cell_type": "code",
   "execution_count": 52,
   "metadata": {
    "scrolled": false
   },
   "outputs": [
    {
     "data": {
      "text/html": [
       "<div>\n",
       "<style scoped>\n",
       "    .dataframe tbody tr th:only-of-type {\n",
       "        vertical-align: middle;\n",
       "    }\n",
       "\n",
       "    .dataframe tbody tr th {\n",
       "        vertical-align: top;\n",
       "    }\n",
       "\n",
       "    .dataframe thead th {\n",
       "        text-align: right;\n",
       "    }\n",
       "</style>\n",
       "<table border=\"1\" class=\"dataframe\">\n",
       "  <thead>\n",
       "    <tr style=\"text-align: right;\">\n",
       "      <th></th>\n",
       "      <th>Price</th>\n",
       "      <th>Listing Price</th>\n",
       "      <th>Number of Bedrooms</th>\n",
       "      <th>Number of Bathrooms</th>\n",
       "      <th>Square Feet</th>\n",
       "      <th>Number of Parking Spaces</th>\n",
       "      <th>Latitude</th>\n",
       "      <th>Longitude</th>\n",
       "      <th>City District</th>\n",
       "    </tr>\n",
       "  </thead>\n",
       "  <tbody>\n",
       "    <tr>\n",
       "      <td>count</td>\n",
       "      <td>42756.00</td>\n",
       "      <td>17405.00</td>\n",
       "      <td>17405.00</td>\n",
       "      <td>17405.00</td>\n",
       "      <td>12207.00</td>\n",
       "      <td>15312.00</td>\n",
       "      <td>25351.00</td>\n",
       "      <td>25351.00</td>\n",
       "      <td>0.00</td>\n",
       "    </tr>\n",
       "    <tr>\n",
       "      <td>mean</td>\n",
       "      <td>695775.31</td>\n",
       "      <td>879575.09</td>\n",
       "      <td>2.89</td>\n",
       "      <td>2.13</td>\n",
       "      <td>1124.60</td>\n",
       "      <td>1.88</td>\n",
       "      <td>37.33</td>\n",
       "      <td>-85.22</td>\n",
       "      <td>nan</td>\n",
       "    </tr>\n",
       "    <tr>\n",
       "      <td>std</td>\n",
       "      <td>779481.11</td>\n",
       "      <td>637725.69</td>\n",
       "      <td>1.41</td>\n",
       "      <td>1.13</td>\n",
       "      <td>696.52</td>\n",
       "      <td>4.97</td>\n",
       "      <td>82.86</td>\n",
       "      <td>73.09</td>\n",
       "      <td>nan</td>\n",
       "    </tr>\n",
       "    <tr>\n",
       "      <td>min</td>\n",
       "      <td>0.00</td>\n",
       "      <td>104900.00</td>\n",
       "      <td>0.00</td>\n",
       "      <td>1.00</td>\n",
       "      <td>250.00</td>\n",
       "      <td>1.00</td>\n",
       "      <td>-999.00</td>\n",
       "      <td>-999.00</td>\n",
       "      <td>nan</td>\n",
       "    </tr>\n",
       "    <tr>\n",
       "      <td>25%</td>\n",
       "      <td>319900.00</td>\n",
       "      <td>529900.00</td>\n",
       "      <td>2.00</td>\n",
       "      <td>1.00</td>\n",
       "      <td>650.00</td>\n",
       "      <td>1.00</td>\n",
       "      <td>43.40</td>\n",
       "      <td>-80.31</td>\n",
       "      <td>nan</td>\n",
       "    </tr>\n",
       "    <tr>\n",
       "      <td>50%</td>\n",
       "      <td>529000.00</td>\n",
       "      <td>699900.00</td>\n",
       "      <td>3.00</td>\n",
       "      <td>2.00</td>\n",
       "      <td>950.00</td>\n",
       "      <td>1.00</td>\n",
       "      <td>43.72</td>\n",
       "      <td>-79.50</td>\n",
       "      <td>nan</td>\n",
       "    </tr>\n",
       "    <tr>\n",
       "      <td>75%</td>\n",
       "      <td>810000.00</td>\n",
       "      <td>979000.00</td>\n",
       "      <td>4.00</td>\n",
       "      <td>3.00</td>\n",
       "      <td>1300.00</td>\n",
       "      <td>2.00</td>\n",
       "      <td>44.47</td>\n",
       "      <td>-79.11</td>\n",
       "      <td>nan</td>\n",
       "    </tr>\n",
       "    <tr>\n",
       "      <td>max</td>\n",
       "      <td>32500000.00</td>\n",
       "      <td>13180000.00</td>\n",
       "      <td>14.00</td>\n",
       "      <td>14.00</td>\n",
       "      <td>4650.00</td>\n",
       "      <td>367.00</td>\n",
       "      <td>53.85</td>\n",
       "      <td>1.07</td>\n",
       "      <td>nan</td>\n",
       "    </tr>\n",
       "  </tbody>\n",
       "</table>\n",
       "</div>"
      ],
      "text/plain": [
       "            Price  Listing Price  Number of Bedrooms  Number of Bathrooms  \\\n",
       "count    42756.00       17405.00            17405.00             17405.00   \n",
       "mean    695775.31      879575.09                2.89                 2.13   \n",
       "std     779481.11      637725.69                1.41                 1.13   \n",
       "min          0.00      104900.00                0.00                 1.00   \n",
       "25%     319900.00      529900.00                2.00                 1.00   \n",
       "50%     529000.00      699900.00                3.00                 2.00   \n",
       "75%     810000.00      979000.00                4.00                 3.00   \n",
       "max   32500000.00    13180000.00               14.00                14.00   \n",
       "\n",
       "       Square Feet  Number of Parking Spaces  Latitude  Longitude  \\\n",
       "count     12207.00                  15312.00  25351.00   25351.00   \n",
       "mean       1124.60                      1.88     37.33     -85.22   \n",
       "std         696.52                      4.97     82.86      73.09   \n",
       "min         250.00                      1.00   -999.00    -999.00   \n",
       "25%         650.00                      1.00     43.40     -80.31   \n",
       "50%         950.00                      1.00     43.72     -79.50   \n",
       "75%        1300.00                      2.00     44.47     -79.11   \n",
       "max        4650.00                    367.00     53.85       1.07   \n",
       "\n",
       "       City District  \n",
       "count           0.00  \n",
       "mean             nan  \n",
       "std              nan  \n",
       "min              nan  \n",
       "25%              nan  \n",
       "50%              nan  \n",
       "75%              nan  \n",
       "max              nan  "
      ]
     },
     "execution_count": 52,
     "metadata": {},
     "output_type": "execute_result"
    }
   ],
   "source": [
    "pd.options.display.float_format = \"{:.2f}\".format\n",
    "hd.describe()"
   ]
  },
  {
   "cell_type": "code",
   "execution_count": 53,
   "metadata": {},
   "outputs": [
    {
     "data": {
      "text/plain": [
       "<matplotlib.axes._subplots.AxesSubplot at 0x1d0e98fd6c8>"
      ]
     },
     "execution_count": 53,
     "metadata": {},
     "output_type": "execute_result"
    },
    {
     "data": {
      "image/png": "[encoded data removed]",
      "text/plain": [
       "<Figure size 432x288 with 1 Axes>"
      ]
     },
     "metadata": {
      "needs_background": "light"
     },
     "output_type": "display_data"
    }
   ],
   "source": [
    "sns.boxplot(x=hd['Price'])\n"
   ]
  },
  {
   "cell_type": "code",
   "execution_count": 54,
   "metadata": {},
   "outputs": [
    {
     "data": {
      "text/plain": [
       "<matplotlib.axes._subplots.AxesSubplot at 0x1d0eb58f988>"
      ]
     },
     "execution_count": 54,
     "metadata": {},
     "output_type": "execute_result"
    },
    {
     "data": {
      "image/png": "[encoded data removed]",
      "text/plain": [
       "<Figure size 432x288 with 1 Axes>"
      ]
     },
     "metadata": {
      "needs_background": "light"
     },
     "output_type": "display_data"
    }
   ],
   "source": [
    "sns.boxplot(x=hd['Number of Bedrooms'])"
   ]
  },
  {
   "cell_type": "code",
   "execution_count": 55,
   "metadata": {},
   "outputs": [
    {
     "data": {
      "text/plain": [
       "<matplotlib.axes._subplots.AxesSubplot at 0x1d0e98d3dc8>"
      ]
     },
     "execution_count": 55,
     "metadata": {},
     "output_type": "execute_result"
    },
    {
     "data": {
      "image/png": "[encoded data removed]",
      "text/plain": [
       "<Figure size 432x288 with 1 Axes>"
      ]
     },
     "metadata": {
      "needs_background": "light"
     },
     "output_type": "display_data"
    }
   ],
   "source": [
    "sns.boxplot(x=hd['Number of Bathrooms'])"
   ]
  },
  {
   "cell_type": "code",
   "execution_count": 56,
   "metadata": {},
   "outputs": [
    {
     "data": {
      "text/plain": [
       "<matplotlib.axes._subplots.AxesSubplot at 0x1d0e989b888>"
      ]
     },
     "execution_count": 56,
     "metadata": {},
     "output_type": "execute_result"
    },
    {
     "data": {
      "image/png": "[encoded data removed]",
      "text/plain": [
       "<Figure size 432x288 with 1 Axes>"
      ]
     },
     "metadata": {
      "needs_background": "light"
     },
     "output_type": "display_data"
    }
   ],
   "source": [
    "sns.boxplot(x=hd['Square Feet'])"
   ]
  },
  {
   "cell_type": "code",
   "execution_count": 57,
   "metadata": {
    "scrolled": true
   },
   "outputs": [
    {
     "data": {
      "text/plain": [
       "<matplotlib.axes._subplots.AxesSubplot at 0x1d0e9854ec8>"
      ]
     },
     "execution_count": 57,
     "metadata": {},
     "output_type": "execute_result"
    },
    {
     "data": {
      "image/png": "[encoded data removed]",
      "text/plain": [
       "<Figure size 432x288 with 1 Axes>"
      ]
     },
     "metadata": {
      "needs_background": "light"
     },
     "output_type": "display_data"
    }
   ],
   "source": [
    "sns.boxplot(x=hd['Number of Parking Spaces'])"
   ]
  },
  {
   "cell_type": "markdown",
   "metadata": {},
   "source": [
    "# Get Rid of Outliers"
   ]
  },
  {
   "cell_type": "markdown",
   "metadata": {},
   "source": [
    "# Parking Spaces \n",
    "Spaces bigger than 3 are likely available places in appartment parking or public parking that residents can use. \n",
    "I replace number od parking spaces that is bigger than 3 my mean."
   ]
  },
  {
   "cell_type": "code",
   "execution_count": 58,
   "metadata": {
    "scrolled": false
   },
   "outputs": [
    {
     "data": {
      "text/plain": [
       "array([  1.,   6.,  nan,   2.,   4.,   3.,   5.,  10.,   8.,   7.,   9.,\n",
       "        15.,  20.,  33.,  72.,  11.,  17.,  28., 117., 334.,  12.,  14.,\n",
       "       189.,  21., 177., 367., 149.,  22.])"
      ]
     },
     "execution_count": 58,
     "metadata": {},
     "output_type": "execute_result"
    }
   ],
   "source": [
    "hd['Number of Parking Spaces'].unique()"
   ]
  },
  {
   "cell_type": "code",
   "execution_count": 59,
   "metadata": {},
   "outputs": [
    {
     "name": "stdout",
     "output_type": "stream",
     "text": [
      "Mean for Number of Parking Spaces 1.8849921630094044\n"
     ]
    }
   ],
   "source": [
    "PS_mean=hd['Number of Parking Spaces'].mean()\n",
    "print('Mean for Number of Parking Spaces' , PS_mean)"
   ]
  },
  {
   "cell_type": "code",
   "execution_count": 60,
   "metadata": {},
   "outputs": [
    {
     "data": {
      "text/html": [
       "<div>\n",
       "<style scoped>\n",
       "    .dataframe tbody tr th:only-of-type {\n",
       "        vertical-align: middle;\n",
       "    }\n",
       "\n",
       "    .dataframe tbody tr th {\n",
       "        vertical-align: top;\n",
       "    }\n",
       "\n",
       "    .dataframe thead th {\n",
       "        text-align: right;\n",
       "    }\n",
       "</style>\n",
       "<table border=\"1\" class=\"dataframe\">\n",
       "  <thead>\n",
       "    <tr style=\"text-align: right;\">\n",
       "      <th></th>\n",
       "      <th>Price</th>\n",
       "      <th>Listing Price</th>\n",
       "      <th>Number of Bedrooms</th>\n",
       "      <th>Number of Bathrooms</th>\n",
       "      <th>Square Feet</th>\n",
       "      <th>Number of Parking Spaces</th>\n",
       "      <th>Description</th>\n",
       "      <th>MLS</th>\n",
       "      <th>Building Type</th>\n",
       "      <th>Address</th>\n",
       "      <th>Latitude</th>\n",
       "      <th>Longitude</th>\n",
       "      <th>City District</th>\n",
       "    </tr>\n",
       "  </thead>\n",
       "  <tbody>\n",
       "    <tr>\n",
       "      <td>0</td>\n",
       "      <td>855000.00</td>\n",
       "      <td>870000.00</td>\n",
       "      <td>3.00</td>\n",
       "      <td>2.00</td>\n",
       "      <td>850.00</td>\n",
       "      <td>1.00</td>\n",
       "      <td>Luxurious And Spacious Murano Tower. 2+1, 2 Ba...</td>\n",
       "      <td>C4461599</td>\n",
       "      <td>Condo</td>\n",
       "      <td>38 Grenville St, Toronto</td>\n",
       "      <td>1.88</td>\n",
       "      <td>1.88</td>\n",
       "      <td>1.88</td>\n",
       "    </tr>\n",
       "    <tr>\n",
       "      <td>1</td>\n",
       "      <td>885000.00</td>\n",
       "      <td>898000.00</td>\n",
       "      <td>3.00</td>\n",
       "      <td>2.00</td>\n",
       "      <td>1.88</td>\n",
       "      <td>6.00</td>\n",
       "      <td>Fantastic Opportunity To Live Within The Histo...</td>\n",
       "      <td>W4502992</td>\n",
       "      <td>Semi-Detached</td>\n",
       "      <td>2 Cabot Crt, Toronto</td>\n",
       "      <td>1.88</td>\n",
       "      <td>1.88</td>\n",
       "      <td>1.88</td>\n",
       "    </tr>\n",
       "    <tr>\n",
       "      <td>2</td>\n",
       "      <td>550000.00</td>\n",
       "      <td>549900.00</td>\n",
       "      <td>1.00</td>\n",
       "      <td>1.00</td>\n",
       "      <td>550.00</td>\n",
       "      <td>1.88</td>\n",
       "      <td>Bright Sunfilled Spacious 1 Bdr Unit; Floor To...</td>\n",
       "      <td>C4511330</td>\n",
       "      <td>Condo</td>\n",
       "      <td>30 Roehampton Ave, Toronto</td>\n",
       "      <td>1.88</td>\n",
       "      <td>1.88</td>\n",
       "      <td>1.88</td>\n",
       "    </tr>\n",
       "    <tr>\n",
       "      <td>3</td>\n",
       "      <td>665000.00</td>\n",
       "      <td>600000.00</td>\n",
       "      <td>2.00</td>\n",
       "      <td>1.00</td>\n",
       "      <td>650.00</td>\n",
       "      <td>1.00</td>\n",
       "      <td>Rare Loft-Like Condo In Liberty Village W/ 18'...</td>\n",
       "      <td>C4515763</td>\n",
       "      <td>Condo</td>\n",
       "      <td>65 East Liberty St, Toronto</td>\n",
       "      <td>1.88</td>\n",
       "      <td>1.88</td>\n",
       "      <td>1.88</td>\n",
       "    </tr>\n",
       "    <tr>\n",
       "      <td>4</td>\n",
       "      <td>825513.00</td>\n",
       "      <td>839000.00</td>\n",
       "      <td>2.00</td>\n",
       "      <td>2.00</td>\n",
       "      <td>1.88</td>\n",
       "      <td>1.00</td>\n",
       "      <td>Location! Location! Location. Your Cottage In ...</td>\n",
       "      <td>W4519375</td>\n",
       "      <td>Detached</td>\n",
       "      <td>61 Twelfth St, Toronto</td>\n",
       "      <td>1.88</td>\n",
       "      <td>1.88</td>\n",
       "      <td>1.88</td>\n",
       "    </tr>\n",
       "    <tr>\n",
       "      <td>...</td>\n",
       "      <td>...</td>\n",
       "      <td>...</td>\n",
       "      <td>...</td>\n",
       "      <td>...</td>\n",
       "      <td>...</td>\n",
       "      <td>...</td>\n",
       "      <td>...</td>\n",
       "      <td>...</td>\n",
       "      <td>...</td>\n",
       "      <td>...</td>\n",
       "      <td>...</td>\n",
       "      <td>...</td>\n",
       "      <td>...</td>\n",
       "    </tr>\n",
       "    <tr>\n",
       "      <td>42877</td>\n",
       "      <td>154900.00</td>\n",
       "      <td>1.88</td>\n",
       "      <td>1.88</td>\n",
       "      <td>1.88</td>\n",
       "      <td>1.88</td>\n",
       "      <td>1.88</td>\n",
       "      <td>1.88</td>\n",
       "      <td>1.88</td>\n",
       "      <td>1.88</td>\n",
       "      <td>3100 CARLING AVENUE UNIT#416 Ottawa, ON</td>\n",
       "      <td>45.35</td>\n",
       "      <td>-75.81</td>\n",
       "      <td>1.88</td>\n",
       "    </tr>\n",
       "    <tr>\n",
       "      <td>42878</td>\n",
       "      <td>624900.00</td>\n",
       "      <td>1.88</td>\n",
       "      <td>1.88</td>\n",
       "      <td>1.88</td>\n",
       "      <td>1.88</td>\n",
       "      <td>1.88</td>\n",
       "      <td>1.88</td>\n",
       "      <td>1.88</td>\n",
       "      <td>1.88</td>\n",
       "      <td>5827 GLADEWOODS PLACE Ottawa, ON</td>\n",
       "      <td>45.44</td>\n",
       "      <td>-75.53</td>\n",
       "      <td>1.88</td>\n",
       "    </tr>\n",
       "    <tr>\n",
       "      <td>42879</td>\n",
       "      <td>899000.00</td>\n",
       "      <td>1.88</td>\n",
       "      <td>1.88</td>\n",
       "      <td>1.88</td>\n",
       "      <td>1.88</td>\n",
       "      <td>1.88</td>\n",
       "      <td>1.88</td>\n",
       "      <td>1.88</td>\n",
       "      <td>1.88</td>\n",
       "      <td>6349 DEERMEADOW DRIVE Ottawa, ON</td>\n",
       "      <td>45.24</td>\n",
       "      <td>-75.60</td>\n",
       "      <td>1.88</td>\n",
       "    </tr>\n",
       "    <tr>\n",
       "      <td>42880</td>\n",
       "      <td>295000.00</td>\n",
       "      <td>1.88</td>\n",
       "      <td>1.88</td>\n",
       "      <td>1.88</td>\n",
       "      <td>1.88</td>\n",
       "      <td>1.88</td>\n",
       "      <td>1.88</td>\n",
       "      <td>1.88</td>\n",
       "      <td>1.88</td>\n",
       "      <td>212 ALVIN ROAD Ottawa, ON</td>\n",
       "      <td>45.45</td>\n",
       "      <td>-75.65</td>\n",
       "      <td>1.88</td>\n",
       "    </tr>\n",
       "    <tr>\n",
       "      <td>42881</td>\n",
       "      <td>1595000.00</td>\n",
       "      <td>1.88</td>\n",
       "      <td>1.88</td>\n",
       "      <td>1.88</td>\n",
       "      <td>1.88</td>\n",
       "      <td>1.88</td>\n",
       "      <td>1.88</td>\n",
       "      <td>1.88</td>\n",
       "      <td>1.88</td>\n",
       "      <td>BARTON Street BARTON Street Stoney Creek, ON</td>\n",
       "      <td>43.22</td>\n",
       "      <td>-79.69</td>\n",
       "      <td>1.88</td>\n",
       "    </tr>\n",
       "  </tbody>\n",
       "</table>\n",
       "<p>42882 rows × 13 columns</p>\n",
       "</div>"
      ],
      "text/plain": [
       "           Price  Listing Price  Number of Bedrooms  Number of Bathrooms  \\\n",
       "0      855000.00      870000.00                3.00                 2.00   \n",
       "1      885000.00      898000.00                3.00                 2.00   \n",
       "2      550000.00      549900.00                1.00                 1.00   \n",
       "3      665000.00      600000.00                2.00                 1.00   \n",
       "4      825513.00      839000.00                2.00                 2.00   \n",
       "...          ...            ...                 ...                  ...   \n",
       "42877  154900.00           1.88                1.88                 1.88   \n",
       "42878  624900.00           1.88                1.88                 1.88   \n",
       "42879  899000.00           1.88                1.88                 1.88   \n",
       "42880  295000.00           1.88                1.88                 1.88   \n",
       "42881 1595000.00           1.88                1.88                 1.88   \n",
       "\n",
       "       Square Feet  Number of Parking Spaces  \\\n",
       "0           850.00                      1.00   \n",
       "1             1.88                      6.00   \n",
       "2           550.00                      1.88   \n",
       "3           650.00                      1.00   \n",
       "4             1.88                      1.00   \n",
       "...            ...                       ...   \n",
       "42877         1.88                      1.88   \n",
       "42878         1.88                      1.88   \n",
       "42879         1.88                      1.88   \n",
       "42880         1.88                      1.88   \n",
       "42881         1.88                      1.88   \n",
       "\n",
       "                                             Description       MLS  \\\n",
       "0      Luxurious And Spacious Murano Tower. 2+1, 2 Ba...  C4461599   \n",
       "1      Fantastic Opportunity To Live Within The Histo...  W4502992   \n",
       "2      Bright Sunfilled Spacious 1 Bdr Unit; Floor To...  C4511330   \n",
       "3      Rare Loft-Like Condo In Liberty Village W/ 18'...  C4515763   \n",
       "4      Location! Location! Location. Your Cottage In ...  W4519375   \n",
       "...                                                  ...       ...   \n",
       "42877                                               1.88      1.88   \n",
       "42878                                               1.88      1.88   \n",
       "42879                                               1.88      1.88   \n",
       "42880                                               1.88      1.88   \n",
       "42881                                               1.88      1.88   \n",
       "\n",
       "       Building Type                                       Address  Latitude  \\\n",
       "0              Condo                     38 Grenville St, Toronto       1.88   \n",
       "1      Semi-Detached                         2 Cabot Crt, Toronto       1.88   \n",
       "2              Condo                   30 Roehampton Ave, Toronto       1.88   \n",
       "3              Condo                  65 East Liberty St, Toronto       1.88   \n",
       "4           Detached                       61 Twelfth St, Toronto       1.88   \n",
       "...              ...                                           ...       ...   \n",
       "42877           1.88       3100 CARLING AVENUE UNIT#416 Ottawa, ON     45.35   \n",
       "42878           1.88              5827 GLADEWOODS PLACE Ottawa, ON     45.44   \n",
       "42879           1.88              6349 DEERMEADOW DRIVE Ottawa, ON     45.24   \n",
       "42880           1.88                     212 ALVIN ROAD Ottawa, ON     45.45   \n",
       "42881           1.88  BARTON Street BARTON Street Stoney Creek, ON     43.22   \n",
       "\n",
       "       Longitude  City District  \n",
       "0           1.88           1.88  \n",
       "1           1.88           1.88  \n",
       "2           1.88           1.88  \n",
       "3           1.88           1.88  \n",
       "4           1.88           1.88  \n",
       "...          ...            ...  \n",
       "42877     -75.81           1.88  \n",
       "42878     -75.53           1.88  \n",
       "42879     -75.60           1.88  \n",
       "42880     -75.65           1.88  \n",
       "42881     -79.69           1.88  \n",
       "\n",
       "[42882 rows x 13 columns]"
      ]
     },
     "execution_count": 60,
     "metadata": {},
     "output_type": "execute_result"
    }
   ],
   "source": [
    "hd.fillna(hd['Number of Parking Spaces'].mean())"
   ]
  },
  {
   "cell_type": "code",
   "execution_count": 61,
   "metadata": {},
   "outputs": [
    {
     "data": {
      "text/plain": [
       "array([  1.,   6.,  nan,   2.,   4.,   3.,   5.,  10.,   8.,   7.,   9.,\n",
       "        15.,  20.,  33.,  72.,  11.,  17.,  28., 117., 334.,  12.,  14.,\n",
       "       189.,  21., 177., 367., 149.,  22.])"
      ]
     },
     "execution_count": 61,
     "metadata": {},
     "output_type": "execute_result"
    }
   ],
   "source": [
    "hd['Number of Parking Spaces'].unique()"
   ]
  },
  {
   "cell_type": "code",
   "execution_count": 62,
   "metadata": {
    "scrolled": true
   },
   "outputs": [
    {
     "data": {
      "text/plain": [
       "count   15312.00\n",
       "mean        1.88\n",
       "std         4.97\n",
       "min         1.00\n",
       "25%         1.00\n",
       "50%         1.00\n",
       "75%         2.00\n",
       "max       367.00\n",
       "Name: Number of Parking Spaces, dtype: float64"
      ]
     },
     "execution_count": 62,
     "metadata": {},
     "output_type": "execute_result"
    }
   ],
   "source": [
    "hd['Number of Parking Spaces'].describe()"
   ]
  },
  {
   "cell_type": "code",
   "execution_count": 63,
   "metadata": {},
   "outputs": [],
   "source": [
    "#Replace nan values by Mean"
   ]
  },
  {
   "cell_type": "code",
   "execution_count": 64,
   "metadata": {},
   "outputs": [],
   "source": [
    "hd['Number of Parking Spaces'].replace(np.nan, PS_mean, inplace=True)"
   ]
  },
  {
   "cell_type": "code",
   "execution_count": 65,
   "metadata": {},
   "outputs": [
    {
     "data": {
      "text/plain": [
       "array([  1.        ,   6.        ,   1.88499216,   2.        ,\n",
       "         4.        ,   3.        ,   5.        ,  10.        ,\n",
       "         8.        ,   7.        ,   9.        ,  15.        ,\n",
       "        20.        ,  33.        ,  72.        ,  11.        ,\n",
       "        17.        ,  28.        , 117.        , 334.        ,\n",
       "        12.        ,  14.        , 189.        ,  21.        ,\n",
       "       177.        , 367.        , 149.        ,  22.        ])"
      ]
     },
     "execution_count": 65,
     "metadata": {},
     "output_type": "execute_result"
    }
   ],
   "source": [
    "hd['Number of Parking Spaces'].unique()"
   ]
  },
  {
   "cell_type": "code",
   "execution_count": 66,
   "metadata": {},
   "outputs": [],
   "source": [
    "#Replace values>3 by Mean"
   ]
  },
  {
   "cell_type": "code",
   "execution_count": 67,
   "metadata": {},
   "outputs": [],
   "source": [
    "hd['Number of Parking Spaces'] = np.where(hd['Number of Parking Spaces'] >3, PS_mean,hd['Number of Parking Spaces'])"
   ]
  },
  {
   "cell_type": "code",
   "execution_count": 68,
   "metadata": {
    "scrolled": true
   },
   "outputs": [
    {
     "data": {
      "text/plain": [
       "count   42882.00\n",
       "mean        1.73\n",
       "std         0.42\n",
       "min         1.00\n",
       "25%         1.88\n",
       "50%         1.88\n",
       "75%         1.88\n",
       "max         3.00\n",
       "Name: Number of Parking Spaces, dtype: float64"
      ]
     },
     "execution_count": 68,
     "metadata": {},
     "output_type": "execute_result"
    }
   ],
   "source": [
    "hd['Number of Parking Spaces'].describe()"
   ]
  },
  {
   "cell_type": "code",
   "execution_count": 69,
   "metadata": {},
   "outputs": [
    {
     "data": {
      "text/plain": [
       "array([1.        , 1.88499216, 2.        , 3.        ])"
      ]
     },
     "execution_count": 69,
     "metadata": {},
     "output_type": "execute_result"
    }
   ],
   "source": [
    "hd['Number of Parking Spaces'].unique()"
   ]
  },
  {
   "cell_type": "code",
   "execution_count": 70,
   "metadata": {},
   "outputs": [
    {
     "data": {
      "text/plain": [
       "<matplotlib.axes._subplots.AxesSubplot at 0x1d0e9989cc8>"
      ]
     },
     "execution_count": 70,
     "metadata": {},
     "output_type": "execute_result"
    },
    {
     "data": {
      "image/png": "[encoded data removed]",
      "text/plain": [
       "<Figure size 432x288 with 1 Axes>"
      ]
     },
     "metadata": {
      "needs_background": "light"
     },
     "output_type": "display_data"
    }
   ],
   "source": [
    "sns.scatterplot(data=hd['Number of Parking Spaces'])"
   ]
  },
  {
   "cell_type": "code",
   "execution_count": 71,
   "metadata": {},
   "outputs": [
    {
     "data": {
      "text/plain": [
       "Text(0.5, 1.0, 'Number of Parking Spaces bins')"
      ]
     },
     "execution_count": 71,
     "metadata": {},
     "output_type": "execute_result"
    },
    {
     "data": {
      "image/png": "[encoded data removed]",
      "text/plain": [
       "<Figure size 432x288 with 1 Axes>"
      ]
     },
     "metadata": {
      "needs_background": "light"
     },
     "output_type": "display_data"
    }
   ],
   "source": [
    "%matplotlib inline\n",
    "import matplotlib as plt\n",
    "from matplotlib import pyplot\n",
    "plt.pyplot.hist(hd['Number of Parking Spaces'])\n",
    "plt.pyplot.xlabel('Number of Parking Spaces')\n",
    "plt.pyplot.ylabel('count')\n",
    "plt.pyplot.title('Number of Parking Spaces bins')"
   ]
  },
  {
   "cell_type": "markdown",
   "metadata": {},
   "source": [
    "# Square Feet\n"
   ]
  },
  {
   "cell_type": "code",
   "execution_count": 72,
   "metadata": {},
   "outputs": [
    {
     "data": {
      "text/plain": [
       "count   12207.00\n",
       "mean     1124.60\n",
       "std       696.52\n",
       "min       250.00\n",
       "25%       650.00\n",
       "50%       950.00\n",
       "75%      1300.00\n",
       "max      4650.00\n",
       "Name: Square Feet, dtype: float64"
      ]
     },
     "execution_count": 72,
     "metadata": {},
     "output_type": "execute_result"
    }
   ],
   "source": [
    "hd['Square Feet'].describe()"
   ]
  },
  {
   "cell_type": "code",
   "execution_count": 73,
   "metadata": {},
   "outputs": [
    {
     "data": {
      "text/plain": [
       "array([ 850.,   nan,  550.,  650.,  250., 2750., 1100., 1350., 3250.,\n",
       "       1750.,  750.,  900., 2375., 1300.,  950., 2250., 1900., 2125.,\n",
       "       1500., 4250., 1700., 4375.,  800., 2875., 3375., 2625.,  600.,\n",
       "       3125., 1000., 1200., 4650.])"
      ]
     },
     "execution_count": 73,
     "metadata": {},
     "output_type": "execute_result"
    }
   ],
   "source": [
    "hd['Square Feet'].unique()"
   ]
  },
  {
   "cell_type": "code",
   "execution_count": 74,
   "metadata": {},
   "outputs": [
    {
     "name": "stdout",
     "output_type": "stream",
     "text": [
      "Mean for Square Feet 1124.6006389776358\n"
     ]
    }
   ],
   "source": [
    "SF_mean=hd['Square Feet'].mean()\n",
    "print('Mean for Square Feet' , SF_mean)"
   ]
  },
  {
   "cell_type": "code",
   "execution_count": 75,
   "metadata": {},
   "outputs": [],
   "source": [
    "# Replace nan by mean"
   ]
  },
  {
   "cell_type": "code",
   "execution_count": 76,
   "metadata": {},
   "outputs": [],
   "source": [
    "hd['Square Feet'].replace(np.nan, SF_mean, inplace=True)"
   ]
  },
  {
   "cell_type": "code",
   "execution_count": 77,
   "metadata": {
    "scrolled": true
   },
   "outputs": [
    {
     "data": {
      "text/plain": [
       "array([ 850.        , 1124.60063898,  550.        ,  650.        ,\n",
       "        250.        , 2750.        , 1100.        , 1350.        ,\n",
       "       3250.        , 1750.        ,  750.        ,  900.        ,\n",
       "       2375.        , 1300.        ,  950.        , 2250.        ,\n",
       "       1900.        , 2125.        , 1500.        , 4250.        ,\n",
       "       1700.        , 4375.        ,  800.        , 2875.        ,\n",
       "       3375.        , 2625.        ,  600.        , 3125.        ,\n",
       "       1000.        , 1200.        , 4650.        ])"
      ]
     },
     "execution_count": 77,
     "metadata": {},
     "output_type": "execute_result"
    }
   ],
   "source": [
    "hd['Square Feet'].unique()"
   ]
  },
  {
   "cell_type": "code",
   "execution_count": 78,
   "metadata": {},
   "outputs": [],
   "source": [
    "#Replace values> 1750 by mean"
   ]
  },
  {
   "cell_type": "code",
   "execution_count": 79,
   "metadata": {},
   "outputs": [],
   "source": [
    "hd['Square Feet'] = np.where(hd['Square Feet'] > 1750, SF_mean,hd['Square Feet'])"
   ]
  },
  {
   "cell_type": "code",
   "execution_count": 80,
   "metadata": {
    "scrolled": true
   },
   "outputs": [
    {
     "data": {
      "text/plain": [
       "count   42882.00\n",
       "mean     1076.25\n",
       "std       204.02\n",
       "min       250.00\n",
       "25%      1124.60\n",
       "50%      1124.60\n",
       "75%      1124.60\n",
       "max      1750.00\n",
       "Name: Square Feet, dtype: float64"
      ]
     },
     "execution_count": 80,
     "metadata": {},
     "output_type": "execute_result"
    }
   ],
   "source": [
    "hd['Square Feet'].describe()"
   ]
  },
  {
   "cell_type": "code",
   "execution_count": 81,
   "metadata": {
    "scrolled": true
   },
   "outputs": [
    {
     "data": {
      "text/plain": [
       "<matplotlib.axes._subplots.AxesSubplot at 0x1d0e7b61688>"
      ]
     },
     "execution_count": 81,
     "metadata": {},
     "output_type": "execute_result"
    },
    {
     "data": {
      "image/png": "[encoded data removed]",
      "text/plain": [
       "<Figure size 432x288 with 1 Axes>"
      ]
     },
     "metadata": {
      "needs_background": "light"
     },
     "output_type": "display_data"
    }
   ],
   "source": [
    "sns.scatterplot(data=hd['Square Feet'])"
   ]
  },
  {
   "cell_type": "code",
   "execution_count": 82,
   "metadata": {},
   "outputs": [
    {
     "data": {
      "text/plain": [
       "Text(0.5, 1.0, 'Square Feet bins')"
      ]
     },
     "execution_count": 82,
     "metadata": {},
     "output_type": "execute_result"
    },
    {
     "data": {
      "image/png": "[encoded data removed]",
      "text/plain": [
       "<Figure size 432x288 with 1 Axes>"
      ]
     },
     "metadata": {
      "needs_background": "light"
     },
     "output_type": "display_data"
    }
   ],
   "source": [
    "%matplotlib inline\n",
    "import matplotlib as plt\n",
    "from matplotlib import pyplot\n",
    "plt.pyplot.hist(hd['Square Feet'])\n",
    "plt.pyplot.xlabel('Square Feet')\n",
    "plt.pyplot.ylabel('count')\n",
    "plt.pyplot.title('Square Feet bins')"
   ]
  },
  {
   "cell_type": "markdown",
   "metadata": {},
   "source": [
    "# Number of Bathrooms"
   ]
  },
  {
   "cell_type": "code",
   "execution_count": 83,
   "metadata": {},
   "outputs": [
    {
     "data": {
      "text/plain": [
       "count   17405.00\n",
       "mean        2.13\n",
       "std         1.13\n",
       "min         1.00\n",
       "25%         1.00\n",
       "50%         2.00\n",
       "75%         3.00\n",
       "max        14.00\n",
       "Name: Number of Bathrooms, dtype: float64"
      ]
     },
     "execution_count": 83,
     "metadata": {},
     "output_type": "execute_result"
    }
   ],
   "source": [
    "hd['Number of Bathrooms'].describe()"
   ]
  },
  {
   "cell_type": "code",
   "execution_count": 84,
   "metadata": {},
   "outputs": [
    {
     "data": {
      "text/plain": [
       "array([ 2.,  1.,  5.,  4.,  3.,  6., nan,  8.,  7.,  9., 14., 10., 11.])"
      ]
     },
     "execution_count": 84,
     "metadata": {},
     "output_type": "execute_result"
    }
   ],
   "source": [
    "hd['Number of Bathrooms'].unique()"
   ]
  },
  {
   "cell_type": "code",
   "execution_count": 85,
   "metadata": {},
   "outputs": [
    {
     "name": "stdout",
     "output_type": "stream",
     "text": [
      "Mean for Number of Bathrooms 2.1322033898305084\n"
     ]
    }
   ],
   "source": [
    "NB_mean=hd['Number of Bathrooms'].mean()\n",
    "print('Mean for Number of Bathrooms' , NB_mean)"
   ]
  },
  {
   "cell_type": "code",
   "execution_count": 86,
   "metadata": {},
   "outputs": [],
   "source": [
    "#Replace nan by mean"
   ]
  },
  {
   "cell_type": "code",
   "execution_count": 87,
   "metadata": {},
   "outputs": [],
   "source": [
    "hd['Number of Bathrooms'].replace(np.nan, NB_mean, inplace=True)"
   ]
  },
  {
   "cell_type": "code",
   "execution_count": 88,
   "metadata": {},
   "outputs": [
    {
     "data": {
      "text/plain": [
       "array([ 2.        ,  1.        ,  5.        ,  4.        ,  3.        ,\n",
       "        6.        ,  2.13220339,  8.        ,  7.        ,  9.        ,\n",
       "       14.        , 10.        , 11.        ])"
      ]
     },
     "execution_count": 88,
     "metadata": {},
     "output_type": "execute_result"
    }
   ],
   "source": [
    "hd['Number of Bathrooms'].unique()"
   ]
  },
  {
   "cell_type": "code",
   "execution_count": 89,
   "metadata": {},
   "outputs": [],
   "source": [
    "#Replace values>6 by mean"
   ]
  },
  {
   "cell_type": "code",
   "execution_count": 90,
   "metadata": {},
   "outputs": [],
   "source": [
    "hd['Number of Bathrooms'] = np.where(hd['Number of Bathrooms'] > 6, NB_mean,hd['Number of Bathrooms'])"
   ]
  },
  {
   "cell_type": "code",
   "execution_count": 91,
   "metadata": {},
   "outputs": [
    {
     "data": {
      "text/plain": [
       "count   42882.00\n",
       "mean        2.12\n",
       "std         0.67\n",
       "min         1.00\n",
       "25%         2.00\n",
       "50%         2.13\n",
       "75%         2.13\n",
       "max         6.00\n",
       "Name: Number of Bathrooms, dtype: float64"
      ]
     },
     "execution_count": 91,
     "metadata": {},
     "output_type": "execute_result"
    }
   ],
   "source": [
    "hd['Number of Bathrooms'].describe()"
   ]
  },
  {
   "cell_type": "code",
   "execution_count": 92,
   "metadata": {
    "scrolled": true
   },
   "outputs": [
    {
     "data": {
      "text/plain": [
       "<matplotlib.axes._subplots.AxesSubplot at 0x1d0e8f2de48>"
      ]
     },
     "execution_count": 92,
     "metadata": {},
     "output_type": "execute_result"
    },
    {
     "data": {
      "image/png": "[encoded data removed]",
      "text/plain": [
       "<Figure size 432x288 with 1 Axes>"
      ]
     },
     "metadata": {
      "needs_background": "light"
     },
     "output_type": "display_data"
    }
   ],
   "source": [
    "sns.scatterplot(data=hd['Number of Bathrooms'])"
   ]
  },
  {
   "cell_type": "code",
   "execution_count": 93,
   "metadata": {},
   "outputs": [
    {
     "data": {
      "text/plain": [
       "Text(0.5, 1.0, 'Number of Bathrooms bins')"
      ]
     },
     "execution_count": 93,
     "metadata": {},
     "output_type": "execute_result"
    },
    {
     "data": {
      "image/png": "[encoded data removed]",
      "text/plain": [
       "<Figure size 432x288 with 1 Axes>"
      ]
     },
     "metadata": {
      "needs_background": "light"
     },
     "output_type": "display_data"
    }
   ],
   "source": [
    "%matplotlib inline\n",
    "import matplotlib as plt\n",
    "from matplotlib import pyplot\n",
    "plt.pyplot.hist(hd['Number of Bathrooms'])\n",
    "plt.pyplot.xlabel('Number of Bathrooms')\n",
    "plt.pyplot.ylabel('count')\n",
    "plt.pyplot.title('Number of Bathrooms bins')"
   ]
  },
  {
   "cell_type": "markdown",
   "metadata": {},
   "source": [
    "# Number of Bedrooms"
   ]
  },
  {
   "cell_type": "code",
   "execution_count": 94,
   "metadata": {},
   "outputs": [
    {
     "data": {
      "text/plain": [
       "count   17405.00\n",
       "mean        2.89\n",
       "std         1.41\n",
       "min         0.00\n",
       "25%         2.00\n",
       "50%         3.00\n",
       "75%         4.00\n",
       "max        14.00\n",
       "Name: Number of Bedrooms, dtype: float64"
      ]
     },
     "execution_count": 94,
     "metadata": {},
     "output_type": "execute_result"
    }
   ],
   "source": [
    "hd['Number of Bedrooms'].describe()"
   ]
  },
  {
   "cell_type": "code",
   "execution_count": 95,
   "metadata": {},
   "outputs": [
    {
     "data": {
      "text/plain": [
       "array([ 3.,  1.,  2.,  0.,  4.,  6.,  5.,  7., nan,  8., 11.,  9., 10.,\n",
       "       14., 12., 13.])"
      ]
     },
     "execution_count": 95,
     "metadata": {},
     "output_type": "execute_result"
    }
   ],
   "source": [
    "hd['Number of Bedrooms'].unique()"
   ]
  },
  {
   "cell_type": "code",
   "execution_count": 96,
   "metadata": {},
   "outputs": [
    {
     "name": "stdout",
     "output_type": "stream",
     "text": [
      "Mean for Number of Bedrooms 2.8898592358517665\n"
     ]
    }
   ],
   "source": [
    "NBed_mean=hd['Number of Bedrooms'].mean()\n",
    "print('Mean for Number of Bedrooms' , NBed_mean)"
   ]
  },
  {
   "cell_type": "code",
   "execution_count": 97,
   "metadata": {},
   "outputs": [],
   "source": [
    "#Replace nan by mean"
   ]
  },
  {
   "cell_type": "code",
   "execution_count": 98,
   "metadata": {},
   "outputs": [],
   "source": [
    "hd['Number of Bedrooms'].replace(np.nan, NBed_mean, inplace=True)"
   ]
  },
  {
   "cell_type": "code",
   "execution_count": 99,
   "metadata": {},
   "outputs": [],
   "source": [
    "#Replace 0 by mean"
   ]
  },
  {
   "cell_type": "code",
   "execution_count": 100,
   "metadata": {},
   "outputs": [],
   "source": [
    "hd['Number of Bedrooms'].replace(0, NBed_mean, inplace=True)"
   ]
  },
  {
   "cell_type": "code",
   "execution_count": 101,
   "metadata": {},
   "outputs": [
    {
     "data": {
      "text/plain": [
       "array([ 3.        ,  1.        ,  2.        ,  2.88985924,  4.        ,\n",
       "        6.        ,  5.        ,  7.        ,  8.        , 11.        ,\n",
       "        9.        , 10.        , 14.        , 12.        , 13.        ])"
      ]
     },
     "execution_count": 101,
     "metadata": {},
     "output_type": "execute_result"
    }
   ],
   "source": [
    "hd['Number of Bedrooms'].unique()"
   ]
  },
  {
   "cell_type": "code",
   "execution_count": 102,
   "metadata": {},
   "outputs": [],
   "source": [
    "#Replace values>7 by mean"
   ]
  },
  {
   "cell_type": "code",
   "execution_count": 103,
   "metadata": {},
   "outputs": [],
   "source": [
    "hd['Number of Bedrooms'] = np.where(hd['Number of Bedrooms'] > 7, NBed_mean,hd['Number of Bedrooms'])"
   ]
  },
  {
   "cell_type": "code",
   "execution_count": 104,
   "metadata": {
    "scrolled": true
   },
   "outputs": [
    {
     "data": {
      "text/plain": [
       "count   42882.00\n",
       "mean        2.89\n",
       "std         0.83\n",
       "min         1.00\n",
       "25%         2.89\n",
       "50%         2.89\n",
       "75%         2.89\n",
       "max         7.00\n",
       "Name: Number of Bedrooms, dtype: float64"
      ]
     },
     "execution_count": 104,
     "metadata": {},
     "output_type": "execute_result"
    }
   ],
   "source": [
    "hd['Number of Bedrooms'].describe()"
   ]
  },
  {
   "cell_type": "code",
   "execution_count": 105,
   "metadata": {
    "scrolled": true
   },
   "outputs": [
    {
     "data": {
      "text/plain": [
       "<matplotlib.axes._subplots.AxesSubplot at 0x1d0e73b16c8>"
      ]
     },
     "execution_count": 105,
     "metadata": {},
     "output_type": "execute_result"
    },
    {
     "data": {
      "image/png": "[encoded data removed]",
      "text/plain": [
       "<Figure size 432x288 with 1 Axes>"
      ]
     },
     "metadata": {
      "needs_background": "light"
     },
     "output_type": "display_data"
    }
   ],
   "source": [
    "sns.scatterplot(data=hd['Number of Bedrooms'])"
   ]
  },
  {
   "cell_type": "code",
   "execution_count": 106,
   "metadata": {},
   "outputs": [
    {
     "data": {
      "text/plain": [
       "Text(0.5, 1.0, 'Number of Bedrooms bins')"
      ]
     },
     "execution_count": 106,
     "metadata": {},
     "output_type": "execute_result"
    },
    {
     "data": {
      "image/png": "[encoded data removed]",
      "text/plain": [
       "<Figure size 432x288 with 1 Axes>"
      ]
     },
     "metadata": {
      "needs_background": "light"
     },
     "output_type": "display_data"
    }
   ],
   "source": [
    "%matplotlib inline\n",
    "import matplotlib as plt\n",
    "from matplotlib import pyplot\n",
    "plt.pyplot.hist(hd['Number of Bedrooms'])\n",
    "plt.pyplot.xlabel('Number of Bedrooms')\n",
    "plt.pyplot.ylabel('count')\n",
    "plt.pyplot.title('Number of Bedrooms bins')"
   ]
  },
  {
   "cell_type": "markdown",
   "metadata": {},
   "source": [
    "# Price"
   ]
  },
  {
   "cell_type": "code",
   "execution_count": 107,
   "metadata": {
    "scrolled": false
   },
   "outputs": [
    {
     "data": {
      "text/plain": [
       "count      42756.00\n",
       "mean      695775.31\n",
       "std       779481.11\n",
       "min            0.00\n",
       "25%       319900.00\n",
       "50%       529000.00\n",
       "75%       810000.00\n",
       "max     32500000.00\n",
       "Name: Price, dtype: float64"
      ]
     },
     "execution_count": 107,
     "metadata": {},
     "output_type": "execute_result"
    }
   ],
   "source": [
    "hd['Price'].describe()"
   ]
  },
  {
   "cell_type": "code",
   "execution_count": 108,
   "metadata": {},
   "outputs": [
    {
     "name": "stdout",
     "output_type": "stream",
     "text": [
      "Mean for Price 695775.3050098232\n"
     ]
    }
   ],
   "source": [
    "P_mean=hd['Price'].mean()\n",
    "print('Mean for Price' , P_mean)"
   ]
  },
  {
   "cell_type": "code",
   "execution_count": 109,
   "metadata": {},
   "outputs": [
    {
     "data": {
      "text/plain": [
       "array([855000., 885000., 550000., ..., 799997., 240500., 384888.])"
      ]
     },
     "execution_count": 109,
     "metadata": {},
     "output_type": "execute_result"
    }
   ],
   "source": [
    "hd['Price'].unique()"
   ]
  },
  {
   "cell_type": "code",
   "execution_count": 110,
   "metadata": {},
   "outputs": [],
   "source": [
    "# Decrease price scale for creating boxplot"
   ]
  },
  {
   "cell_type": "code",
   "execution_count": 111,
   "metadata": {
    "scrolled": true
   },
   "outputs": [
    {
     "data": {
      "text/html": [
       "<div>\n",
       "<style scoped>\n",
       "    .dataframe tbody tr th:only-of-type {\n",
       "        vertical-align: middle;\n",
       "    }\n",
       "\n",
       "    .dataframe tbody tr th {\n",
       "        vertical-align: top;\n",
       "    }\n",
       "\n",
       "    .dataframe thead th {\n",
       "        text-align: right;\n",
       "    }\n",
       "</style>\n",
       "<table border=\"1\" class=\"dataframe\">\n",
       "  <thead>\n",
       "    <tr style=\"text-align: right;\">\n",
       "      <th></th>\n",
       "      <th>Price</th>\n",
       "      <th>Listing Price</th>\n",
       "      <th>Number of Bedrooms</th>\n",
       "      <th>Number of Bathrooms</th>\n",
       "      <th>Square Feet</th>\n",
       "      <th>Number of Parking Spaces</th>\n",
       "      <th>Description</th>\n",
       "      <th>MLS</th>\n",
       "      <th>Building Type</th>\n",
       "      <th>Address</th>\n",
       "      <th>Latitude</th>\n",
       "      <th>Longitude</th>\n",
       "      <th>City District</th>\n",
       "      <th>Price in Thousands</th>\n",
       "    </tr>\n",
       "  </thead>\n",
       "  <tbody>\n",
       "    <tr>\n",
       "      <td>0</td>\n",
       "      <td>855000.00</td>\n",
       "      <td>870000.00</td>\n",
       "      <td>3.00</td>\n",
       "      <td>2.00</td>\n",
       "      <td>850.00</td>\n",
       "      <td>1.00</td>\n",
       "      <td>Luxurious And Spacious Murano Tower. 2+1, 2 Ba...</td>\n",
       "      <td>C4461599</td>\n",
       "      <td>Condo</td>\n",
       "      <td>38 Grenville St, Toronto</td>\n",
       "      <td>nan</td>\n",
       "      <td>nan</td>\n",
       "      <td>nan</td>\n",
       "      <td>855.00</td>\n",
       "    </tr>\n",
       "    <tr>\n",
       "      <td>1</td>\n",
       "      <td>885000.00</td>\n",
       "      <td>898000.00</td>\n",
       "      <td>3.00</td>\n",
       "      <td>2.00</td>\n",
       "      <td>1124.60</td>\n",
       "      <td>1.88</td>\n",
       "      <td>Fantastic Opportunity To Live Within The Histo...</td>\n",
       "      <td>W4502992</td>\n",
       "      <td>Semi-Detached</td>\n",
       "      <td>2 Cabot Crt, Toronto</td>\n",
       "      <td>nan</td>\n",
       "      <td>nan</td>\n",
       "      <td>nan</td>\n",
       "      <td>885.00</td>\n",
       "    </tr>\n",
       "    <tr>\n",
       "      <td>2</td>\n",
       "      <td>550000.00</td>\n",
       "      <td>549900.00</td>\n",
       "      <td>1.00</td>\n",
       "      <td>1.00</td>\n",
       "      <td>550.00</td>\n",
       "      <td>1.88</td>\n",
       "      <td>Bright Sunfilled Spacious 1 Bdr Unit; Floor To...</td>\n",
       "      <td>C4511330</td>\n",
       "      <td>Condo</td>\n",
       "      <td>30 Roehampton Ave, Toronto</td>\n",
       "      <td>nan</td>\n",
       "      <td>nan</td>\n",
       "      <td>nan</td>\n",
       "      <td>550.00</td>\n",
       "    </tr>\n",
       "    <tr>\n",
       "      <td>3</td>\n",
       "      <td>665000.00</td>\n",
       "      <td>600000.00</td>\n",
       "      <td>2.00</td>\n",
       "      <td>1.00</td>\n",
       "      <td>650.00</td>\n",
       "      <td>1.00</td>\n",
       "      <td>Rare Loft-Like Condo In Liberty Village W/ 18'...</td>\n",
       "      <td>C4515763</td>\n",
       "      <td>Condo</td>\n",
       "      <td>65 East Liberty St, Toronto</td>\n",
       "      <td>nan</td>\n",
       "      <td>nan</td>\n",
       "      <td>nan</td>\n",
       "      <td>665.00</td>\n",
       "    </tr>\n",
       "    <tr>\n",
       "      <td>4</td>\n",
       "      <td>825513.00</td>\n",
       "      <td>839000.00</td>\n",
       "      <td>2.00</td>\n",
       "      <td>2.00</td>\n",
       "      <td>1124.60</td>\n",
       "      <td>1.00</td>\n",
       "      <td>Location! Location! Location. Your Cottage In ...</td>\n",
       "      <td>W4519375</td>\n",
       "      <td>Detached</td>\n",
       "      <td>61 Twelfth St, Toronto</td>\n",
       "      <td>nan</td>\n",
       "      <td>nan</td>\n",
       "      <td>nan</td>\n",
       "      <td>825.51</td>\n",
       "    </tr>\n",
       "    <tr>\n",
       "      <td>...</td>\n",
       "      <td>...</td>\n",
       "      <td>...</td>\n",
       "      <td>...</td>\n",
       "      <td>...</td>\n",
       "      <td>...</td>\n",
       "      <td>...</td>\n",
       "      <td>...</td>\n",
       "      <td>...</td>\n",
       "      <td>...</td>\n",
       "      <td>...</td>\n",
       "      <td>...</td>\n",
       "      <td>...</td>\n",
       "      <td>...</td>\n",
       "      <td>...</td>\n",
       "    </tr>\n",
       "    <tr>\n",
       "      <td>42877</td>\n",
       "      <td>154900.00</td>\n",
       "      <td>nan</td>\n",
       "      <td>2.89</td>\n",
       "      <td>2.13</td>\n",
       "      <td>1124.60</td>\n",
       "      <td>1.88</td>\n",
       "      <td>NaN</td>\n",
       "      <td>NaN</td>\n",
       "      <td>NaN</td>\n",
       "      <td>3100 CARLING AVENUE UNIT#416 Ottawa, ON</td>\n",
       "      <td>45.35</td>\n",
       "      <td>-75.81</td>\n",
       "      <td>nan</td>\n",
       "      <td>154.90</td>\n",
       "    </tr>\n",
       "    <tr>\n",
       "      <td>42878</td>\n",
       "      <td>624900.00</td>\n",
       "      <td>nan</td>\n",
       "      <td>2.89</td>\n",
       "      <td>2.13</td>\n",
       "      <td>1124.60</td>\n",
       "      <td>1.88</td>\n",
       "      <td>NaN</td>\n",
       "      <td>NaN</td>\n",
       "      <td>NaN</td>\n",
       "      <td>5827 GLADEWOODS PLACE Ottawa, ON</td>\n",
       "      <td>45.44</td>\n",
       "      <td>-75.53</td>\n",
       "      <td>nan</td>\n",
       "      <td>624.90</td>\n",
       "    </tr>\n",
       "    <tr>\n",
       "      <td>42879</td>\n",
       "      <td>899000.00</td>\n",
       "      <td>nan</td>\n",
       "      <td>2.89</td>\n",
       "      <td>2.13</td>\n",
       "      <td>1124.60</td>\n",
       "      <td>1.88</td>\n",
       "      <td>NaN</td>\n",
       "      <td>NaN</td>\n",
       "      <td>NaN</td>\n",
       "      <td>6349 DEERMEADOW DRIVE Ottawa, ON</td>\n",
       "      <td>45.24</td>\n",
       "      <td>-75.60</td>\n",
       "      <td>nan</td>\n",
       "      <td>899.00</td>\n",
       "    </tr>\n",
       "    <tr>\n",
       "      <td>42880</td>\n",
       "      <td>295000.00</td>\n",
       "      <td>nan</td>\n",
       "      <td>2.89</td>\n",
       "      <td>2.13</td>\n",
       "      <td>1124.60</td>\n",
       "      <td>1.88</td>\n",
       "      <td>NaN</td>\n",
       "      <td>NaN</td>\n",
       "      <td>NaN</td>\n",
       "      <td>212 ALVIN ROAD Ottawa, ON</td>\n",
       "      <td>45.45</td>\n",
       "      <td>-75.65</td>\n",
       "      <td>nan</td>\n",
       "      <td>295.00</td>\n",
       "    </tr>\n",
       "    <tr>\n",
       "      <td>42881</td>\n",
       "      <td>1595000.00</td>\n",
       "      <td>nan</td>\n",
       "      <td>2.89</td>\n",
       "      <td>2.13</td>\n",
       "      <td>1124.60</td>\n",
       "      <td>1.88</td>\n",
       "      <td>NaN</td>\n",
       "      <td>NaN</td>\n",
       "      <td>NaN</td>\n",
       "      <td>BARTON Street BARTON Street Stoney Creek, ON</td>\n",
       "      <td>43.22</td>\n",
       "      <td>-79.69</td>\n",
       "      <td>nan</td>\n",
       "      <td>1,595.00</td>\n",
       "    </tr>\n",
       "  </tbody>\n",
       "</table>\n",
       "<p>42882 rows × 14 columns</p>\n",
       "</div>"
      ],
      "text/plain": [
       "           Price  Listing Price  Number of Bedrooms  Number of Bathrooms  \\\n",
       "0      855000.00      870000.00                3.00                 2.00   \n",
       "1      885000.00      898000.00                3.00                 2.00   \n",
       "2      550000.00      549900.00                1.00                 1.00   \n",
       "3      665000.00      600000.00                2.00                 1.00   \n",
       "4      825513.00      839000.00                2.00                 2.00   \n",
       "...          ...            ...                 ...                  ...   \n",
       "42877  154900.00            nan                2.89                 2.13   \n",
       "42878  624900.00            nan                2.89                 2.13   \n",
       "42879  899000.00            nan                2.89                 2.13   \n",
       "42880  295000.00            nan                2.89                 2.13   \n",
       "42881 1595000.00            nan                2.89                 2.13   \n",
       "\n",
       "       Square Feet  Number of Parking Spaces  \\\n",
       "0           850.00                      1.00   \n",
       "1          1124.60                      1.88   \n",
       "2           550.00                      1.88   \n",
       "3           650.00                      1.00   \n",
       "4          1124.60                      1.00   \n",
       "...            ...                       ...   \n",
       "42877      1124.60                      1.88   \n",
       "42878      1124.60                      1.88   \n",
       "42879      1124.60                      1.88   \n",
       "42880      1124.60                      1.88   \n",
       "42881      1124.60                      1.88   \n",
       "\n",
       "                                             Description       MLS  \\\n",
       "0      Luxurious And Spacious Murano Tower. 2+1, 2 Ba...  C4461599   \n",
       "1      Fantastic Opportunity To Live Within The Histo...  W4502992   \n",
       "2      Bright Sunfilled Spacious 1 Bdr Unit; Floor To...  C4511330   \n",
       "3      Rare Loft-Like Condo In Liberty Village W/ 18'...  C4515763   \n",
       "4      Location! Location! Location. Your Cottage In ...  W4519375   \n",
       "...                                                  ...       ...   \n",
       "42877                                                NaN       NaN   \n",
       "42878                                                NaN       NaN   \n",
       "42879                                                NaN       NaN   \n",
       "42880                                                NaN       NaN   \n",
       "42881                                                NaN       NaN   \n",
       "\n",
       "       Building Type                                       Address  Latitude  \\\n",
       "0              Condo                     38 Grenville St, Toronto        nan   \n",
       "1      Semi-Detached                         2 Cabot Crt, Toronto        nan   \n",
       "2              Condo                   30 Roehampton Ave, Toronto        nan   \n",
       "3              Condo                  65 East Liberty St, Toronto        nan   \n",
       "4           Detached                       61 Twelfth St, Toronto        nan   \n",
       "...              ...                                           ...       ...   \n",
       "42877            NaN       3100 CARLING AVENUE UNIT#416 Ottawa, ON     45.35   \n",
       "42878            NaN              5827 GLADEWOODS PLACE Ottawa, ON     45.44   \n",
       "42879            NaN              6349 DEERMEADOW DRIVE Ottawa, ON     45.24   \n",
       "42880            NaN                     212 ALVIN ROAD Ottawa, ON     45.45   \n",
       "42881            NaN  BARTON Street BARTON Street Stoney Creek, ON     43.22   \n",
       "\n",
       "       Longitude  City District Price in Thousands  \n",
       "0            nan            nan             855.00  \n",
       "1            nan            nan             885.00  \n",
       "2            nan            nan             550.00  \n",
       "3            nan            nan             665.00  \n",
       "4            nan            nan             825.51  \n",
       "...          ...            ...                ...  \n",
       "42877     -75.81            nan             154.90  \n",
       "42878     -75.53            nan             624.90  \n",
       "42879     -75.60            nan             899.00  \n",
       "42880     -75.65            nan             295.00  \n",
       "42881     -79.69            nan           1,595.00  \n",
       "\n",
       "[42882 rows x 14 columns]"
      ]
     },
     "execution_count": 111,
     "metadata": {},
     "output_type": "execute_result"
    }
   ],
   "source": [
    "hd['Price in Thousands'] = ['{:,.2f}'.format(x) for x in hd['Price']/1000]\n",
    "hd"
   ]
  },
  {
   "cell_type": "code",
   "execution_count": 112,
   "metadata": {
    "scrolled": true
   },
   "outputs": [
    {
     "data": {
      "text/plain": [
       "array(['855.00', '885.00', '550.00', ..., '300.53', '240.50', '384.89'],\n",
       "      dtype=object)"
      ]
     },
     "execution_count": 112,
     "metadata": {},
     "output_type": "execute_result"
    }
   ],
   "source": [
    "hd['Price in Thousands'].unique()"
   ]
  },
  {
   "cell_type": "code",
   "execution_count": 113,
   "metadata": {},
   "outputs": [],
   "source": [
    "#Changing type into numeric for future analysis"
   ]
  },
  {
   "cell_type": "code",
   "execution_count": 114,
   "metadata": {},
   "outputs": [],
   "source": [
    "hd['Price in Thousands'] = pd.to_numeric(hd['Price in Thousands'], errors='coerce')\n"
   ]
  },
  {
   "cell_type": "code",
   "execution_count": 115,
   "metadata": {},
   "outputs": [
    {
     "data": {
      "text/plain": [
       "Price                       float64\n",
       "Listing Price               float64\n",
       "Number of Bedrooms          float64\n",
       "Number of Bathrooms         float64\n",
       "Square Feet                 float64\n",
       "Number of Parking Spaces    float64\n",
       "Description                  object\n",
       "MLS                          object\n",
       "Building Type                object\n",
       "Address                      object\n",
       "Latitude                    float64\n",
       "Longitude                   float64\n",
       "City District               float64\n",
       "Price in Thousands          float64\n",
       "dtype: object"
      ]
     },
     "execution_count": 115,
     "metadata": {},
     "output_type": "execute_result"
    }
   ],
   "source": [
    "hd.dtypes"
   ]
  },
  {
   "cell_type": "code",
   "execution_count": 116,
   "metadata": {},
   "outputs": [
    {
     "data": {
      "text/plain": [
       "<matplotlib.axes._subplots.AxesSubplot at 0x1d0e8fd2e88>"
      ]
     },
     "execution_count": 116,
     "metadata": {},
     "output_type": "execute_result"
    },
    {
     "data": {
      "image/png": "[encoded data removed]",
      "text/plain": [
       "<Figure size 432x288 with 1 Axes>"
      ]
     },
     "metadata": {
      "needs_background": "light"
     },
     "output_type": "display_data"
    }
   ],
   "source": [
    "sns.boxplot(x=hd['Price in Thousands'])"
   ]
  },
  {
   "cell_type": "markdown",
   "metadata": {},
   "source": [
    "# Listing Price"
   ]
  },
  {
   "cell_type": "code",
   "execution_count": 117,
   "metadata": {},
   "outputs": [],
   "source": [
    "#Making Listing Price variable is identical with Price"
   ]
  },
  {
   "cell_type": "code",
   "execution_count": 118,
   "metadata": {},
   "outputs": [
    {
     "data": {
      "text/plain": [
       "count      17405.00\n",
       "mean      879575.09\n",
       "std       637725.69\n",
       "min       104900.00\n",
       "25%       529900.00\n",
       "50%       699900.00\n",
       "75%       979000.00\n",
       "max     13180000.00\n",
       "Name: Listing Price, dtype: float64"
      ]
     },
     "execution_count": 118,
     "metadata": {},
     "output_type": "execute_result"
    }
   ],
   "source": [
    "hd['Listing Price'].describe()"
   ]
  },
  {
   "cell_type": "code",
   "execution_count": 119,
   "metadata": {},
   "outputs": [
    {
     "name": "stdout",
     "output_type": "stream",
     "text": [
      "Mean for Listing Price 879575.0933065211\n"
     ]
    }
   ],
   "source": [
    "LP_mean=hd['Listing Price'].mean()\n",
    "print('Mean for Listing Price' , LP_mean)"
   ]
  },
  {
   "cell_type": "code",
   "execution_count": 120,
   "metadata": {},
   "outputs": [],
   "source": [
    "# Decrease Listing price scale for creating boxplot"
   ]
  },
  {
   "cell_type": "code",
   "execution_count": 121,
   "metadata": {
    "scrolled": true
   },
   "outputs": [
    {
     "data": {
      "text/html": [
       "<div>\n",
       "<style scoped>\n",
       "    .dataframe tbody tr th:only-of-type {\n",
       "        vertical-align: middle;\n",
       "    }\n",
       "\n",
       "    .dataframe tbody tr th {\n",
       "        vertical-align: top;\n",
       "    }\n",
       "\n",
       "    .dataframe thead th {\n",
       "        text-align: right;\n",
       "    }\n",
       "</style>\n",
       "<table border=\"1\" class=\"dataframe\">\n",
       "  <thead>\n",
       "    <tr style=\"text-align: right;\">\n",
       "      <th></th>\n",
       "      <th>Price</th>\n",
       "      <th>Listing Price</th>\n",
       "      <th>Number of Bedrooms</th>\n",
       "      <th>Number of Bathrooms</th>\n",
       "      <th>Square Feet</th>\n",
       "      <th>Number of Parking Spaces</th>\n",
       "      <th>Description</th>\n",
       "      <th>MLS</th>\n",
       "      <th>Building Type</th>\n",
       "      <th>Address</th>\n",
       "      <th>Latitude</th>\n",
       "      <th>Longitude</th>\n",
       "      <th>City District</th>\n",
       "      <th>Price in Thousands</th>\n",
       "      <th>Listing Price in Thousands</th>\n",
       "    </tr>\n",
       "  </thead>\n",
       "  <tbody>\n",
       "    <tr>\n",
       "      <td>0</td>\n",
       "      <td>855000.00</td>\n",
       "      <td>870000.00</td>\n",
       "      <td>3.00</td>\n",
       "      <td>2.00</td>\n",
       "      <td>850.00</td>\n",
       "      <td>1.00</td>\n",
       "      <td>Luxurious And Spacious Murano Tower. 2+1, 2 Ba...</td>\n",
       "      <td>C4461599</td>\n",
       "      <td>Condo</td>\n",
       "      <td>38 Grenville St, Toronto</td>\n",
       "      <td>nan</td>\n",
       "      <td>nan</td>\n",
       "      <td>nan</td>\n",
       "      <td>855.00</td>\n",
       "      <td>870.00</td>\n",
       "    </tr>\n",
       "    <tr>\n",
       "      <td>1</td>\n",
       "      <td>885000.00</td>\n",
       "      <td>898000.00</td>\n",
       "      <td>3.00</td>\n",
       "      <td>2.00</td>\n",
       "      <td>1124.60</td>\n",
       "      <td>1.88</td>\n",
       "      <td>Fantastic Opportunity To Live Within The Histo...</td>\n",
       "      <td>W4502992</td>\n",
       "      <td>Semi-Detached</td>\n",
       "      <td>2 Cabot Crt, Toronto</td>\n",
       "      <td>nan</td>\n",
       "      <td>nan</td>\n",
       "      <td>nan</td>\n",
       "      <td>885.00</td>\n",
       "      <td>898.00</td>\n",
       "    </tr>\n",
       "    <tr>\n",
       "      <td>2</td>\n",
       "      <td>550000.00</td>\n",
       "      <td>549900.00</td>\n",
       "      <td>1.00</td>\n",
       "      <td>1.00</td>\n",
       "      <td>550.00</td>\n",
       "      <td>1.88</td>\n",
       "      <td>Bright Sunfilled Spacious 1 Bdr Unit; Floor To...</td>\n",
       "      <td>C4511330</td>\n",
       "      <td>Condo</td>\n",
       "      <td>30 Roehampton Ave, Toronto</td>\n",
       "      <td>nan</td>\n",
       "      <td>nan</td>\n",
       "      <td>nan</td>\n",
       "      <td>550.00</td>\n",
       "      <td>549.90</td>\n",
       "    </tr>\n",
       "    <tr>\n",
       "      <td>3</td>\n",
       "      <td>665000.00</td>\n",
       "      <td>600000.00</td>\n",
       "      <td>2.00</td>\n",
       "      <td>1.00</td>\n",
       "      <td>650.00</td>\n",
       "      <td>1.00</td>\n",
       "      <td>Rare Loft-Like Condo In Liberty Village W/ 18'...</td>\n",
       "      <td>C4515763</td>\n",
       "      <td>Condo</td>\n",
       "      <td>65 East Liberty St, Toronto</td>\n",
       "      <td>nan</td>\n",
       "      <td>nan</td>\n",
       "      <td>nan</td>\n",
       "      <td>665.00</td>\n",
       "      <td>600.00</td>\n",
       "    </tr>\n",
       "    <tr>\n",
       "      <td>4</td>\n",
       "      <td>825513.00</td>\n",
       "      <td>839000.00</td>\n",
       "      <td>2.00</td>\n",
       "      <td>2.00</td>\n",
       "      <td>1124.60</td>\n",
       "      <td>1.00</td>\n",
       "      <td>Location! Location! Location. Your Cottage In ...</td>\n",
       "      <td>W4519375</td>\n",
       "      <td>Detached</td>\n",
       "      <td>61 Twelfth St, Toronto</td>\n",
       "      <td>nan</td>\n",
       "      <td>nan</td>\n",
       "      <td>nan</td>\n",
       "      <td>825.51</td>\n",
       "      <td>839.00</td>\n",
       "    </tr>\n",
       "    <tr>\n",
       "      <td>...</td>\n",
       "      <td>...</td>\n",
       "      <td>...</td>\n",
       "      <td>...</td>\n",
       "      <td>...</td>\n",
       "      <td>...</td>\n",
       "      <td>...</td>\n",
       "      <td>...</td>\n",
       "      <td>...</td>\n",
       "      <td>...</td>\n",
       "      <td>...</td>\n",
       "      <td>...</td>\n",
       "      <td>...</td>\n",
       "      <td>...</td>\n",
       "      <td>...</td>\n",
       "      <td>...</td>\n",
       "    </tr>\n",
       "    <tr>\n",
       "      <td>42877</td>\n",
       "      <td>154900.00</td>\n",
       "      <td>nan</td>\n",
       "      <td>2.89</td>\n",
       "      <td>2.13</td>\n",
       "      <td>1124.60</td>\n",
       "      <td>1.88</td>\n",
       "      <td>NaN</td>\n",
       "      <td>NaN</td>\n",
       "      <td>NaN</td>\n",
       "      <td>3100 CARLING AVENUE UNIT#416 Ottawa, ON</td>\n",
       "      <td>45.35</td>\n",
       "      <td>-75.81</td>\n",
       "      <td>nan</td>\n",
       "      <td>154.90</td>\n",
       "      <td>nan</td>\n",
       "    </tr>\n",
       "    <tr>\n",
       "      <td>42878</td>\n",
       "      <td>624900.00</td>\n",
       "      <td>nan</td>\n",
       "      <td>2.89</td>\n",
       "      <td>2.13</td>\n",
       "      <td>1124.60</td>\n",
       "      <td>1.88</td>\n",
       "      <td>NaN</td>\n",
       "      <td>NaN</td>\n",
       "      <td>NaN</td>\n",
       "      <td>5827 GLADEWOODS PLACE Ottawa, ON</td>\n",
       "      <td>45.44</td>\n",
       "      <td>-75.53</td>\n",
       "      <td>nan</td>\n",
       "      <td>624.90</td>\n",
       "      <td>nan</td>\n",
       "    </tr>\n",
       "    <tr>\n",
       "      <td>42879</td>\n",
       "      <td>899000.00</td>\n",
       "      <td>nan</td>\n",
       "      <td>2.89</td>\n",
       "      <td>2.13</td>\n",
       "      <td>1124.60</td>\n",
       "      <td>1.88</td>\n",
       "      <td>NaN</td>\n",
       "      <td>NaN</td>\n",
       "      <td>NaN</td>\n",
       "      <td>6349 DEERMEADOW DRIVE Ottawa, ON</td>\n",
       "      <td>45.24</td>\n",
       "      <td>-75.60</td>\n",
       "      <td>nan</td>\n",
       "      <td>899.00</td>\n",
       "      <td>nan</td>\n",
       "    </tr>\n",
       "    <tr>\n",
       "      <td>42880</td>\n",
       "      <td>295000.00</td>\n",
       "      <td>nan</td>\n",
       "      <td>2.89</td>\n",
       "      <td>2.13</td>\n",
       "      <td>1124.60</td>\n",
       "      <td>1.88</td>\n",
       "      <td>NaN</td>\n",
       "      <td>NaN</td>\n",
       "      <td>NaN</td>\n",
       "      <td>212 ALVIN ROAD Ottawa, ON</td>\n",
       "      <td>45.45</td>\n",
       "      <td>-75.65</td>\n",
       "      <td>nan</td>\n",
       "      <td>295.00</td>\n",
       "      <td>nan</td>\n",
       "    </tr>\n",
       "    <tr>\n",
       "      <td>42881</td>\n",
       "      <td>1595000.00</td>\n",
       "      <td>nan</td>\n",
       "      <td>2.89</td>\n",
       "      <td>2.13</td>\n",
       "      <td>1124.60</td>\n",
       "      <td>1.88</td>\n",
       "      <td>NaN</td>\n",
       "      <td>NaN</td>\n",
       "      <td>NaN</td>\n",
       "      <td>BARTON Street BARTON Street Stoney Creek, ON</td>\n",
       "      <td>43.22</td>\n",
       "      <td>-79.69</td>\n",
       "      <td>nan</td>\n",
       "      <td>nan</td>\n",
       "      <td>nan</td>\n",
       "    </tr>\n",
       "  </tbody>\n",
       "</table>\n",
       "<p>42882 rows × 15 columns</p>\n",
       "</div>"
      ],
      "text/plain": [
       "           Price  Listing Price  Number of Bedrooms  Number of Bathrooms  \\\n",
       "0      855000.00      870000.00                3.00                 2.00   \n",
       "1      885000.00      898000.00                3.00                 2.00   \n",
       "2      550000.00      549900.00                1.00                 1.00   \n",
       "3      665000.00      600000.00                2.00                 1.00   \n",
       "4      825513.00      839000.00                2.00                 2.00   \n",
       "...          ...            ...                 ...                  ...   \n",
       "42877  154900.00            nan                2.89                 2.13   \n",
       "42878  624900.00            nan                2.89                 2.13   \n",
       "42879  899000.00            nan                2.89                 2.13   \n",
       "42880  295000.00            nan                2.89                 2.13   \n",
       "42881 1595000.00            nan                2.89                 2.13   \n",
       "\n",
       "       Square Feet  Number of Parking Spaces  \\\n",
       "0           850.00                      1.00   \n",
       "1          1124.60                      1.88   \n",
       "2           550.00                      1.88   \n",
       "3           650.00                      1.00   \n",
       "4          1124.60                      1.00   \n",
       "...            ...                       ...   \n",
       "42877      1124.60                      1.88   \n",
       "42878      1124.60                      1.88   \n",
       "42879      1124.60                      1.88   \n",
       "42880      1124.60                      1.88   \n",
       "42881      1124.60                      1.88   \n",
       "\n",
       "                                             Description       MLS  \\\n",
       "0      Luxurious And Spacious Murano Tower. 2+1, 2 Ba...  C4461599   \n",
       "1      Fantastic Opportunity To Live Within The Histo...  W4502992   \n",
       "2      Bright Sunfilled Spacious 1 Bdr Unit; Floor To...  C4511330   \n",
       "3      Rare Loft-Like Condo In Liberty Village W/ 18'...  C4515763   \n",
       "4      Location! Location! Location. Your Cottage In ...  W4519375   \n",
       "...                                                  ...       ...   \n",
       "42877                                                NaN       NaN   \n",
       "42878                                                NaN       NaN   \n",
       "42879                                                NaN       NaN   \n",
       "42880                                                NaN       NaN   \n",
       "42881                                                NaN       NaN   \n",
       "\n",
       "       Building Type                                       Address  Latitude  \\\n",
       "0              Condo                     38 Grenville St, Toronto        nan   \n",
       "1      Semi-Detached                         2 Cabot Crt, Toronto        nan   \n",
       "2              Condo                   30 Roehampton Ave, Toronto        nan   \n",
       "3              Condo                  65 East Liberty St, Toronto        nan   \n",
       "4           Detached                       61 Twelfth St, Toronto        nan   \n",
       "...              ...                                           ...       ...   \n",
       "42877            NaN       3100 CARLING AVENUE UNIT#416 Ottawa, ON     45.35   \n",
       "42878            NaN              5827 GLADEWOODS PLACE Ottawa, ON     45.44   \n",
       "42879            NaN              6349 DEERMEADOW DRIVE Ottawa, ON     45.24   \n",
       "42880            NaN                     212 ALVIN ROAD Ottawa, ON     45.45   \n",
       "42881            NaN  BARTON Street BARTON Street Stoney Creek, ON     43.22   \n",
       "\n",
       "       Longitude  City District  Price in Thousands Listing Price in Thousands  \n",
       "0            nan            nan              855.00                     870.00  \n",
       "1            nan            nan              885.00                     898.00  \n",
       "2            nan            nan              550.00                     549.90  \n",
       "3            nan            nan              665.00                     600.00  \n",
       "4            nan            nan              825.51                     839.00  \n",
       "...          ...            ...                 ...                        ...  \n",
       "42877     -75.81            nan              154.90                        nan  \n",
       "42878     -75.53            nan              624.90                        nan  \n",
       "42879     -75.60            nan              899.00                        nan  \n",
       "42880     -75.65            nan              295.00                        nan  \n",
       "42881     -79.69            nan                 nan                        nan  \n",
       "\n",
       "[42882 rows x 15 columns]"
      ]
     },
     "execution_count": 121,
     "metadata": {},
     "output_type": "execute_result"
    }
   ],
   "source": [
    "hd['Listing Price in Thousands'] = ['{:,.2f}'.format(x) for x in hd['Listing Price']/1000]\n",
    "hd"
   ]
  },
  {
   "cell_type": "code",
   "execution_count": 122,
   "metadata": {},
   "outputs": [
    {
     "data": {
      "text/plain": [
       "array(['870.00', '898.00', '549.90', ..., '1,619.90', '308.00', '559.98'],\n",
       "      dtype=object)"
      ]
     },
     "execution_count": 122,
     "metadata": {},
     "output_type": "execute_result"
    }
   ],
   "source": [
    "hd['Listing Price in Thousands'].unique()"
   ]
  },
  {
   "cell_type": "code",
   "execution_count": 123,
   "metadata": {},
   "outputs": [],
   "source": [
    "#Changing type into numeric for future analysis"
   ]
  },
  {
   "cell_type": "code",
   "execution_count": 124,
   "metadata": {},
   "outputs": [],
   "source": [
    "hd['Listing Price in Thousands'] = pd.to_numeric(hd['Listing Price in Thousands'], errors='coerce')"
   ]
  },
  {
   "cell_type": "code",
   "execution_count": 125,
   "metadata": {},
   "outputs": [
    {
     "data": {
      "text/plain": [
       "Price                         float64\n",
       "Listing Price                 float64\n",
       "Number of Bedrooms            float64\n",
       "Number of Bathrooms           float64\n",
       "Square Feet                   float64\n",
       "Number of Parking Spaces      float64\n",
       "Description                    object\n",
       "MLS                            object\n",
       "Building Type                  object\n",
       "Address                        object\n",
       "Latitude                      float64\n",
       "Longitude                     float64\n",
       "City District                 float64\n",
       "Price in Thousands            float64\n",
       "Listing Price in Thousands    float64\n",
       "dtype: object"
      ]
     },
     "execution_count": 125,
     "metadata": {},
     "output_type": "execute_result"
    }
   ],
   "source": [
    "hd.dtypes"
   ]
  },
  {
   "cell_type": "code",
   "execution_count": 126,
   "metadata": {},
   "outputs": [
    {
     "data": {
      "text/plain": [
       "<matplotlib.axes._subplots.AxesSubplot at 0x1d0e9971988>"
      ]
     },
     "execution_count": 126,
     "metadata": {},
     "output_type": "execute_result"
    },
    {
     "data": {
      "image/png": "[encoded data removed]",
      "text/plain": [
       "<Figure size 432x288 with 1 Axes>"
      ]
     },
     "metadata": {
      "needs_background": "light"
     },
     "output_type": "display_data"
    }
   ],
   "source": [
    "sns.boxplot(x=hd['Price in Thousands'])"
   ]
  },
  {
   "cell_type": "markdown",
   "metadata": {},
   "source": [
    "# Examine categotical var. Building Type"
   ]
  },
  {
   "cell_type": "code",
   "execution_count": 127,
   "metadata": {},
   "outputs": [
    {
     "data": {
      "text/plain": [
       "array(['Condo', 'Semi-Detached', 'Detached', 'Duplex', nan,\n",
       "       'Att/Row/Twnhouse', 'Link', 'Apt', 'Multiplex', 'Triplex',\n",
       "       'Store W/Apt/Offc', 'Fourplex', 'Cottage'], dtype=object)"
      ]
     },
     "execution_count": 127,
     "metadata": {},
     "output_type": "execute_result"
    }
   ],
   "source": [
    "hd['Building Type'].unique()"
   ]
  },
  {
   "cell_type": "code",
   "execution_count": 128,
   "metadata": {},
   "outputs": [
    {
     "data": {
      "text/plain": [
       "<matplotlib.axes._subplots.AxesSubplot at 0x1d0e7d6e988>"
      ]
     },
     "execution_count": 128,
     "metadata": {},
     "output_type": "execute_result"
    },
    {
     "data": {
      "image/png": "[encoded data removed]",
      "text/plain": [
       "<Figure size 432x288 with 1 Axes>"
      ]
     },
     "metadata": {
      "needs_background": "light"
     },
     "output_type": "display_data"
    }
   ],
   "source": [
    "hd['Building Type'].value_counts().plot(kind='bar')"
   ]
  },
  {
   "cell_type": "markdown",
   "metadata": {},
   "source": [
    "# Data Normalization\n"
   ]
  },
  {
   "cell_type": "code",
   "execution_count": 129,
   "metadata": {},
   "outputs": [],
   "source": [
    "hd['Price']=hd['Price']/hd['Price'].max()\n",
    "hd['Listing Price']=hd['Listing Price']/hd['Listing Price'].max()\n",
    "hd['Price in Thousands']=hd['Price in Thousands']/hd['Price in Thousands'].max()\n",
    "hd['Listing Price in Thousands']=hd['Listing Price in Thousands']/hd['Listing Price in Thousands'].max()\n",
    "hd['Number of Bedrooms']=hd['Number of Bedrooms']/hd['Number of Bedrooms'].max()\n",
    "hd['Number of Bathrooms']=hd['Number of Bathrooms']/hd['Number of Bathrooms'].max()\n",
    "hd['Square Feet']=hd['Square Feet']/hd['Square Feet'].max()\n",
    "hd['Number of Parking Spaces']=hd['Number of Parking Spaces']/hd['Number of Parking Spaces'].max()"
   ]
  },
  {
   "cell_type": "code",
   "execution_count": 130,
   "metadata": {
    "scrolled": true
   },
   "outputs": [
    {
     "data": {
      "text/html": [
       "<div>\n",
       "<style scoped>\n",
       "    .dataframe tbody tr th:only-of-type {\n",
       "        vertical-align: middle;\n",
       "    }\n",
       "\n",
       "    .dataframe tbody tr th {\n",
       "        vertical-align: top;\n",
       "    }\n",
       "\n",
       "    .dataframe thead th {\n",
       "        text-align: right;\n",
       "    }\n",
       "</style>\n",
       "<table border=\"1\" class=\"dataframe\">\n",
       "  <thead>\n",
       "    <tr style=\"text-align: right;\">\n",
       "      <th></th>\n",
       "      <th>Price</th>\n",
       "      <th>Listing Price</th>\n",
       "      <th>Number of Bedrooms</th>\n",
       "      <th>Number of Bathrooms</th>\n",
       "      <th>Square Feet</th>\n",
       "      <th>Number of Parking Spaces</th>\n",
       "      <th>Description</th>\n",
       "      <th>MLS</th>\n",
       "      <th>Building Type</th>\n",
       "      <th>Address</th>\n",
       "      <th>Latitude</th>\n",
       "      <th>Longitude</th>\n",
       "      <th>City District</th>\n",
       "      <th>Price in Thousands</th>\n",
       "      <th>Listing Price in Thousands</th>\n",
       "    </tr>\n",
       "  </thead>\n",
       "  <tbody>\n",
       "    <tr>\n",
       "      <td>0</td>\n",
       "      <td>0.03</td>\n",
       "      <td>0.07</td>\n",
       "      <td>0.43</td>\n",
       "      <td>0.33</td>\n",
       "      <td>0.49</td>\n",
       "      <td>0.33</td>\n",
       "      <td>Luxurious And Spacious Murano Tower. 2+1, 2 Ba...</td>\n",
       "      <td>C4461599</td>\n",
       "      <td>Condo</td>\n",
       "      <td>38 Grenville St, Toronto</td>\n",
       "      <td>nan</td>\n",
       "      <td>nan</td>\n",
       "      <td>nan</td>\n",
       "      <td>0.86</td>\n",
       "      <td>0.87</td>\n",
       "    </tr>\n",
       "    <tr>\n",
       "      <td>1</td>\n",
       "      <td>0.03</td>\n",
       "      <td>0.07</td>\n",
       "      <td>0.43</td>\n",
       "      <td>0.33</td>\n",
       "      <td>0.64</td>\n",
       "      <td>0.63</td>\n",
       "      <td>Fantastic Opportunity To Live Within The Histo...</td>\n",
       "      <td>W4502992</td>\n",
       "      <td>Semi-Detached</td>\n",
       "      <td>2 Cabot Crt, Toronto</td>\n",
       "      <td>nan</td>\n",
       "      <td>nan</td>\n",
       "      <td>nan</td>\n",
       "      <td>0.89</td>\n",
       "      <td>0.90</td>\n",
       "    </tr>\n",
       "    <tr>\n",
       "      <td>2</td>\n",
       "      <td>0.02</td>\n",
       "      <td>0.04</td>\n",
       "      <td>0.14</td>\n",
       "      <td>0.17</td>\n",
       "      <td>0.31</td>\n",
       "      <td>0.63</td>\n",
       "      <td>Bright Sunfilled Spacious 1 Bdr Unit; Floor To...</td>\n",
       "      <td>C4511330</td>\n",
       "      <td>Condo</td>\n",
       "      <td>30 Roehampton Ave, Toronto</td>\n",
       "      <td>nan</td>\n",
       "      <td>nan</td>\n",
       "      <td>nan</td>\n",
       "      <td>0.55</td>\n",
       "      <td>0.55</td>\n",
       "    </tr>\n",
       "    <tr>\n",
       "      <td>3</td>\n",
       "      <td>0.02</td>\n",
       "      <td>0.05</td>\n",
       "      <td>0.29</td>\n",
       "      <td>0.17</td>\n",
       "      <td>0.37</td>\n",
       "      <td>0.33</td>\n",
       "      <td>Rare Loft-Like Condo In Liberty Village W/ 18'...</td>\n",
       "      <td>C4515763</td>\n",
       "      <td>Condo</td>\n",
       "      <td>65 East Liberty St, Toronto</td>\n",
       "      <td>nan</td>\n",
       "      <td>nan</td>\n",
       "      <td>nan</td>\n",
       "      <td>0.67</td>\n",
       "      <td>0.60</td>\n",
       "    </tr>\n",
       "    <tr>\n",
       "      <td>4</td>\n",
       "      <td>0.03</td>\n",
       "      <td>0.06</td>\n",
       "      <td>0.29</td>\n",
       "      <td>0.33</td>\n",
       "      <td>0.64</td>\n",
       "      <td>0.33</td>\n",
       "      <td>Location! Location! Location. Your Cottage In ...</td>\n",
       "      <td>W4519375</td>\n",
       "      <td>Detached</td>\n",
       "      <td>61 Twelfth St, Toronto</td>\n",
       "      <td>nan</td>\n",
       "      <td>nan</td>\n",
       "      <td>nan</td>\n",
       "      <td>0.83</td>\n",
       "      <td>0.84</td>\n",
       "    </tr>\n",
       "  </tbody>\n",
       "</table>\n",
       "</div>"
      ],
      "text/plain": [
       "   Price  Listing Price  Number of Bedrooms  Number of Bathrooms  Square Feet  \\\n",
       "0   0.03           0.07                0.43                 0.33         0.49   \n",
       "1   0.03           0.07                0.43                 0.33         0.64   \n",
       "2   0.02           0.04                0.14                 0.17         0.31   \n",
       "3   0.02           0.05                0.29                 0.17         0.37   \n",
       "4   0.03           0.06                0.29                 0.33         0.64   \n",
       "\n",
       "   Number of Parking Spaces  \\\n",
       "0                      0.33   \n",
       "1                      0.63   \n",
       "2                      0.63   \n",
       "3                      0.33   \n",
       "4                      0.33   \n",
       "\n",
       "                                         Description       MLS  Building Type  \\\n",
       "0  Luxurious And Spacious Murano Tower. 2+1, 2 Ba...  C4461599          Condo   \n",
       "1  Fantastic Opportunity To Live Within The Histo...  W4502992  Semi-Detached   \n",
       "2  Bright Sunfilled Spacious 1 Bdr Unit; Floor To...  C4511330          Condo   \n",
       "3  Rare Loft-Like Condo In Liberty Village W/ 18'...  C4515763          Condo   \n",
       "4  Location! Location! Location. Your Cottage In ...  W4519375       Detached   \n",
       "\n",
       "                         Address  Latitude  Longitude  City District  \\\n",
       "0      38 Grenville St, Toronto        nan        nan            nan   \n",
       "1          2 Cabot Crt, Toronto        nan        nan            nan   \n",
       "2    30 Roehampton Ave, Toronto        nan        nan            nan   \n",
       "3   65 East Liberty St, Toronto        nan        nan            nan   \n",
       "4        61 Twelfth St, Toronto        nan        nan            nan   \n",
       "\n",
       "   Price in Thousands  Listing Price in Thousands  \n",
       "0                0.86                        0.87  \n",
       "1                0.89                        0.90  \n",
       "2                0.55                        0.55  \n",
       "3                0.67                        0.60  \n",
       "4                0.83                        0.84  "
      ]
     },
     "execution_count": 130,
     "metadata": {},
     "output_type": "execute_result"
    }
   ],
   "source": [
    "hd.head(5)"
   ]
  },
  {
   "cell_type": "code",
   "execution_count": 131,
   "metadata": {},
   "outputs": [],
   "source": [
    "#Look how data statistics looks now:"
   ]
  },
  {
   "cell_type": "code",
   "execution_count": 132,
   "metadata": {
    "scrolled": true
   },
   "outputs": [
    {
     "data": {
      "text/html": [
       "<div>\n",
       "<style scoped>\n",
       "    .dataframe tbody tr th:only-of-type {\n",
       "        vertical-align: middle;\n",
       "    }\n",
       "\n",
       "    .dataframe tbody tr th {\n",
       "        vertical-align: top;\n",
       "    }\n",
       "\n",
       "    .dataframe thead th {\n",
       "        text-align: right;\n",
       "    }\n",
       "</style>\n",
       "<table border=\"1\" class=\"dataframe\">\n",
       "  <thead>\n",
       "    <tr style=\"text-align: right;\">\n",
       "      <th></th>\n",
       "      <th>Price</th>\n",
       "      <th>Listing Price</th>\n",
       "      <th>Number of Bedrooms</th>\n",
       "      <th>Number of Bathrooms</th>\n",
       "      <th>Square Feet</th>\n",
       "      <th>Number of Parking Spaces</th>\n",
       "      <th>Latitude</th>\n",
       "      <th>Longitude</th>\n",
       "      <th>City District</th>\n",
       "      <th>Price in Thousands</th>\n",
       "      <th>Listing Price in Thousands</th>\n",
       "    </tr>\n",
       "  </thead>\n",
       "  <tbody>\n",
       "    <tr>\n",
       "      <td>count</td>\n",
       "      <td>42756.00</td>\n",
       "      <td>17405.00</td>\n",
       "      <td>42882.00</td>\n",
       "      <td>42882.00</td>\n",
       "      <td>42882.00</td>\n",
       "      <td>42882.00</td>\n",
       "      <td>25351.00</td>\n",
       "      <td>25351.00</td>\n",
       "      <td>0.00</td>\n",
       "      <td>35808.00</td>\n",
       "      <td>13570.00</td>\n",
       "    </tr>\n",
       "    <tr>\n",
       "      <td>mean</td>\n",
       "      <td>0.02</td>\n",
       "      <td>0.07</td>\n",
       "      <td>0.41</td>\n",
       "      <td>0.35</td>\n",
       "      <td>0.62</td>\n",
       "      <td>0.58</td>\n",
       "      <td>37.33</td>\n",
       "      <td>-85.22</td>\n",
       "      <td>nan</td>\n",
       "      <td>0.47</td>\n",
       "      <td>0.64</td>\n",
       "    </tr>\n",
       "    <tr>\n",
       "      <td>std</td>\n",
       "      <td>0.02</td>\n",
       "      <td>0.05</td>\n",
       "      <td>0.12</td>\n",
       "      <td>0.11</td>\n",
       "      <td>0.12</td>\n",
       "      <td>0.14</td>\n",
       "      <td>82.86</td>\n",
       "      <td>73.09</td>\n",
       "      <td>nan</td>\n",
       "      <td>0.25</td>\n",
       "      <td>0.18</td>\n",
       "    </tr>\n",
       "    <tr>\n",
       "      <td>min</td>\n",
       "      <td>0.00</td>\n",
       "      <td>0.01</td>\n",
       "      <td>0.14</td>\n",
       "      <td>0.17</td>\n",
       "      <td>0.14</td>\n",
       "      <td>0.33</td>\n",
       "      <td>-999.00</td>\n",
       "      <td>-999.00</td>\n",
       "      <td>nan</td>\n",
       "      <td>0.00</td>\n",
       "      <td>0.10</td>\n",
       "    </tr>\n",
       "    <tr>\n",
       "      <td>25%</td>\n",
       "      <td>0.01</td>\n",
       "      <td>0.04</td>\n",
       "      <td>0.41</td>\n",
       "      <td>0.33</td>\n",
       "      <td>0.64</td>\n",
       "      <td>0.63</td>\n",
       "      <td>43.40</td>\n",
       "      <td>-80.31</td>\n",
       "      <td>nan</td>\n",
       "      <td>0.28</td>\n",
       "      <td>0.50</td>\n",
       "    </tr>\n",
       "    <tr>\n",
       "      <td>50%</td>\n",
       "      <td>0.02</td>\n",
       "      <td>0.05</td>\n",
       "      <td>0.41</td>\n",
       "      <td>0.36</td>\n",
       "      <td>0.64</td>\n",
       "      <td>0.63</td>\n",
       "      <td>43.72</td>\n",
       "      <td>-79.50</td>\n",
       "      <td>nan</td>\n",
       "      <td>0.46</td>\n",
       "      <td>0.63</td>\n",
       "    </tr>\n",
       "    <tr>\n",
       "      <td>75%</td>\n",
       "      <td>0.02</td>\n",
       "      <td>0.07</td>\n",
       "      <td>0.41</td>\n",
       "      <td>0.36</td>\n",
       "      <td>0.64</td>\n",
       "      <td>0.63</td>\n",
       "      <td>44.47</td>\n",
       "      <td>-79.11</td>\n",
       "      <td>nan</td>\n",
       "      <td>0.65</td>\n",
       "      <td>0.79</td>\n",
       "    </tr>\n",
       "    <tr>\n",
       "      <td>max</td>\n",
       "      <td>1.00</td>\n",
       "      <td>1.00</td>\n",
       "      <td>1.00</td>\n",
       "      <td>1.00</td>\n",
       "      <td>1.00</td>\n",
       "      <td>1.00</td>\n",
       "      <td>53.85</td>\n",
       "      <td>1.07</td>\n",
       "      <td>nan</td>\n",
       "      <td>1.00</td>\n",
       "      <td>1.00</td>\n",
       "    </tr>\n",
       "  </tbody>\n",
       "</table>\n",
       "</div>"
      ],
      "text/plain": [
       "         Price  Listing Price  Number of Bedrooms  Number of Bathrooms  \\\n",
       "count 42756.00       17405.00            42882.00             42882.00   \n",
       "mean      0.02           0.07                0.41                 0.35   \n",
       "std       0.02           0.05                0.12                 0.11   \n",
       "min       0.00           0.01                0.14                 0.17   \n",
       "25%       0.01           0.04                0.41                 0.33   \n",
       "50%       0.02           0.05                0.41                 0.36   \n",
       "75%       0.02           0.07                0.41                 0.36   \n",
       "max       1.00           1.00                1.00                 1.00   \n",
       "\n",
       "       Square Feet  Number of Parking Spaces  Latitude  Longitude  \\\n",
       "count     42882.00                  42882.00  25351.00   25351.00   \n",
       "mean          0.62                      0.58     37.33     -85.22   \n",
       "std           0.12                      0.14     82.86      73.09   \n",
       "min           0.14                      0.33   -999.00    -999.00   \n",
       "25%           0.64                      0.63     43.40     -80.31   \n",
       "50%           0.64                      0.63     43.72     -79.50   \n",
       "75%           0.64                      0.63     44.47     -79.11   \n",
       "max           1.00                      1.00     53.85       1.07   \n",
       "\n",
       "       City District  Price in Thousands  Listing Price in Thousands  \n",
       "count           0.00            35808.00                    13570.00  \n",
       "mean             nan                0.47                        0.64  \n",
       "std              nan                0.25                        0.18  \n",
       "min              nan                0.00                        0.10  \n",
       "25%              nan                0.28                        0.50  \n",
       "50%              nan                0.46                        0.63  \n",
       "75%              nan                0.65                        0.79  \n",
       "max              nan                1.00                        1.00  "
      ]
     },
     "execution_count": 132,
     "metadata": {},
     "output_type": "execute_result"
    }
   ],
   "source": [
    "pd.options.display.float_format = \"{:.2f}\".format\n",
    "hd.describe()"
   ]
  },
  {
   "cell_type": "code",
   "execution_count": 133,
   "metadata": {},
   "outputs": [
    {
     "data": {
      "text/plain": [
       "True"
      ]
     },
     "execution_count": 133,
     "metadata": {},
     "output_type": "execute_result"
    }
   ],
   "source": [
    "np.any(np.isnan(hd['Price']))"
   ]
  },
  {
   "cell_type": "code",
   "execution_count": 134,
   "metadata": {},
   "outputs": [
    {
     "data": {
      "text/plain": [
       "False"
      ]
     },
     "execution_count": 134,
     "metadata": {},
     "output_type": "execute_result"
    }
   ],
   "source": [
    "np.all(np.isfinite(hd['Price']))"
   ]
  },
  {
   "cell_type": "code",
   "execution_count": 135,
   "metadata": {},
   "outputs": [
    {
     "data": {
      "text/plain": [
       "0       0.03\n",
       "1       0.03\n",
       "2       0.02\n",
       "3       0.02\n",
       "4       0.03\n",
       "        ... \n",
       "42877   0.00\n",
       "42878   0.02\n",
       "42879   0.03\n",
       "42880   0.01\n",
       "42881   0.05\n",
       "Name: Price, Length: 42882, dtype: float64"
      ]
     },
     "execution_count": 135,
     "metadata": {},
     "output_type": "execute_result"
    }
   ],
   "source": [
    "hd['Price'].fillna(hd['Price'].mean())"
   ]
  },
  {
   "cell_type": "code",
   "execution_count": 136,
   "metadata": {},
   "outputs": [
    {
     "data": {
      "text/plain": [
       "False"
      ]
     },
     "execution_count": 136,
     "metadata": {},
     "output_type": "execute_result"
    }
   ],
   "source": [
    "np.any(np.isnan(hd['Number of Bedrooms']))"
   ]
  },
  {
   "cell_type": "code",
   "execution_count": 137,
   "metadata": {},
   "outputs": [],
   "source": [
    "hd['Price'].replace(np.nan, hd['Price'].mean(), inplace=True)"
   ]
  },
  {
   "cell_type": "code",
   "execution_count": 138,
   "metadata": {},
   "outputs": [
    {
     "data": {
      "text/plain": [
       "False"
      ]
     },
     "execution_count": 138,
     "metadata": {},
     "output_type": "execute_result"
    }
   ],
   "source": [
    "np.any(np.isnan(hd['Price']))"
   ]
  },
  {
   "cell_type": "code",
   "execution_count": 139,
   "metadata": {},
   "outputs": [
    {
     "data": {
      "text/plain": [
       "True"
      ]
     },
     "execution_count": 139,
     "metadata": {},
     "output_type": "execute_result"
    }
   ],
   "source": [
    "np.all(np.isfinite(hd['Price']))"
   ]
  },
  {
   "cell_type": "code",
   "execution_count": 140,
   "metadata": {
    "scrolled": true
   },
   "outputs": [
    {
     "data": {
      "text/plain": [
       "Text(0.5, 1.0, 'Number of Parking Spaces bins')"
      ]
     },
     "execution_count": 140,
     "metadata": {},
     "output_type": "execute_result"
    },
    {
     "data": {
      "image/png": "[encoded data removed]",
      "text/plain": [
       "<Figure size 432x288 with 1 Axes>"
      ]
     },
     "metadata": {
      "needs_background": "light"
     },
     "output_type": "display_data"
    }
   ],
   "source": [
    "%matplotlib inline\n",
    "import matplotlib as plt\n",
    "from matplotlib import pyplot\n",
    "plt.pyplot.hist(hd['Number of Parking Spaces'])\n",
    "plt.pyplot.xlabel('Number of Parking Spaces')\n",
    "plt.pyplot.ylabel('count')\n",
    "plt.pyplot.title('Number of Parking Spaces bins')"
   ]
  },
  {
   "cell_type": "code",
   "execution_count": 141,
   "metadata": {
    "scrolled": true
   },
   "outputs": [
    {
     "data": {
      "text/html": [
       "<div>\n",
       "<style scoped>\n",
       "    .dataframe tbody tr th:only-of-type {\n",
       "        vertical-align: middle;\n",
       "    }\n",
       "\n",
       "    .dataframe tbody tr th {\n",
       "        vertical-align: top;\n",
       "    }\n",
       "\n",
       "    .dataframe thead th {\n",
       "        text-align: right;\n",
       "    }\n",
       "</style>\n",
       "<table border=\"1\" class=\"dataframe\">\n",
       "  <thead>\n",
       "    <tr style=\"text-align: right;\">\n",
       "      <th></th>\n",
       "      <th>Price</th>\n",
       "      <th>Listing Price</th>\n",
       "      <th>Number of Bedrooms</th>\n",
       "      <th>Number of Bathrooms</th>\n",
       "      <th>Square Feet</th>\n",
       "      <th>Number of Parking Spaces</th>\n",
       "      <th>Description</th>\n",
       "      <th>MLS</th>\n",
       "      <th>Building Type</th>\n",
       "      <th>Address</th>\n",
       "      <th>Latitude</th>\n",
       "      <th>Longitude</th>\n",
       "      <th>City District</th>\n",
       "      <th>Price in Thousands</th>\n",
       "      <th>Listing Price in Thousands</th>\n",
       "    </tr>\n",
       "  </thead>\n",
       "  <tbody>\n",
       "    <tr>\n",
       "      <td>0</td>\n",
       "      <td>0.03</td>\n",
       "      <td>0.07</td>\n",
       "      <td>0.43</td>\n",
       "      <td>0.33</td>\n",
       "      <td>0.49</td>\n",
       "      <td>0.33</td>\n",
       "      <td>Luxurious And Spacious Murano Tower. 2+1, 2 Ba...</td>\n",
       "      <td>C4461599</td>\n",
       "      <td>Condo</td>\n",
       "      <td>38 Grenville St, Toronto</td>\n",
       "      <td>nan</td>\n",
       "      <td>nan</td>\n",
       "      <td>nan</td>\n",
       "      <td>0.86</td>\n",
       "      <td>0.87</td>\n",
       "    </tr>\n",
       "    <tr>\n",
       "      <td>1</td>\n",
       "      <td>0.03</td>\n",
       "      <td>0.07</td>\n",
       "      <td>0.43</td>\n",
       "      <td>0.33</td>\n",
       "      <td>0.64</td>\n",
       "      <td>0.63</td>\n",
       "      <td>Fantastic Opportunity To Live Within The Histo...</td>\n",
       "      <td>W4502992</td>\n",
       "      <td>Semi-Detached</td>\n",
       "      <td>2 Cabot Crt, Toronto</td>\n",
       "      <td>nan</td>\n",
       "      <td>nan</td>\n",
       "      <td>nan</td>\n",
       "      <td>0.89</td>\n",
       "      <td>0.90</td>\n",
       "    </tr>\n",
       "    <tr>\n",
       "      <td>2</td>\n",
       "      <td>0.02</td>\n",
       "      <td>0.04</td>\n",
       "      <td>0.14</td>\n",
       "      <td>0.17</td>\n",
       "      <td>0.31</td>\n",
       "      <td>0.63</td>\n",
       "      <td>Bright Sunfilled Spacious 1 Bdr Unit; Floor To...</td>\n",
       "      <td>C4511330</td>\n",
       "      <td>Condo</td>\n",
       "      <td>30 Roehampton Ave, Toronto</td>\n",
       "      <td>nan</td>\n",
       "      <td>nan</td>\n",
       "      <td>nan</td>\n",
       "      <td>0.55</td>\n",
       "      <td>0.55</td>\n",
       "    </tr>\n",
       "  </tbody>\n",
       "</table>\n",
       "</div>"
      ],
      "text/plain": [
       "   Price  Listing Price  Number of Bedrooms  Number of Bathrooms  Square Feet  \\\n",
       "0   0.03           0.07                0.43                 0.33         0.49   \n",
       "1   0.03           0.07                0.43                 0.33         0.64   \n",
       "2   0.02           0.04                0.14                 0.17         0.31   \n",
       "\n",
       "   Number of Parking Spaces  \\\n",
       "0                      0.33   \n",
       "1                      0.63   \n",
       "2                      0.63   \n",
       "\n",
       "                                         Description       MLS  Building Type  \\\n",
       "0  Luxurious And Spacious Murano Tower. 2+1, 2 Ba...  C4461599          Condo   \n",
       "1  Fantastic Opportunity To Live Within The Histo...  W4502992  Semi-Detached   \n",
       "2  Bright Sunfilled Spacious 1 Bdr Unit; Floor To...  C4511330          Condo   \n",
       "\n",
       "                        Address  Latitude  Longitude  City District  \\\n",
       "0     38 Grenville St, Toronto        nan        nan            nan   \n",
       "1         2 Cabot Crt, Toronto        nan        nan            nan   \n",
       "2   30 Roehampton Ave, Toronto        nan        nan            nan   \n",
       "\n",
       "   Price in Thousands  Listing Price in Thousands  \n",
       "0                0.86                        0.87  \n",
       "1                0.89                        0.90  \n",
       "2                0.55                        0.55  "
      ]
     },
     "execution_count": 141,
     "metadata": {},
     "output_type": "execute_result"
    }
   ],
   "source": [
    "hd.head(3)"
   ]
  },
  {
   "cell_type": "markdown",
   "metadata": {},
   "source": [
    "# Data Transformation"
   ]
  },
  {
   "cell_type": "code",
   "execution_count": 142,
   "metadata": {
    "scrolled": true
   },
   "outputs": [
    {
     "data": {
      "text/plain": [
       "<matplotlib.axes._subplots.AxesSubplot at 0x1d0e7d81488>"
      ]
     },
     "execution_count": 142,
     "metadata": {},
     "output_type": "execute_result"
    },
    {
     "data": {
      "image/png": "[encoded data removed]",
      "text/plain": [
       "<Figure size 432x288 with 1 Axes>"
      ]
     },
     "metadata": {
      "needs_background": "light"
     },
     "output_type": "display_data"
    }
   ],
   "source": [
    "import seaborn as sns\n",
    "hd['Number of Bedrooms'].hist(grid='False')"
   ]
  },
  {
   "cell_type": "code",
   "execution_count": 143,
   "metadata": {},
   "outputs": [
    {
     "data": {
      "text/plain": [
       "1.0247117070781633"
      ]
     },
     "execution_count": 143,
     "metadata": {},
     "output_type": "execute_result"
    }
   ],
   "source": [
    "hd['Number of Bedrooms'].skew()"
   ]
  },
  {
   "cell_type": "code",
   "execution_count": 144,
   "metadata": {},
   "outputs": [],
   "source": [
    "#Skewness is the measure of lack of symmetry. As, the value of skew is greater than 0.5, it doesn't lie in the range of -0.5 to 0.5 so it is Positive Skewness"
   ]
  },
  {
   "cell_type": "code",
   "execution_count": 145,
   "metadata": {},
   "outputs": [
    {
     "data": {
      "text/plain": [
       "<matplotlib.axes._subplots.AxesSubplot at 0x1d0e7b15448>"
      ]
     },
     "execution_count": 145,
     "metadata": {},
     "output_type": "execute_result"
    },
    {
     "data": {
      "image/png": "[encoded data removed]",
      "text/plain": [
       "<Figure size 432x288 with 1 Axes>"
      ]
     },
     "metadata": {
      "needs_background": "light"
     },
     "output_type": "display_data"
    }
   ],
   "source": [
    "# density plot\n",
    "sns.distplot(hd['Number of Bedrooms'], hist=True)\n"
   ]
  },
  {
   "cell_type": "code",
   "execution_count": 146,
   "metadata": {},
   "outputs": [],
   "source": [
    "#For positive skewness"
   ]
  },
  {
   "cell_type": "code",
   "execution_count": 147,
   "metadata": {},
   "outputs": [],
   "source": [
    "# 1. Log Transformations :"
   ]
  },
  {
   "cell_type": "code",
   "execution_count": 148,
   "metadata": {},
   "outputs": [
    {
     "data": {
      "text/plain": [
       "0   -0.85\n",
       "1   -0.85\n",
       "2   -1.95\n",
       "3   -1.25\n",
       "4   -1.25\n",
       "Name: Number of Bedrooms, dtype: float64"
      ]
     },
     "execution_count": 148,
     "metadata": {},
     "output_type": "execute_result"
    }
   ],
   "source": [
    "log_bed = np.log(hd['Number of Bedrooms'])\n",
    "log_bed.head()"
   ]
  },
  {
   "cell_type": "code",
   "execution_count": 149,
   "metadata": {},
   "outputs": [
    {
     "data": {
      "text/plain": [
       "-1.2244687709875064"
      ]
     },
     "execution_count": 149,
     "metadata": {},
     "output_type": "execute_result"
    }
   ],
   "source": [
    "log_bed.skew()"
   ]
  },
  {
   "cell_type": "code",
   "execution_count": 150,
   "metadata": {},
   "outputs": [],
   "source": [
    "#2. Root Transformation"
   ]
  },
  {
   "cell_type": "code",
   "execution_count": 151,
   "metadata": {},
   "outputs": [
    {
     "data": {
      "text/plain": [
       "0   0.65\n",
       "1   0.65\n",
       "2   0.38\n",
       "3   0.53\n",
       "4   0.53\n",
       "Name: Number of Bedrooms, dtype: float64"
      ]
     },
     "execution_count": 151,
     "metadata": {},
     "output_type": "execute_result"
    }
   ],
   "source": [
    "sqrt_bed = np.sqrt(hd['Number of Bedrooms'])\n",
    "sqrt_bed.head()"
   ]
  },
  {
   "cell_type": "code",
   "execution_count": 152,
   "metadata": {},
   "outputs": [
    {
     "data": {
      "text/plain": [
       "-0.1145643717255944"
      ]
     },
     "execution_count": 152,
     "metadata": {},
     "output_type": "execute_result"
    }
   ],
   "source": [
    "sqrt_bed.skew()"
   ]
  },
  {
   "cell_type": "code",
   "execution_count": 153,
   "metadata": {},
   "outputs": [
    {
     "data": {
      "text/plain": [
       "<matplotlib.axes._subplots.AxesSubplot at 0x1d0e7ebae88>"
      ]
     },
     "execution_count": 153,
     "metadata": {},
     "output_type": "execute_result"
    },
    {
     "data": {
      "image/png": "[encoded data removed]",
      "text/plain": [
       "<Figure size 432x288 with 1 Axes>"
      ]
     },
     "metadata": {
      "needs_background": "light"
     },
     "output_type": "display_data"
    }
   ],
   "source": [
    "sqrt_bed.hist(grid='False')"
   ]
  },
  {
   "cell_type": "code",
   "execution_count": 154,
   "metadata": {},
   "outputs": [
    {
     "data": {
      "text/plain": [
       "<matplotlib.axes._subplots.AxesSubplot at 0x1d0e6f69d48>"
      ]
     },
     "execution_count": 154,
     "metadata": {},
     "output_type": "execute_result"
    },
    {
     "data": {
      "image/png": "[encoded data removed]",
      "text/plain": [
       "<Figure size 432x288 with 1 Axes>"
      ]
     },
     "metadata": {
      "needs_background": "light"
     },
     "output_type": "display_data"
    }
   ],
   "source": [
    "sns.distplot(sqrt_bed, hist = True)"
   ]
  },
  {
   "cell_type": "code",
   "execution_count": 155,
   "metadata": {},
   "outputs": [],
   "source": [
    "hd['Number of Bedrooms_transformed']=sqrt_bed"
   ]
  },
  {
   "cell_type": "code",
   "execution_count": 156,
   "metadata": {},
   "outputs": [],
   "source": [
    "#cbrt_bed = np.cbrt(hd['Number of Bedrooms'])\n",
    "#cbrt_bed.head()"
   ]
  },
  {
   "cell_type": "code",
   "execution_count": 157,
   "metadata": {},
   "outputs": [],
   "source": [
    "#cbrt_bed.skew()"
   ]
  },
  {
   "cell_type": "code",
   "execution_count": 158,
   "metadata": {},
   "outputs": [],
   "source": [
    "#sns.distplot(cbrt_bed, hist= True)"
   ]
  },
  {
   "cell_type": "code",
   "execution_count": 159,
   "metadata": {},
   "outputs": [],
   "source": [
    "#log > cube Root > square root"
   ]
  },
  {
   "cell_type": "code",
   "execution_count": 160,
   "metadata": {},
   "outputs": [],
   "source": [
    "#log_bed.skew(),cbrt_bed.skew(), sqrt_bed.skew()"
   ]
  },
  {
   "cell_type": "code",
   "execution_count": 161,
   "metadata": {},
   "outputs": [
    {
     "data": {
      "text/html": [
       "<div>\n",
       "<style scoped>\n",
       "    .dataframe tbody tr th:only-of-type {\n",
       "        vertical-align: middle;\n",
       "    }\n",
       "\n",
       "    .dataframe tbody tr th {\n",
       "        vertical-align: top;\n",
       "    }\n",
       "\n",
       "    .dataframe thead th {\n",
       "        text-align: right;\n",
       "    }\n",
       "</style>\n",
       "<table border=\"1\" class=\"dataframe\">\n",
       "  <thead>\n",
       "    <tr style=\"text-align: right;\">\n",
       "      <th></th>\n",
       "      <th>Price</th>\n",
       "      <th>Listing Price</th>\n",
       "      <th>Number of Bedrooms</th>\n",
       "      <th>Number of Bathrooms</th>\n",
       "      <th>Square Feet</th>\n",
       "      <th>Number of Parking Spaces</th>\n",
       "      <th>Description</th>\n",
       "      <th>MLS</th>\n",
       "      <th>Building Type</th>\n",
       "      <th>Address</th>\n",
       "      <th>Latitude</th>\n",
       "      <th>Longitude</th>\n",
       "      <th>City District</th>\n",
       "      <th>Price in Thousands</th>\n",
       "      <th>Listing Price in Thousands</th>\n",
       "      <th>Number of Bedrooms_transformed</th>\n",
       "    </tr>\n",
       "  </thead>\n",
       "  <tbody>\n",
       "    <tr>\n",
       "      <td>0</td>\n",
       "      <td>0.03</td>\n",
       "      <td>0.07</td>\n",
       "      <td>0.43</td>\n",
       "      <td>0.33</td>\n",
       "      <td>0.49</td>\n",
       "      <td>0.33</td>\n",
       "      <td>Luxurious And Spacious Murano Tower. 2+1, 2 Ba...</td>\n",
       "      <td>C4461599</td>\n",
       "      <td>Condo</td>\n",
       "      <td>38 Grenville St, Toronto</td>\n",
       "      <td>nan</td>\n",
       "      <td>nan</td>\n",
       "      <td>nan</td>\n",
       "      <td>0.86</td>\n",
       "      <td>0.87</td>\n",
       "      <td>0.65</td>\n",
       "    </tr>\n",
       "    <tr>\n",
       "      <td>1</td>\n",
       "      <td>0.03</td>\n",
       "      <td>0.07</td>\n",
       "      <td>0.43</td>\n",
       "      <td>0.33</td>\n",
       "      <td>0.64</td>\n",
       "      <td>0.63</td>\n",
       "      <td>Fantastic Opportunity To Live Within The Histo...</td>\n",
       "      <td>W4502992</td>\n",
       "      <td>Semi-Detached</td>\n",
       "      <td>2 Cabot Crt, Toronto</td>\n",
       "      <td>nan</td>\n",
       "      <td>nan</td>\n",
       "      <td>nan</td>\n",
       "      <td>0.89</td>\n",
       "      <td>0.90</td>\n",
       "      <td>0.65</td>\n",
       "    </tr>\n",
       "    <tr>\n",
       "      <td>2</td>\n",
       "      <td>0.02</td>\n",
       "      <td>0.04</td>\n",
       "      <td>0.14</td>\n",
       "      <td>0.17</td>\n",
       "      <td>0.31</td>\n",
       "      <td>0.63</td>\n",
       "      <td>Bright Sunfilled Spacious 1 Bdr Unit; Floor To...</td>\n",
       "      <td>C4511330</td>\n",
       "      <td>Condo</td>\n",
       "      <td>30 Roehampton Ave, Toronto</td>\n",
       "      <td>nan</td>\n",
       "      <td>nan</td>\n",
       "      <td>nan</td>\n",
       "      <td>0.55</td>\n",
       "      <td>0.55</td>\n",
       "      <td>0.38</td>\n",
       "    </tr>\n",
       "  </tbody>\n",
       "</table>\n",
       "</div>"
      ],
      "text/plain": [
       "   Price  Listing Price  Number of Bedrooms  Number of Bathrooms  Square Feet  \\\n",
       "0   0.03           0.07                0.43                 0.33         0.49   \n",
       "1   0.03           0.07                0.43                 0.33         0.64   \n",
       "2   0.02           0.04                0.14                 0.17         0.31   \n",
       "\n",
       "   Number of Parking Spaces  \\\n",
       "0                      0.33   \n",
       "1                      0.63   \n",
       "2                      0.63   \n",
       "\n",
       "                                         Description       MLS  Building Type  \\\n",
       "0  Luxurious And Spacious Murano Tower. 2+1, 2 Ba...  C4461599          Condo   \n",
       "1  Fantastic Opportunity To Live Within The Histo...  W4502992  Semi-Detached   \n",
       "2  Bright Sunfilled Spacious 1 Bdr Unit; Floor To...  C4511330          Condo   \n",
       "\n",
       "                        Address  Latitude  Longitude  City District  \\\n",
       "0     38 Grenville St, Toronto        nan        nan            nan   \n",
       "1         2 Cabot Crt, Toronto        nan        nan            nan   \n",
       "2   30 Roehampton Ave, Toronto        nan        nan            nan   \n",
       "\n",
       "   Price in Thousands  Listing Price in Thousands  \\\n",
       "0                0.86                        0.87   \n",
       "1                0.89                        0.90   \n",
       "2                0.55                        0.55   \n",
       "\n",
       "   Number of Bedrooms_transformed  \n",
       "0                            0.65  \n",
       "1                            0.65  \n",
       "2                            0.38  "
      ]
     },
     "execution_count": 161,
     "metadata": {},
     "output_type": "execute_result"
    }
   ],
   "source": [
    "hd.head(3)"
   ]
  },
  {
   "cell_type": "code",
   "execution_count": 162,
   "metadata": {},
   "outputs": [
    {
     "data": {
      "text/plain": [
       "<matplotlib.axes._subplots.AxesSubplot at 0x1d0e6f6b6c8>"
      ]
     },
     "execution_count": 162,
     "metadata": {},
     "output_type": "execute_result"
    },
    {
     "data": {
      "image/png": "[encoded data removed]",
      "text/plain": [
       "<Figure size 432x288 with 1 Axes>"
      ]
     },
     "metadata": {
      "needs_background": "light"
     },
     "output_type": "display_data"
    }
   ],
   "source": [
    "import seaborn as sns\n",
    "hd['Number of Bathrooms'].hist(grid='False')"
   ]
  },
  {
   "cell_type": "code",
   "execution_count": 163,
   "metadata": {},
   "outputs": [
    {
     "data": {
      "text/plain": [
       "1.7391557708677061"
      ]
     },
     "execution_count": 163,
     "metadata": {},
     "output_type": "execute_result"
    }
   ],
   "source": [
    "hd['Number of Bathrooms'].skew()"
   ]
  },
  {
   "cell_type": "code",
   "execution_count": 164,
   "metadata": {},
   "outputs": [
    {
     "data": {
      "text/plain": [
       "<matplotlib.axes._subplots.AxesSubplot at 0x1d0e6f99908>"
      ]
     },
     "execution_count": 164,
     "metadata": {},
     "output_type": "execute_result"
    },
    {
     "data": {
      "image/png": "[encoded data removed]",
      "text/plain": [
       "<Figure size 432x288 with 1 Axes>"
      ]
     },
     "metadata": {
      "needs_background": "light"
     },
     "output_type": "display_data"
    }
   ],
   "source": [
    "sns.distplot(hd['Number of Bathrooms'], hist=True)"
   ]
  },
  {
   "cell_type": "code",
   "execution_count": 165,
   "metadata": {},
   "outputs": [
    {
     "data": {
      "text/plain": [
       "0   0.58\n",
       "1   0.58\n",
       "2   0.41\n",
       "3   0.41\n",
       "4   0.58\n",
       "Name: Number of Bathrooms, dtype: float64"
      ]
     },
     "execution_count": 165,
     "metadata": {},
     "output_type": "execute_result"
    }
   ],
   "source": [
    "sqrt_bath = np.sqrt(hd['Number of Bathrooms'])\n",
    "sqrt_bath.head()"
   ]
  },
  {
   "cell_type": "code",
   "execution_count": 166,
   "metadata": {},
   "outputs": [
    {
     "data": {
      "text/plain": [
       "0.48422552463484025"
      ]
     },
     "execution_count": 166,
     "metadata": {},
     "output_type": "execute_result"
    }
   ],
   "source": [
    "sqrt_bath.skew()"
   ]
  },
  {
   "cell_type": "code",
   "execution_count": 167,
   "metadata": {},
   "outputs": [],
   "source": [
    "hd['Number of Bathrooms_transformed']=sqrt_bath"
   ]
  },
  {
   "cell_type": "code",
   "execution_count": 168,
   "metadata": {
    "scrolled": true
   },
   "outputs": [
    {
     "data": {
      "text/plain": [
       "<matplotlib.axes._subplots.AxesSubplot at 0x1d0e6fe8788>"
      ]
     },
     "execution_count": 168,
     "metadata": {},
     "output_type": "execute_result"
    },
    {
     "data": {
      "image/png": "[encoded data removed]",
      "text/plain": [
       "<Figure size 432x288 with 1 Axes>"
      ]
     },
     "metadata": {
      "needs_background": "light"
     },
     "output_type": "display_data"
    }
   ],
   "source": [
    "hd['Number of Bathrooms_transformed'].hist(grid='False')"
   ]
  },
  {
   "cell_type": "code",
   "execution_count": 169,
   "metadata": {},
   "outputs": [
    {
     "data": {
      "text/plain": [
       "<matplotlib.axes._subplots.AxesSubplot at 0x1d0e6fe7608>"
      ]
     },
     "execution_count": 169,
     "metadata": {},
     "output_type": "execute_result"
    },
    {
     "data": {
      "image/png": "[encoded data removed]",
      "text/plain": [
       "<Figure size 432x288 with 1 Axes>"
      ]
     },
     "metadata": {
      "needs_background": "light"
     },
     "output_type": "display_data"
    }
   ],
   "source": [
    "sns.distplot(hd['Number of Bathrooms_transformed'], hist=True)"
   ]
  },
  {
   "cell_type": "code",
   "execution_count": 170,
   "metadata": {},
   "outputs": [],
   "source": [
    "#hd['Square Feet'].hist(grid='False')"
   ]
  },
  {
   "cell_type": "code",
   "execution_count": 171,
   "metadata": {},
   "outputs": [],
   "source": [
    "#hd['Square Feet'].skew()"
   ]
  },
  {
   "cell_type": "code",
   "execution_count": 172,
   "metadata": {},
   "outputs": [],
   "source": [
    "#Negative skew: sgrt - cbrt - log"
   ]
  },
  {
   "cell_type": "code",
   "execution_count": 173,
   "metadata": {},
   "outputs": [],
   "source": [
    "#sqrt_sq = np.sqrt(hd['Square Feet'])\n",
    "#sqrt_sq.head()"
   ]
  },
  {
   "cell_type": "code",
   "execution_count": 174,
   "metadata": {},
   "outputs": [],
   "source": [
    "#sqrt_sq.skew()"
   ]
  },
  {
   "cell_type": "code",
   "execution_count": 175,
   "metadata": {},
   "outputs": [],
   "source": [
    "#cbrt_sq = np.cbrt(hd['Square Feet'])\n",
    "#cbrt_sq.skew()"
   ]
  },
  {
   "cell_type": "code",
   "execution_count": 176,
   "metadata": {},
   "outputs": [],
   "source": [
    "#log_sq = np.log(sqrt_sq)\n",
    "#log_sq.skew()"
   ]
  },
  {
   "cell_type": "code",
   "execution_count": 177,
   "metadata": {},
   "outputs": [],
   "source": [
    "#Try box cox"
   ]
  },
  {
   "cell_type": "code",
   "execution_count": 178,
   "metadata": {},
   "outputs": [],
   "source": [
    "#import matplotlib.pyplot as plt\n",
    "#import seaborn as sns\n",
    "#plt.figure(1, figsize=[16,3])\n",
    "\n",
    "#plt.subplots_adjust(hspace=0.4)\n",
    "#sns.distplot(hd['Square Feet'], fit=stats.norm)\n",
    "#plt.title('Distribution ')\n",
    "#(mu, sigma) = stats.norm.fit(hd['Square Feet'])\n",
    "#plt.legend(['Normal dist. ($\\mu=$ {:.2f} and $\\sigma=$ {:.2f} )'.format(mu, sigma)],\n",
    "#            loc='best')\n",
    "\n",
    "#plt.figure(2, figsize=[16,3])\n",
    "\n",
    "#ax1=plt.subplot(1,2,1)\n",
    "#x = hd['Square Feet']\n",
    "#stats.probplot(x, dist=stats.norm, plot=ax1)\n",
    "#ax1.set_xlabel('')\n",
    "#ax1.set_title('Probplot against normal distribution')\n",
    "\n",
    "#ax2=plt.subplot(1,2,2)\n",
    "#boxcox_lambda = stats.boxcox_normmax(x, brack=(1.0, 2.0), method='mle')\n",
    "#transformed_array = stats.boxcox(x, boxcox_lambda)\n",
    "# To transform back\n",
    "# np.exp(np.log(boxcox_lambda*transformed_array+1)/boxcox_lambda)\n",
    "#stats.probplot(transformed_array, dist=stats.norm , plot=ax2)\n",
    "#ax2.set_title('Probplot after Box-Cox transformation')\n",
    "#hd['Square Feet_transformed'] = transformed_array\n",
    "\n",
    "#plt.figure(3, figsize=[16,3])\n",
    "#sns.distplot(hd['Square Feet_transformed'], fit=stats.norm)\n",
    "#plt.title('Distribution')\n",
    "#(mu, sigma) = stats.norm.fit(hd['Square Feet_transformed'])\n",
    "#plt.legend(['Normal dist. ($\\mu=$ {:.2f} and $\\sigma=$ {:.2f} )'.format(mu, sigma)],\n",
    "#            loc='best')\n",
    "#plt.show()\n",
    "\n"
   ]
  },
  {
   "cell_type": "code",
   "execution_count": 179,
   "metadata": {
    "scrolled": true
   },
   "outputs": [],
   "source": [
    "#hd['Square Feet_transformed'].skew()"
   ]
  },
  {
   "cell_type": "code",
   "execution_count": 180,
   "metadata": {},
   "outputs": [
    {
     "data": {
      "text/html": [
       "<div>\n",
       "<style scoped>\n",
       "    .dataframe tbody tr th:only-of-type {\n",
       "        vertical-align: middle;\n",
       "    }\n",
       "\n",
       "    .dataframe tbody tr th {\n",
       "        vertical-align: top;\n",
       "    }\n",
       "\n",
       "    .dataframe thead th {\n",
       "        text-align: right;\n",
       "    }\n",
       "</style>\n",
       "<table border=\"1\" class=\"dataframe\">\n",
       "  <thead>\n",
       "    <tr style=\"text-align: right;\">\n",
       "      <th></th>\n",
       "      <th>Price</th>\n",
       "      <th>Listing Price</th>\n",
       "      <th>Number of Bedrooms</th>\n",
       "      <th>Number of Bathrooms</th>\n",
       "      <th>Square Feet</th>\n",
       "      <th>Number of Parking Spaces</th>\n",
       "      <th>Description</th>\n",
       "      <th>MLS</th>\n",
       "      <th>Building Type</th>\n",
       "      <th>Address</th>\n",
       "      <th>Latitude</th>\n",
       "      <th>Longitude</th>\n",
       "      <th>City District</th>\n",
       "      <th>Price in Thousands</th>\n",
       "      <th>Listing Price in Thousands</th>\n",
       "      <th>Number of Bedrooms_transformed</th>\n",
       "      <th>Number of Bathrooms_transformed</th>\n",
       "    </tr>\n",
       "  </thead>\n",
       "  <tbody>\n",
       "    <tr>\n",
       "      <td>0</td>\n",
       "      <td>0.03</td>\n",
       "      <td>0.07</td>\n",
       "      <td>0.43</td>\n",
       "      <td>0.33</td>\n",
       "      <td>0.49</td>\n",
       "      <td>0.33</td>\n",
       "      <td>Luxurious And Spacious Murano Tower. 2+1, 2 Ba...</td>\n",
       "      <td>C4461599</td>\n",
       "      <td>Condo</td>\n",
       "      <td>38 Grenville St, Toronto</td>\n",
       "      <td>nan</td>\n",
       "      <td>nan</td>\n",
       "      <td>nan</td>\n",
       "      <td>0.86</td>\n",
       "      <td>0.87</td>\n",
       "      <td>0.65</td>\n",
       "      <td>0.58</td>\n",
       "    </tr>\n",
       "    <tr>\n",
       "      <td>1</td>\n",
       "      <td>0.03</td>\n",
       "      <td>0.07</td>\n",
       "      <td>0.43</td>\n",
       "      <td>0.33</td>\n",
       "      <td>0.64</td>\n",
       "      <td>0.63</td>\n",
       "      <td>Fantastic Opportunity To Live Within The Histo...</td>\n",
       "      <td>W4502992</td>\n",
       "      <td>Semi-Detached</td>\n",
       "      <td>2 Cabot Crt, Toronto</td>\n",
       "      <td>nan</td>\n",
       "      <td>nan</td>\n",
       "      <td>nan</td>\n",
       "      <td>0.89</td>\n",
       "      <td>0.90</td>\n",
       "      <td>0.65</td>\n",
       "      <td>0.58</td>\n",
       "    </tr>\n",
       "    <tr>\n",
       "      <td>2</td>\n",
       "      <td>0.02</td>\n",
       "      <td>0.04</td>\n",
       "      <td>0.14</td>\n",
       "      <td>0.17</td>\n",
       "      <td>0.31</td>\n",
       "      <td>0.63</td>\n",
       "      <td>Bright Sunfilled Spacious 1 Bdr Unit; Floor To...</td>\n",
       "      <td>C4511330</td>\n",
       "      <td>Condo</td>\n",
       "      <td>30 Roehampton Ave, Toronto</td>\n",
       "      <td>nan</td>\n",
       "      <td>nan</td>\n",
       "      <td>nan</td>\n",
       "      <td>0.55</td>\n",
       "      <td>0.55</td>\n",
       "      <td>0.38</td>\n",
       "      <td>0.41</td>\n",
       "    </tr>\n",
       "  </tbody>\n",
       "</table>\n",
       "</div>"
      ],
      "text/plain": [
       "   Price  Listing Price  Number of Bedrooms  Number of Bathrooms  Square Feet  \\\n",
       "0   0.03           0.07                0.43                 0.33         0.49   \n",
       "1   0.03           0.07                0.43                 0.33         0.64   \n",
       "2   0.02           0.04                0.14                 0.17         0.31   \n",
       "\n",
       "   Number of Parking Spaces  \\\n",
       "0                      0.33   \n",
       "1                      0.63   \n",
       "2                      0.63   \n",
       "\n",
       "                                         Description       MLS  Building Type  \\\n",
       "0  Luxurious And Spacious Murano Tower. 2+1, 2 Ba...  C4461599          Condo   \n",
       "1  Fantastic Opportunity To Live Within The Histo...  W4502992  Semi-Detached   \n",
       "2  Bright Sunfilled Spacious 1 Bdr Unit; Floor To...  C4511330          Condo   \n",
       "\n",
       "                        Address  Latitude  Longitude  City District  \\\n",
       "0     38 Grenville St, Toronto        nan        nan            nan   \n",
       "1         2 Cabot Crt, Toronto        nan        nan            nan   \n",
       "2   30 Roehampton Ave, Toronto        nan        nan            nan   \n",
       "\n",
       "   Price in Thousands  Listing Price in Thousands  \\\n",
       "0                0.86                        0.87   \n",
       "1                0.89                        0.90   \n",
       "2                0.55                        0.55   \n",
       "\n",
       "   Number of Bedrooms_transformed  Number of Bathrooms_transformed  \n",
       "0                            0.65                             0.58  \n",
       "1                            0.65                             0.58  \n",
       "2                            0.38                             0.41  "
      ]
     },
     "execution_count": 180,
     "metadata": {},
     "output_type": "execute_result"
    }
   ],
   "source": [
    "hd.head(3)"
   ]
  },
  {
   "cell_type": "code",
   "execution_count": 181,
   "metadata": {},
   "outputs": [
    {
     "data": {
      "text/plain": [
       "<matplotlib.axes._subplots.AxesSubplot at 0x1d0e702cb48>"
      ]
     },
     "execution_count": 181,
     "metadata": {},
     "output_type": "execute_result"
    },
    {
     "data": {
      "image/png": "[encoded data removed]",
      "text/plain": [
       "<Figure size 432x288 with 1 Axes>"
      ]
     },
     "metadata": {
      "needs_background": "light"
     },
     "output_type": "display_data"
    }
   ],
   "source": [
    "import seaborn as sns\n",
    "hd['Number of Parking Spaces'].hist(grid='False')"
   ]
  },
  {
   "cell_type": "code",
   "execution_count": 182,
   "metadata": {},
   "outputs": [
    {
     "data": {
      "text/plain": [
       "-0.4514147726512114"
      ]
     },
     "execution_count": 182,
     "metadata": {},
     "output_type": "execute_result"
    }
   ],
   "source": [
    "hd['Number of Parking Spaces'].skew()"
   ]
  },
  {
   "cell_type": "code",
   "execution_count": 183,
   "metadata": {},
   "outputs": [
    {
     "data": {
      "text/html": [
       "<div>\n",
       "<style scoped>\n",
       "    .dataframe tbody tr th:only-of-type {\n",
       "        vertical-align: middle;\n",
       "    }\n",
       "\n",
       "    .dataframe tbody tr th {\n",
       "        vertical-align: top;\n",
       "    }\n",
       "\n",
       "    .dataframe thead th {\n",
       "        text-align: right;\n",
       "    }\n",
       "</style>\n",
       "<table border=\"1\" class=\"dataframe\">\n",
       "  <thead>\n",
       "    <tr style=\"text-align: right;\">\n",
       "      <th></th>\n",
       "      <th>Price</th>\n",
       "      <th>Listing Price</th>\n",
       "      <th>Number of Bedrooms</th>\n",
       "      <th>Number of Bathrooms</th>\n",
       "      <th>Square Feet</th>\n",
       "      <th>Number of Parking Spaces</th>\n",
       "      <th>Description</th>\n",
       "      <th>MLS</th>\n",
       "      <th>Building Type</th>\n",
       "      <th>Address</th>\n",
       "      <th>Latitude</th>\n",
       "      <th>Longitude</th>\n",
       "      <th>City District</th>\n",
       "      <th>Price in Thousands</th>\n",
       "      <th>Listing Price in Thousands</th>\n",
       "      <th>Number of Bedrooms_transformed</th>\n",
       "      <th>Number of Bathrooms_transformed</th>\n",
       "    </tr>\n",
       "  </thead>\n",
       "  <tbody>\n",
       "    <tr>\n",
       "      <td>0</td>\n",
       "      <td>0.03</td>\n",
       "      <td>0.07</td>\n",
       "      <td>0.43</td>\n",
       "      <td>0.33</td>\n",
       "      <td>0.49</td>\n",
       "      <td>0.33</td>\n",
       "      <td>Luxurious And Spacious Murano Tower. 2+1, 2 Ba...</td>\n",
       "      <td>C4461599</td>\n",
       "      <td>Condo</td>\n",
       "      <td>38 Grenville St, Toronto</td>\n",
       "      <td>nan</td>\n",
       "      <td>nan</td>\n",
       "      <td>nan</td>\n",
       "      <td>0.86</td>\n",
       "      <td>0.87</td>\n",
       "      <td>0.65</td>\n",
       "      <td>0.58</td>\n",
       "    </tr>\n",
       "    <tr>\n",
       "      <td>1</td>\n",
       "      <td>0.03</td>\n",
       "      <td>0.07</td>\n",
       "      <td>0.43</td>\n",
       "      <td>0.33</td>\n",
       "      <td>0.64</td>\n",
       "      <td>0.63</td>\n",
       "      <td>Fantastic Opportunity To Live Within The Histo...</td>\n",
       "      <td>W4502992</td>\n",
       "      <td>Semi-Detached</td>\n",
       "      <td>2 Cabot Crt, Toronto</td>\n",
       "      <td>nan</td>\n",
       "      <td>nan</td>\n",
       "      <td>nan</td>\n",
       "      <td>0.89</td>\n",
       "      <td>0.90</td>\n",
       "      <td>0.65</td>\n",
       "      <td>0.58</td>\n",
       "    </tr>\n",
       "    <tr>\n",
       "      <td>2</td>\n",
       "      <td>0.02</td>\n",
       "      <td>0.04</td>\n",
       "      <td>0.14</td>\n",
       "      <td>0.17</td>\n",
       "      <td>0.31</td>\n",
       "      <td>0.63</td>\n",
       "      <td>Bright Sunfilled Spacious 1 Bdr Unit; Floor To...</td>\n",
       "      <td>C4511330</td>\n",
       "      <td>Condo</td>\n",
       "      <td>30 Roehampton Ave, Toronto</td>\n",
       "      <td>nan</td>\n",
       "      <td>nan</td>\n",
       "      <td>nan</td>\n",
       "      <td>0.55</td>\n",
       "      <td>0.55</td>\n",
       "      <td>0.38</td>\n",
       "      <td>0.41</td>\n",
       "    </tr>\n",
       "  </tbody>\n",
       "</table>\n",
       "</div>"
      ],
      "text/plain": [
       "   Price  Listing Price  Number of Bedrooms  Number of Bathrooms  Square Feet  \\\n",
       "0   0.03           0.07                0.43                 0.33         0.49   \n",
       "1   0.03           0.07                0.43                 0.33         0.64   \n",
       "2   0.02           0.04                0.14                 0.17         0.31   \n",
       "\n",
       "   Number of Parking Spaces  \\\n",
       "0                      0.33   \n",
       "1                      0.63   \n",
       "2                      0.63   \n",
       "\n",
       "                                         Description       MLS  Building Type  \\\n",
       "0  Luxurious And Spacious Murano Tower. 2+1, 2 Ba...  C4461599          Condo   \n",
       "1  Fantastic Opportunity To Live Within The Histo...  W4502992  Semi-Detached   \n",
       "2  Bright Sunfilled Spacious 1 Bdr Unit; Floor To...  C4511330          Condo   \n",
       "\n",
       "                        Address  Latitude  Longitude  City District  \\\n",
       "0     38 Grenville St, Toronto        nan        nan            nan   \n",
       "1         2 Cabot Crt, Toronto        nan        nan            nan   \n",
       "2   30 Roehampton Ave, Toronto        nan        nan            nan   \n",
       "\n",
       "   Price in Thousands  Listing Price in Thousands  \\\n",
       "0                0.86                        0.87   \n",
       "1                0.89                        0.90   \n",
       "2                0.55                        0.55   \n",
       "\n",
       "   Number of Bedrooms_transformed  Number of Bathrooms_transformed  \n",
       "0                            0.65                             0.58  \n",
       "1                            0.65                             0.58  \n",
       "2                            0.38                             0.41  "
      ]
     },
     "execution_count": 183,
     "metadata": {},
     "output_type": "execute_result"
    }
   ],
   "source": [
    "hd.head(3)"
   ]
  },
  {
   "cell_type": "code",
   "execution_count": 184,
   "metadata": {
    "scrolled": true
   },
   "outputs": [
    {
     "data": {
      "text/plain": [
       "<matplotlib.axes._subplots.AxesSubplot at 0x1d0e704eb08>"
      ]
     },
     "execution_count": 184,
     "metadata": {},
     "output_type": "execute_result"
    },
    {
     "data": {
      "image/png": "[encoded data removed]",
      "text/plain": [
       "<Figure size 432x288 with 1 Axes>"
      ]
     },
     "metadata": {
      "needs_background": "light"
     },
     "output_type": "display_data"
    }
   ],
   "source": [
    "import seaborn as sns\n",
    "hd['Price'].hist(grid='False')"
   ]
  },
  {
   "cell_type": "code",
   "execution_count": 185,
   "metadata": {},
   "outputs": [
    {
     "data": {
      "text/plain": [
       "<matplotlib.axes._subplots.AxesSubplot at 0x1d0e6f2f188>"
      ]
     },
     "execution_count": 185,
     "metadata": {},
     "output_type": "execute_result"
    },
    {
     "data": {
      "image/png": "[encoded data removed]",
      "text/plain": [
       "<Figure size 432x288 with 1 Axes>"
      ]
     },
     "metadata": {
      "needs_background": "light"
     },
     "output_type": "display_data"
    }
   ],
   "source": [
    "sns.distplot(hd['Price'], hist=True)"
   ]
  },
  {
   "cell_type": "code",
   "execution_count": 186,
   "metadata": {},
   "outputs": [
    {
     "data": {
      "text/plain": [
       "8.211626038868252"
      ]
     },
     "execution_count": 186,
     "metadata": {},
     "output_type": "execute_result"
    }
   ],
   "source": [
    "hd['Price'].skew()"
   ]
  },
  {
   "cell_type": "code",
   "execution_count": 187,
   "metadata": {},
   "outputs": [
    {
     "data": {
      "text/plain": [
       "nan"
      ]
     },
     "execution_count": 187,
     "metadata": {},
     "output_type": "execute_result"
    }
   ],
   "source": [
    "log_price = np.log(hd['Price'])\n",
    "log_price.skew()"
   ]
  },
  {
   "cell_type": "code",
   "execution_count": 188,
   "metadata": {},
   "outputs": [
    {
     "data": {
      "text/plain": [
       "1.5463393202518"
      ]
     },
     "execution_count": 188,
     "metadata": {},
     "output_type": "execute_result"
    }
   ],
   "source": [
    "sqrt_price = np.sqrt(hd['Price'])\n",
    "sqrt_price.skew()"
   ]
  },
  {
   "cell_type": "code",
   "execution_count": 189,
   "metadata": {},
   "outputs": [
    {
     "data": {
      "text/plain": [
       "0.2849707371102665"
      ]
     },
     "execution_count": 189,
     "metadata": {},
     "output_type": "execute_result"
    }
   ],
   "source": [
    "cbrt_price = np.cbrt(hd['Price'])\n",
    "cbrt_price.skew()"
   ]
  },
  {
   "cell_type": "code",
   "execution_count": 190,
   "metadata": {},
   "outputs": [],
   "source": [
    "hd['Price_transformed']=cbrt_price"
   ]
  },
  {
   "cell_type": "code",
   "execution_count": 191,
   "metadata": {
    "scrolled": true
   },
   "outputs": [
    {
     "data": {
      "text/plain": [
       "<matplotlib.axes._subplots.AxesSubplot at 0x1d0e6f2e948>"
      ]
     },
     "execution_count": 191,
     "metadata": {},
     "output_type": "execute_result"
    },
    {
     "data": {
      "image/png": "[encoded data removed]",
      "text/plain": [
       "<Figure size 432x288 with 1 Axes>"
      ]
     },
     "metadata": {
      "needs_background": "light"
     },
     "output_type": "display_data"
    }
   ],
   "source": [
    "hd['Price_transformed'].hist(grid='False')"
   ]
  },
  {
   "cell_type": "code",
   "execution_count": 192,
   "metadata": {},
   "outputs": [
    {
     "data": {
      "text/plain": [
       "<matplotlib.axes._subplots.AxesSubplot at 0x1d0e7b930c8>"
      ]
     },
     "execution_count": 192,
     "metadata": {},
     "output_type": "execute_result"
    },
    {
     "data": {
      "image/png": "[encoded data removed]",
      "text/plain": [
       "<Figure size 432x288 with 1 Axes>"
      ]
     },
     "metadata": {
      "needs_background": "light"
     },
     "output_type": "display_data"
    }
   ],
   "source": [
    "sns.distplot(hd['Price_transformed'], hist=True)"
   ]
  },
  {
   "cell_type": "code",
   "execution_count": 193,
   "metadata": {
    "scrolled": true
   },
   "outputs": [
    {
     "data": {
      "text/plain": [
       "<matplotlib.axes._subplots.AxesSubplot at 0x1d0e7a0de88>"
      ]
     },
     "execution_count": 193,
     "metadata": {},
     "output_type": "execute_result"
    },
    {
     "data": {
      "image/png": "[encoded data removed]",
      "text/plain": [
       "<Figure size 432x288 with 1 Axes>"
      ]
     },
     "metadata": {
      "needs_background": "light"
     },
     "output_type": "display_data"
    }
   ],
   "source": [
    "hd['Listing Price'].hist(grid='False')"
   ]
  },
  {
   "cell_type": "code",
   "execution_count": 194,
   "metadata": {},
   "outputs": [
    {
     "data": {
      "text/plain": [
       "4.45066834334544"
      ]
     },
     "execution_count": 194,
     "metadata": {},
     "output_type": "execute_result"
    }
   ],
   "source": [
    "hd['Listing Price'].skew()"
   ]
  },
  {
   "cell_type": "code",
   "execution_count": 195,
   "metadata": {},
   "outputs": [
    {
     "data": {
      "text/plain": [
       "0.840199049111761"
      ]
     },
     "execution_count": 195,
     "metadata": {},
     "output_type": "execute_result"
    }
   ],
   "source": [
    "log_lisprice = np.log(hd['Listing Price'])\n",
    "log_lisprice.skew()"
   ]
  },
  {
   "cell_type": "code",
   "execution_count": 196,
   "metadata": {},
   "outputs": [
    {
     "data": {
      "text/plain": [
       "2.070405557452441"
      ]
     },
     "execution_count": 196,
     "metadata": {},
     "output_type": "execute_result"
    }
   ],
   "source": [
    "sqrt_lisprice = np.sqrt(hd['Listing Price'])\n",
    "sqrt_lisprice.skew()"
   ]
  },
  {
   "cell_type": "code",
   "execution_count": 197,
   "metadata": {},
   "outputs": [
    {
     "data": {
      "text/plain": [
       "1.5943268276735503"
      ]
     },
     "execution_count": 197,
     "metadata": {},
     "output_type": "execute_result"
    }
   ],
   "source": [
    "cbrt_lisprice = np.cbrt(hd['Listing Price'])\n",
    "cbrt_lisprice.skew()"
   ]
  },
  {
   "cell_type": "code",
   "execution_count": 198,
   "metadata": {},
   "outputs": [],
   "source": [
    "hd['Listing Price_transformed']=cbrt_lisprice"
   ]
  },
  {
   "cell_type": "code",
   "execution_count": 199,
   "metadata": {
    "scrolled": true
   },
   "outputs": [
    {
     "data": {
      "text/plain": [
       "<matplotlib.axes._subplots.AxesSubplot at 0x1d0e8a696c8>"
      ]
     },
     "execution_count": 199,
     "metadata": {},
     "output_type": "execute_result"
    },
    {
     "data": {
      "image/png": "[encoded data removed]",
      "text/plain": [
       "<Figure size 432x288 with 1 Axes>"
      ]
     },
     "metadata": {
      "needs_background": "light"
     },
     "output_type": "display_data"
    }
   ],
   "source": [
    "hd['Listing Price_transformed'].hist(grid='False')"
   ]
  },
  {
   "cell_type": "code",
   "execution_count": 200,
   "metadata": {},
   "outputs": [
    {
     "data": {
      "text/plain": [
       "Price                              float64\n",
       "Listing Price                      float64\n",
       "Number of Bedrooms                 float64\n",
       "Number of Bathrooms                float64\n",
       "Square Feet                        float64\n",
       "Number of Parking Spaces           float64\n",
       "Description                         object\n",
       "MLS                                 object\n",
       "Building Type                       object\n",
       "Address                             object\n",
       "Latitude                           float64\n",
       "Longitude                          float64\n",
       "City District                      float64\n",
       "Price in Thousands                 float64\n",
       "Listing Price in Thousands         float64\n",
       "Number of Bedrooms_transformed     float64\n",
       "Number of Bathrooms_transformed    float64\n",
       "Price_transformed                  float64\n",
       "Listing Price_transformed          float64\n",
       "dtype: object"
      ]
     },
     "execution_count": 200,
     "metadata": {},
     "output_type": "execute_result"
    }
   ],
   "source": [
    "hd.dtypes"
   ]
  },
  {
   "cell_type": "code",
   "execution_count": 201,
   "metadata": {
    "scrolled": true
   },
   "outputs": [
    {
     "data": {
      "text/html": [
       "<div>\n",
       "<style scoped>\n",
       "    .dataframe tbody tr th:only-of-type {\n",
       "        vertical-align: middle;\n",
       "    }\n",
       "\n",
       "    .dataframe tbody tr th {\n",
       "        vertical-align: top;\n",
       "    }\n",
       "\n",
       "    .dataframe thead th {\n",
       "        text-align: right;\n",
       "    }\n",
       "</style>\n",
       "<table border=\"1\" class=\"dataframe\">\n",
       "  <thead>\n",
       "    <tr style=\"text-align: right;\">\n",
       "      <th></th>\n",
       "      <th>Price</th>\n",
       "      <th>Listing Price</th>\n",
       "      <th>Number of Bedrooms</th>\n",
       "      <th>Number of Bathrooms</th>\n",
       "      <th>Square Feet</th>\n",
       "      <th>Number of Parking Spaces</th>\n",
       "      <th>Description</th>\n",
       "      <th>MLS</th>\n",
       "      <th>Building Type</th>\n",
       "      <th>Address</th>\n",
       "      <th>Latitude</th>\n",
       "      <th>Longitude</th>\n",
       "      <th>City District</th>\n",
       "      <th>Price in Thousands</th>\n",
       "      <th>Listing Price in Thousands</th>\n",
       "      <th>Number of Bedrooms_transformed</th>\n",
       "      <th>Number of Bathrooms_transformed</th>\n",
       "      <th>Price_transformed</th>\n",
       "      <th>Listing Price_transformed</th>\n",
       "    </tr>\n",
       "  </thead>\n",
       "  <tbody>\n",
       "    <tr>\n",
       "      <td>0</td>\n",
       "      <td>0.03</td>\n",
       "      <td>0.07</td>\n",
       "      <td>0.43</td>\n",
       "      <td>0.33</td>\n",
       "      <td>0.49</td>\n",
       "      <td>0.33</td>\n",
       "      <td>Luxurious And Spacious Murano Tower. 2+1, 2 Ba...</td>\n",
       "      <td>C4461599</td>\n",
       "      <td>Condo</td>\n",
       "      <td>38 Grenville St, Toronto</td>\n",
       "      <td>nan</td>\n",
       "      <td>nan</td>\n",
       "      <td>nan</td>\n",
       "      <td>0.86</td>\n",
       "      <td>0.87</td>\n",
       "      <td>0.65</td>\n",
       "      <td>0.58</td>\n",
       "      <td>0.30</td>\n",
       "      <td>0.40</td>\n",
       "    </tr>\n",
       "    <tr>\n",
       "      <td>1</td>\n",
       "      <td>0.03</td>\n",
       "      <td>0.07</td>\n",
       "      <td>0.43</td>\n",
       "      <td>0.33</td>\n",
       "      <td>0.64</td>\n",
       "      <td>0.63</td>\n",
       "      <td>Fantastic Opportunity To Live Within The Histo...</td>\n",
       "      <td>W4502992</td>\n",
       "      <td>Semi-Detached</td>\n",
       "      <td>2 Cabot Crt, Toronto</td>\n",
       "      <td>nan</td>\n",
       "      <td>nan</td>\n",
       "      <td>nan</td>\n",
       "      <td>0.89</td>\n",
       "      <td>0.90</td>\n",
       "      <td>0.65</td>\n",
       "      <td>0.58</td>\n",
       "      <td>0.30</td>\n",
       "      <td>0.41</td>\n",
       "    </tr>\n",
       "    <tr>\n",
       "      <td>2</td>\n",
       "      <td>0.02</td>\n",
       "      <td>0.04</td>\n",
       "      <td>0.14</td>\n",
       "      <td>0.17</td>\n",
       "      <td>0.31</td>\n",
       "      <td>0.63</td>\n",
       "      <td>Bright Sunfilled Spacious 1 Bdr Unit; Floor To...</td>\n",
       "      <td>C4511330</td>\n",
       "      <td>Condo</td>\n",
       "      <td>30 Roehampton Ave, Toronto</td>\n",
       "      <td>nan</td>\n",
       "      <td>nan</td>\n",
       "      <td>nan</td>\n",
       "      <td>0.55</td>\n",
       "      <td>0.55</td>\n",
       "      <td>0.38</td>\n",
       "      <td>0.41</td>\n",
       "      <td>0.26</td>\n",
       "      <td>0.35</td>\n",
       "    </tr>\n",
       "  </tbody>\n",
       "</table>\n",
       "</div>"
      ],
      "text/plain": [
       "   Price  Listing Price  Number of Bedrooms  Number of Bathrooms  Square Feet  \\\n",
       "0   0.03           0.07                0.43                 0.33         0.49   \n",
       "1   0.03           0.07                0.43                 0.33         0.64   \n",
       "2   0.02           0.04                0.14                 0.17         0.31   \n",
       "\n",
       "   Number of Parking Spaces  \\\n",
       "0                      0.33   \n",
       "1                      0.63   \n",
       "2                      0.63   \n",
       "\n",
       "                                         Description       MLS  Building Type  \\\n",
       "0  Luxurious And Spacious Murano Tower. 2+1, 2 Ba...  C4461599          Condo   \n",
       "1  Fantastic Opportunity To Live Within The Histo...  W4502992  Semi-Detached   \n",
       "2  Bright Sunfilled Spacious 1 Bdr Unit; Floor To...  C4511330          Condo   \n",
       "\n",
       "                        Address  Latitude  Longitude  City District  \\\n",
       "0     38 Grenville St, Toronto        nan        nan            nan   \n",
       "1         2 Cabot Crt, Toronto        nan        nan            nan   \n",
       "2   30 Roehampton Ave, Toronto        nan        nan            nan   \n",
       "\n",
       "   Price in Thousands  Listing Price in Thousands  \\\n",
       "0                0.86                        0.87   \n",
       "1                0.89                        0.90   \n",
       "2                0.55                        0.55   \n",
       "\n",
       "   Number of Bedrooms_transformed  Number of Bathrooms_transformed  \\\n",
       "0                            0.65                             0.58   \n",
       "1                            0.65                             0.58   \n",
       "2                            0.38                             0.41   \n",
       "\n",
       "   Price_transformed  Listing Price_transformed  \n",
       "0               0.30                       0.40  \n",
       "1               0.30                       0.41  \n",
       "2               0.26                       0.35  "
      ]
     },
     "execution_count": 201,
     "metadata": {},
     "output_type": "execute_result"
    }
   ],
   "source": [
    "hd.head(3)"
   ]
  },
  {
   "cell_type": "markdown",
   "metadata": {},
   "source": [
    "# Explore Data"
   ]
  },
  {
   "cell_type": "code",
   "execution_count": 243,
   "metadata": {},
   "outputs": [
    {
     "data": {
      "image/png": "[encoded data removed]",
      "text/plain": [
       "<Figure size 1080x1080 with 2 Axes>"
      ]
     },
     "metadata": {
      "needs_background": "light"
     },
     "output_type": "display_data"
    }
   ],
   "source": [
    "def correlantion_heatmap(hd, center = None):\n",
    "    fig, ax = plt.subplots(figsize = [15,15])\n",
    "    colormap = sns.diverging_palette(10, 220, as_cmap=True)\n",
    "    fig = sns.heatmap(hd.corr(),\n",
    "                cmap = colormap,\n",
    "               center = center,\n",
    "                annot = True,\n",
    "                linewidths = 0.1,\n",
    "                annot_kws={'fontsize':9})\n",
    "    \n",
    "    \n",
    "correlantion_heatmap(hd, center=0)"
   ]
  },
  {
   "cell_type": "code",
   "execution_count": 244,
   "metadata": {},
   "outputs": [
    {
     "data": {
      "text/html": [
       "<div>\n",
       "<style scoped>\n",
       "    .dataframe tbody tr th:only-of-type {\n",
       "        vertical-align: middle;\n",
       "    }\n",
       "\n",
       "    .dataframe tbody tr th {\n",
       "        vertical-align: top;\n",
       "    }\n",
       "\n",
       "    .dataframe thead th {\n",
       "        text-align: right;\n",
       "    }\n",
       "</style>\n",
       "<table border=\"1\" class=\"dataframe\">\n",
       "  <thead>\n",
       "    <tr style=\"text-align: right;\">\n",
       "      <th></th>\n",
       "      <th>Square Feet</th>\n",
       "      <th>Number of Parking Spaces</th>\n",
       "      <th>Number of Bedrooms_transformed</th>\n",
       "      <th>Number of Bathrooms_transformed</th>\n",
       "      <th>Price_transformed</th>\n",
       "      <th>Listing Price_transformed</th>\n",
       "    </tr>\n",
       "  </thead>\n",
       "  <tbody>\n",
       "    <tr>\n",
       "      <td>Square Feet</td>\n",
       "      <td>1.00</td>\n",
       "      <td>0.30</td>\n",
       "      <td>0.61</td>\n",
       "      <td>0.59</td>\n",
       "      <td>0.06</td>\n",
       "      <td>0.41</td>\n",
       "    </tr>\n",
       "    <tr>\n",
       "      <td>Number of Parking Spaces</td>\n",
       "      <td>0.30</td>\n",
       "      <td>1.00</td>\n",
       "      <td>0.39</td>\n",
       "      <td>0.31</td>\n",
       "      <td>-0.04</td>\n",
       "      <td>0.34</td>\n",
       "    </tr>\n",
       "    <tr>\n",
       "      <td>Number of Bedrooms_transformed</td>\n",
       "      <td>0.61</td>\n",
       "      <td>0.39</td>\n",
       "      <td>1.00</td>\n",
       "      <td>0.72</td>\n",
       "      <td>0.21</td>\n",
       "      <td>0.57</td>\n",
       "    </tr>\n",
       "    <tr>\n",
       "      <td>Number of Bathrooms_transformed</td>\n",
       "      <td>0.59</td>\n",
       "      <td>0.31</td>\n",
       "      <td>0.72</td>\n",
       "      <td>1.00</td>\n",
       "      <td>0.24</td>\n",
       "      <td>0.66</td>\n",
       "    </tr>\n",
       "    <tr>\n",
       "      <td>Price_transformed</td>\n",
       "      <td>0.06</td>\n",
       "      <td>-0.04</td>\n",
       "      <td>0.21</td>\n",
       "      <td>0.24</td>\n",
       "      <td>1.00</td>\n",
       "      <td>0.99</td>\n",
       "    </tr>\n",
       "    <tr>\n",
       "      <td>Listing Price_transformed</td>\n",
       "      <td>0.41</td>\n",
       "      <td>0.34</td>\n",
       "      <td>0.57</td>\n",
       "      <td>0.66</td>\n",
       "      <td>0.99</td>\n",
       "      <td>1.00</td>\n",
       "    </tr>\n",
       "  </tbody>\n",
       "</table>\n",
       "</div>"
      ],
      "text/plain": [
       "                                 Square Feet  Number of Parking Spaces  \\\n",
       "Square Feet                             1.00                      0.30   \n",
       "Number of Parking Spaces                0.30                      1.00   \n",
       "Number of Bedrooms_transformed          0.61                      0.39   \n",
       "Number of Bathrooms_transformed         0.59                      0.31   \n",
       "Price_transformed                       0.06                     -0.04   \n",
       "Listing Price_transformed               0.41                      0.34   \n",
       "\n",
       "                                 Number of Bedrooms_transformed  \\\n",
       "Square Feet                                                0.61   \n",
       "Number of Parking Spaces                                   0.39   \n",
       "Number of Bedrooms_transformed                             1.00   \n",
       "Number of Bathrooms_transformed                            0.72   \n",
       "Price_transformed                                          0.21   \n",
       "Listing Price_transformed                                  0.57   \n",
       "\n",
       "                                 Number of Bathrooms_transformed  \\\n",
       "Square Feet                                                 0.59   \n",
       "Number of Parking Spaces                                    0.31   \n",
       "Number of Bedrooms_transformed                              0.72   \n",
       "Number of Bathrooms_transformed                             1.00   \n",
       "Price_transformed                                           0.24   \n",
       "Listing Price_transformed                                   0.66   \n",
       "\n",
       "                                 Price_transformed  Listing Price_transformed  \n",
       "Square Feet                                   0.06                       0.41  \n",
       "Number of Parking Spaces                     -0.04                       0.34  \n",
       "Number of Bedrooms_transformed                0.21                       0.57  \n",
       "Number of Bathrooms_transformed               0.24                       0.66  \n",
       "Price_transformed                             1.00                       0.99  \n",
       "Listing Price_transformed                     0.99                       1.00  "
      ]
     },
     "execution_count": 244,
     "metadata": {},
     "output_type": "execute_result"
    }
   ],
   "source": [
    "hd[['Square Feet', 'Number of Parking Spaces', 'Number of Bedrooms_transformed', \n",
    "    'Number of Bathrooms_transformed', 'Price_transformed', 'Listing Price_transformed']].corr()"
   ]
  },
  {
   "cell_type": "code",
   "execution_count": 245,
   "metadata": {},
   "outputs": [
    {
     "data": {
      "text/plain": [
       "<matplotlib.axes._subplots.AxesSubplot at 0x1d0ec8fb288>"
      ]
     },
     "execution_count": 245,
     "metadata": {},
     "output_type": "execute_result"
    },
    {
     "data": {
      "image/png": "[encoded data removed]",
      "text/plain": [
       "<Figure size 1008x864 with 1 Axes>"
      ]
     },
     "metadata": {
      "needs_background": "light"
     },
     "output_type": "display_data"
    }
   ],
   "source": [
    " fig, ax = plt.subplots(figsize = [14,12])\n",
    "sns.boxplot(x=hd['Building Type'], y=hd['Price_transformed'], data=hd)"
   ]
  },
  {
   "cell_type": "code",
   "execution_count": 246,
   "metadata": {},
   "outputs": [
    {
     "data": {
      "text/plain": [
       "<matplotlib.axes._subplots.AxesSubplot at 0x1d0f09d5a08>"
      ]
     },
     "execution_count": 246,
     "metadata": {},
     "output_type": "execute_result"
    },
    {
     "data": {
      "image/png": "[encoded data removed]",
      "text/plain": [
       "<Figure size 1008x864 with 1 Axes>"
      ]
     },
     "metadata": {
      "needs_background": "light"
     },
     "output_type": "display_data"
    }
   ],
   "source": [
    "fig, ax = plt.subplots(figsize = [14,12])\n",
    "sns.boxplot(x=hd['Number of Parking Spaces'], y=hd['Price_transformed'], data=hd)"
   ]
  },
  {
   "cell_type": "code",
   "execution_count": 247,
   "metadata": {},
   "outputs": [
    {
     "data": {
      "text/plain": [
       "<matplotlib.axes._subplots.AxesSubplot at 0x1d0f06e5fc8>"
      ]
     },
     "execution_count": 247,
     "metadata": {},
     "output_type": "execute_result"
    },
    {
     "data": {
      "image/png": "[encoded data removed]",
      "text/plain": [
       "<Figure size 1008x864 with 1 Axes>"
      ]
     },
     "metadata": {
      "needs_background": "light"
     },
     "output_type": "display_data"
    }
   ],
   "source": [
    "fig, ax = plt.subplots(figsize = [14,12])\n",
    "sns.boxplot(x=hd['Number of Bathrooms_transformed'], y=hd['Price_transformed'], data=hd)"
   ]
  },
  {
   "cell_type": "code",
   "execution_count": 248,
   "metadata": {},
   "outputs": [
    {
     "data": {
      "text/plain": [
       "<matplotlib.axes._subplots.AxesSubplot at 0x1d0f0ccf208>"
      ]
     },
     "execution_count": 248,
     "metadata": {},
     "output_type": "execute_result"
    },
    {
     "data": {
      "image/png": "[encoded data removed]",
      "text/plain": [
       "<Figure size 1008x864 with 1 Axes>"
      ]
     },
     "metadata": {
      "needs_background": "light"
     },
     "output_type": "display_data"
    }
   ],
   "source": [
    " fig, ax = plt.subplots(figsize = [14,12])\n",
    "sns.boxplot(x=hd['Number of Bedrooms_transformed'], y=hd['Price_transformed'], data=hd)"
   ]
  },
  {
   "cell_type": "markdown",
   "metadata": {},
   "source": [
    "# Multiple Regression Model "
   ]
  },
  {
   "cell_type": "code",
   "execution_count": 202,
   "metadata": {},
   "outputs": [
    {
     "data": {
      "text/html": [
       "<div>\n",
       "<style scoped>\n",
       "    .dataframe tbody tr th:only-of-type {\n",
       "        vertical-align: middle;\n",
       "    }\n",
       "\n",
       "    .dataframe tbody tr th {\n",
       "        vertical-align: top;\n",
       "    }\n",
       "\n",
       "    .dataframe thead th {\n",
       "        text-align: right;\n",
       "    }\n",
       "</style>\n",
       "<table border=\"1\" class=\"dataframe\">\n",
       "  <thead>\n",
       "    <tr style=\"text-align: right;\">\n",
       "      <th></th>\n",
       "      <th>Price_transformed</th>\n",
       "      <th>Number of Bedrooms_transformed</th>\n",
       "      <th>Number of Bathrooms_transformed</th>\n",
       "      <th>Square Feet</th>\n",
       "      <th>Number of Parking Spaces</th>\n",
       "    </tr>\n",
       "  </thead>\n",
       "  <tbody>\n",
       "    <tr>\n",
       "      <td>0</td>\n",
       "      <td>0.30</td>\n",
       "      <td>0.65</td>\n",
       "      <td>0.58</td>\n",
       "      <td>0.49</td>\n",
       "      <td>0.33</td>\n",
       "    </tr>\n",
       "    <tr>\n",
       "      <td>1</td>\n",
       "      <td>0.30</td>\n",
       "      <td>0.65</td>\n",
       "      <td>0.58</td>\n",
       "      <td>0.64</td>\n",
       "      <td>0.63</td>\n",
       "    </tr>\n",
       "    <tr>\n",
       "      <td>2</td>\n",
       "      <td>0.26</td>\n",
       "      <td>0.38</td>\n",
       "      <td>0.41</td>\n",
       "      <td>0.31</td>\n",
       "      <td>0.63</td>\n",
       "    </tr>\n",
       "    <tr>\n",
       "      <td>3</td>\n",
       "      <td>0.27</td>\n",
       "      <td>0.53</td>\n",
       "      <td>0.41</td>\n",
       "      <td>0.37</td>\n",
       "      <td>0.33</td>\n",
       "    </tr>\n",
       "    <tr>\n",
       "      <td>4</td>\n",
       "      <td>0.29</td>\n",
       "      <td>0.53</td>\n",
       "      <td>0.58</td>\n",
       "      <td>0.64</td>\n",
       "      <td>0.33</td>\n",
       "    </tr>\n",
       "    <tr>\n",
       "      <td>5</td>\n",
       "      <td>0.22</td>\n",
       "      <td>0.64</td>\n",
       "      <td>0.41</td>\n",
       "      <td>0.14</td>\n",
       "      <td>0.33</td>\n",
       "    </tr>\n",
       "    <tr>\n",
       "      <td>6</td>\n",
       "      <td>0.44</td>\n",
       "      <td>0.76</td>\n",
       "      <td>0.91</td>\n",
       "      <td>0.64</td>\n",
       "      <td>0.67</td>\n",
       "    </tr>\n",
       "    <tr>\n",
       "      <td>7</td>\n",
       "      <td>0.18</td>\n",
       "      <td>0.65</td>\n",
       "      <td>0.58</td>\n",
       "      <td>0.63</td>\n",
       "      <td>0.33</td>\n",
       "    </tr>\n",
       "    <tr>\n",
       "      <td>8</td>\n",
       "      <td>0.31</td>\n",
       "      <td>0.53</td>\n",
       "      <td>0.58</td>\n",
       "      <td>0.77</td>\n",
       "      <td>0.33</td>\n",
       "    </tr>\n",
       "  </tbody>\n",
       "</table>\n",
       "</div>"
      ],
      "text/plain": [
       "   Price_transformed  Number of Bedrooms_transformed  \\\n",
       "0               0.30                            0.65   \n",
       "1               0.30                            0.65   \n",
       "2               0.26                            0.38   \n",
       "3               0.27                            0.53   \n",
       "4               0.29                            0.53   \n",
       "5               0.22                            0.64   \n",
       "6               0.44                            0.76   \n",
       "7               0.18                            0.65   \n",
       "8               0.31                            0.53   \n",
       "\n",
       "   Number of Bathrooms_transformed  Square Feet  Number of Parking Spaces  \n",
       "0                             0.58         0.49                      0.33  \n",
       "1                             0.58         0.64                      0.63  \n",
       "2                             0.41         0.31                      0.63  \n",
       "3                             0.41         0.37                      0.33  \n",
       "4                             0.58         0.64                      0.33  \n",
       "5                             0.41         0.14                      0.33  \n",
       "6                             0.91         0.64                      0.67  \n",
       "7                             0.58         0.63                      0.33  \n",
       "8                             0.58         0.77                      0.33  "
      ]
     },
     "execution_count": 202,
     "metadata": {},
     "output_type": "execute_result"
    }
   ],
   "source": [
    "cdf = hd[['Price_transformed','Number of Bedrooms_transformed','Number of Bathrooms_transformed','Square Feet', 'Number of Parking Spaces']]\n",
    "cdf.head(9)"
   ]
  },
  {
   "cell_type": "code",
   "execution_count": 203,
   "metadata": {},
   "outputs": [
    {
     "data": {
      "image/png": "[encoded data removed]",
      "text/plain": [
       "<Figure size 432x288 with 6 Axes>"
      ]
     },
     "metadata": {
      "needs_background": "light"
     },
     "output_type": "display_data"
    }
   ],
   "source": [
    "import matplotlib.pyplot as plt\n",
    "viz = cdf[['Price_transformed','Number of Bedrooms_transformed','Number of Bathrooms_transformed','Square Feet', 'Number of Parking Spaces']]\n",
    "viz.hist()\n",
    "plt.show()"
   ]
  },
  {
   "cell_type": "code",
   "execution_count": 204,
   "metadata": {},
   "outputs": [],
   "source": [
    "#Creating train and test dataset"
   ]
  },
  {
   "cell_type": "code",
   "execution_count": 205,
   "metadata": {},
   "outputs": [],
   "source": [
    "msk = np.random.rand(len(hd)) < 0.8\n",
    "train = cdf[msk]\n",
    "test = cdf[~msk]"
   ]
  },
  {
   "cell_type": "code",
   "execution_count": 206,
   "metadata": {},
   "outputs": [
    {
     "name": "stdout",
     "output_type": "stream",
     "text": [
      "Coefficients:  [[ 0.1755994   0.19564629 -0.1026635  -0.0831022 ]]\n"
     ]
    }
   ],
   "source": [
    "from sklearn import linear_model\n",
    "regr = linear_model.LinearRegression()\n",
    "x = np.asanyarray(train[['Number of Bedrooms_transformed', 'Number of Bathrooms_transformed', 'Square Feet', 'Number of Parking Spaces']])\n",
    "y = np.asanyarray(train[['Price_transformed']])\n",
    "regr.fit (x, y)\n",
    "# The coefficients\n",
    "print ('Coefficients: ', regr.coef_)"
   ]
  },
  {
   "cell_type": "code",
   "execution_count": 207,
   "metadata": {},
   "outputs": [
    {
     "name": "stdout",
     "output_type": "stream",
     "text": [
      "Residual sum of squares: 0.01\n",
      "Variance score: 0.09\n"
     ]
    }
   ],
   "source": [
    "y_hat= regr.predict(test[['Number of Bedrooms_transformed', 'Number of Bathrooms_transformed', 'Square Feet', 'Number of Parking Spaces']])\n",
    "x = np.asanyarray(test[['Number of Bedrooms_transformed', 'Number of Bathrooms_transformed', 'Square Feet', 'Number of Parking Spaces']])\n",
    "y = np.asanyarray(test[['Price_transformed']])\n",
    "print(\"Residual sum of squares: %.2f\"\n",
    "      % np.mean((y_hat - y) ** 2))\n",
    "\n",
    "# Explained variance score: 1 is perfect prediction\n",
    "print('Variance score: %.2f' % regr.score(x, y))"
   ]
  },
  {
   "cell_type": "code",
   "execution_count": 208,
   "metadata": {},
   "outputs": [],
   "source": [
    "#Variance score is low - bad predictor"
   ]
  },
  {
   "cell_type": "markdown",
   "metadata": {},
   "source": [
    "# Polynominal Regression and Pipelines"
   ]
  },
  {
   "cell_type": "code",
   "execution_count": 218,
   "metadata": {},
   "outputs": [],
   "source": [
    "def PlotPolly(model, independent_variable, dependent_variabble, Name):\n",
    "    x_new = np.linspace(0, 0.5, 1)\n",
    "    y_new = model(x_new)\n",
    "\n",
    "    plt.plot(independent_variable, dependent_variabble, '.', x_new, y_new, '-')\n",
    "    plt.title('Polynomial Fit with Matplotlib for Price ~ Length')\n",
    "    ax = plt.gca()\n",
    "    ax.set_facecolor((0.898, 0.898, 0.898))\n",
    "    fig = plt.gcf()\n",
    "    plt.xlabel(Name)\n",
    "    plt.ylabel('Price')\n",
    "\n",
    "    plt.show()\n",
    "    plt.close()"
   ]
  },
  {
   "cell_type": "code",
   "execution_count": 219,
   "metadata": {},
   "outputs": [],
   "source": [
    "x = hd['Number of Bedrooms_transformed']\n",
    "y = hd['Price_transformed']"
   ]
  },
  {
   "cell_type": "code",
   "execution_count": 220,
   "metadata": {},
   "outputs": [
    {
     "name": "stdout",
     "output_type": "stream",
     "text": [
      "         3         2\n",
      "-0.4584 x + 1.856 x - 1.587 x + 0.623\n"
     ]
    }
   ],
   "source": [
    "# Here we use a polynomial of the 3rd order (cubic) \n",
    "f = np.polyfit(x, y, 3)\n",
    "p = np.poly1d(f)\n",
    "print(p)"
   ]
  },
  {
   "cell_type": "code",
   "execution_count": 221,
   "metadata": {},
   "outputs": [
    {
     "data": {
      "image/png": "[encoded data removed]",
      "text/plain": [
       "<Figure size 432x288 with 1 Axes>"
      ]
     },
     "metadata": {
      "needs_background": "light"
     },
     "output_type": "display_data"
    }
   ],
   "source": [
    "PlotPolly(p, x, y, 'Number of Bedrooms_transformed')"
   ]
  },
  {
   "cell_type": "code",
   "execution_count": 222,
   "metadata": {},
   "outputs": [
    {
     "data": {
      "text/plain": [
       "array([-0.45842965,  1.85628022, -1.58731619,  0.62303119])"
      ]
     },
     "execution_count": 222,
     "metadata": {},
     "output_type": "execute_result"
    }
   ],
   "source": [
    "np.polyfit(x, y, 3)"
   ]
  },
  {
   "cell_type": "code",
   "execution_count": 223,
   "metadata": {},
   "outputs": [],
   "source": [
    "from sklearn.preprocessing import PolynomialFeatures"
   ]
  },
  {
   "cell_type": "code",
   "execution_count": 224,
   "metadata": {},
   "outputs": [
    {
     "data": {
      "text/plain": [
       "PolynomialFeatures(degree=2, include_bias=True, interaction_only=False,\n",
       "                   order='C')"
      ]
     },
     "execution_count": 224,
     "metadata": {},
     "output_type": "execute_result"
    }
   ],
   "source": [
    "pr=PolynomialFeatures(degree=2)\n",
    "pr"
   ]
  },
  {
   "cell_type": "code",
   "execution_count": 225,
   "metadata": {},
   "outputs": [],
   "source": [
    "from sklearn.metrics import r2_score"
   ]
  },
  {
   "cell_type": "code",
   "execution_count": 226,
   "metadata": {},
   "outputs": [
    {
     "name": "stdout",
     "output_type": "stream",
     "text": [
      "The R-square value is:  0.103649456666286\n"
     ]
    }
   ],
   "source": [
    "r_squared = r2_score(y, p(x))\n",
    "print('The R-square value is: ', r_squared)"
   ]
  },
  {
   "cell_type": "code",
   "execution_count": 227,
   "metadata": {},
   "outputs": [],
   "source": [
    "# Only ~ 10 % of the variation of price is explained by this polynomial fit"
   ]
  },
  {
   "cell_type": "markdown",
   "metadata": {},
   "source": [
    "# Classification K nearest neighbor (KNN) "
   ]
  },
  {
   "cell_type": "code",
   "execution_count": 228,
   "metadata": {},
   "outputs": [],
   "source": [
    "from sklearn.neighbors import KNeighborsClassifier"
   ]
  },
  {
   "cell_type": "code",
   "execution_count": 229,
   "metadata": {},
   "outputs": [
    {
     "data": {
      "text/plain": [
       "array([[0.65465367, 0.57735027],\n",
       "       [0.65465367, 0.57735027],\n",
       "       [0.37796447, 0.40824829],\n",
       "       [0.53452248, 0.40824829],\n",
       "       [0.53452248, 0.57735027]])"
      ]
     },
     "execution_count": 229,
     "metadata": {},
     "output_type": "execute_result"
    }
   ],
   "source": [
    "X = hd[['Number of Bedrooms_transformed', 'Number of Bathrooms_transformed']] .values  #.astype(float)\n",
    "X[0:5]"
   ]
  },
  {
   "cell_type": "code",
   "execution_count": 230,
   "metadata": {},
   "outputs": [
    {
     "data": {
      "text/plain": [
       "array([0.29741366, 0.30085228, 0.25673975, 0.27351392, 0.29395455])"
      ]
     },
     "execution_count": 230,
     "metadata": {},
     "output_type": "execute_result"
    }
   ],
   "source": [
    "y = hd['Price_transformed'].values\n",
    "y[0:5]"
   ]
  },
  {
   "cell_type": "code",
   "execution_count": 231,
   "metadata": {},
   "outputs": [
    {
     "name": "stdout",
     "output_type": "stream",
     "text": [
      "Train set: (34305, 2) (34305,)\n",
      "Test set: (8577, 2) (8577,)\n"
     ]
    }
   ],
   "source": [
    "from sklearn.model_selection import train_test_split\n",
    "X_train, X_test, y_train, y_test = train_test_split( X, y, test_size=0.2, random_state=4)\n",
    "print ('Train set:', X_train.shape,  y_train.shape)\n",
    "print ('Test set:', X_test.shape,  y_test.shape)"
   ]
  },
  {
   "cell_type": "code",
   "execution_count": 232,
   "metadata": {},
   "outputs": [],
   "source": [
    "from sklearn.neighbors import KNeighborsClassifier"
   ]
  },
  {
   "cell_type": "code",
   "execution_count": 233,
   "metadata": {},
   "outputs": [],
   "source": [
    "import numpy as np\n",
    "from sklearn                        import metrics, svm\n",
    "from sklearn.linear_model           import LogisticRegression\n",
    "from sklearn import preprocessing\n",
    "from sklearn import utils"
   ]
  },
  {
   "cell_type": "code",
   "execution_count": 234,
   "metadata": {},
   "outputs": [
    {
     "name": "stdout",
     "output_type": "stream",
     "text": [
      "[2019 2866 1895 ... 2660 3207 2186]\n",
      "continuous\n",
      "binary\n",
      "multiclass\n"
     ]
    }
   ],
   "source": [
    "lab_enc = preprocessing.LabelEncoder()\n",
    "training_scores_encoded = lab_enc.fit_transform(y_train)\n",
    "print(training_scores_encoded)\n",
    "print(utils.multiclass.type_of_target(y_train))\n",
    "print(utils.multiclass.type_of_target(y_train.astype('int')))\n",
    "print(utils.multiclass.type_of_target(training_scores_encoded))"
   ]
  },
  {
   "cell_type": "code",
   "execution_count": 235,
   "metadata": {},
   "outputs": [
    {
     "name": "stdout",
     "output_type": "stream",
     "text": [
      "[2019 2866 1895 ... 2660 3207 2186]\n",
      "continuous\n",
      "binary\n",
      "multiclass\n"
     ]
    }
   ],
   "source": [
    "lab_enc = preprocessing.LabelEncoder()\n",
    "testing_scores_encoded = lab_enc.fit_transform(y_test)\n",
    "print(training_scores_encoded)\n",
    "print(utils.multiclass.type_of_target(y_test))\n",
    "print(utils.multiclass.type_of_target(y_test.astype('int')))\n",
    "print(utils.multiclass.type_of_target(testing_scores_encoded))"
   ]
  },
  {
   "cell_type": "code",
   "execution_count": 236,
   "metadata": {},
   "outputs": [
    {
     "data": {
      "text/plain": [
       "KNeighborsClassifier(algorithm='auto', leaf_size=30, metric='minkowski',\n",
       "                     metric_params=None, n_jobs=None, n_neighbors=4, p=2,\n",
       "                     weights='uniform')"
      ]
     },
     "execution_count": 236,
     "metadata": {},
     "output_type": "execute_result"
    }
   ],
   "source": [
    "k = 4\n",
    "#Train Model and Predict  \n",
    "neigh = KNeighborsClassifier(n_neighbors = k).fit(X_train,training_scores_encoded)\n",
    "neigh"
   ]
  },
  {
   "cell_type": "code",
   "execution_count": 237,
   "metadata": {},
   "outputs": [
    {
     "data": {
      "text/plain": [
       "array([ 109,  109,  109,  109, 2414], dtype=int64)"
      ]
     },
     "execution_count": 237,
     "metadata": {},
     "output_type": "execute_result"
    }
   ],
   "source": [
    "yhat = neigh.predict(X_test)\n",
    "yhat[0:5]"
   ]
  },
  {
   "cell_type": "code",
   "execution_count": 238,
   "metadata": {},
   "outputs": [
    {
     "name": "stdout",
     "output_type": "stream",
     "text": [
      "Train set Accuracy:  0.0032939804693193414\n",
      "Test set Accuracy:  0.0003497726477789437\n"
     ]
    }
   ],
   "source": [
    "from sklearn import metrics\n",
    "print(\"Train set Accuracy: \", metrics.accuracy_score(training_scores_encoded, neigh.predict(X_train)))\n",
    "print(\"Test set Accuracy: \", metrics.accuracy_score(testing_scores_encoded, yhat))"
   ]
  },
  {
   "cell_type": "code",
   "execution_count": 239,
   "metadata": {},
   "outputs": [
    {
     "data": {
      "text/plain": [
       "array([0.00011659, 0.00011659, 0.00034977, 0.00034977, 0.00069955,\n",
       "       0.00069955, 0.00069955, 0.00069955, 0.00069955])"
      ]
     },
     "execution_count": 239,
     "metadata": {},
     "output_type": "execute_result"
    }
   ],
   "source": [
    "Ks = 10\n",
    "mean_acc = np.zeros((Ks-1))\n",
    "std_acc = np.zeros((Ks-1))\n",
    "ConfustionMx = [];\n",
    "for n in range(1,Ks):\n",
    "    \n",
    "    #Train Model and Predict  \n",
    "    neigh = KNeighborsClassifier(n_neighbors = n).fit(X_train,training_scores_encoded)\n",
    "    yhat=neigh.predict(X_test)\n",
    "    mean_acc[n-1] = metrics.accuracy_score(testing_scores_encoded, yhat)\n",
    "\n",
    "    \n",
    "    std_acc[n-1]=np.std(yhat==testing_scores_encoded)/np.sqrt(yhat.shape[0])\n",
    "\n",
    "mean_acc"
   ]
  },
  {
   "cell_type": "code",
   "execution_count": 240,
   "metadata": {},
   "outputs": [
    {
     "data": {
      "image/png": "[encoded data removed]",
      "text/plain": [
       "<Figure size 432x288 with 1 Axes>"
      ]
     },
     "metadata": {
      "needs_background": "light"
     },
     "output_type": "display_data"
    }
   ],
   "source": [
    "import matplotlib.pyplot as plt\n",
    "\n",
    "plt.plot(range(1,Ks),mean_acc,'g')\n",
    "plt.fill_between(range(1,Ks),mean_acc - 1 * std_acc,mean_acc + 1 * std_acc, alpha=0.10)\n",
    "plt.legend(('Accuracy ', '+/- 3xstd'))\n",
    "plt.ylabel('Accuracy ')\n",
    "plt.xlabel('Number of Nabors (K)')\n",
    "plt.tight_layout()\n",
    "plt.show()"
   ]
  },
  {
   "cell_type": "code",
   "execution_count": 241,
   "metadata": {},
   "outputs": [
    {
     "name": "stdout",
     "output_type": "stream",
     "text": [
      "The best accuracy was with 0.0006995452955578874 with k= 5\n"
     ]
    }
   ],
   "source": [
    "print( \"The best accuracy was with\", mean_acc.max(), \"with k=\", mean_acc.argmax()+1) "
   ]
  },
  {
   "cell_type": "code",
   "execution_count": 242,
   "metadata": {},
   "outputs": [],
   "source": [
    "# Not a good model"
   ]
  },
  {
   "cell_type": "markdown",
   "metadata": {},
   "source": [
    "# Classification SVM Support Vector Machines"
   ]
  },
  {
   "cell_type": "code",
   "execution_count": 249,
   "metadata": {},
   "outputs": [],
   "source": [
    "#Binning price"
   ]
  },
  {
   "cell_type": "code",
   "execution_count": 250,
   "metadata": {},
   "outputs": [
    {
     "data": {
      "text/plain": [
       "array([0.        , 0.33333333, 0.66666667, 1.        ])"
      ]
     },
     "execution_count": 250,
     "metadata": {},
     "output_type": "execute_result"
    }
   ],
   "source": [
    "bins=np.linspace(min(hd['Price_transformed']), max(hd['Price_transformed']), 4)\n",
    "bins"
   ]
  },
  {
   "cell_type": "code",
   "execution_count": 251,
   "metadata": {},
   "outputs": [],
   "source": [
    "group_names=['Low', 'Medium', 'High']"
   ]
  },
  {
   "cell_type": "code",
   "execution_count": 252,
   "metadata": {},
   "outputs": [
    {
     "data": {
      "text/html": [
       "<div>\n",
       "<style scoped>\n",
       "    .dataframe tbody tr th:only-of-type {\n",
       "        vertical-align: middle;\n",
       "    }\n",
       "\n",
       "    .dataframe tbody tr th {\n",
       "        vertical-align: top;\n",
       "    }\n",
       "\n",
       "    .dataframe thead th {\n",
       "        text-align: right;\n",
       "    }\n",
       "</style>\n",
       "<table border=\"1\" class=\"dataframe\">\n",
       "  <thead>\n",
       "    <tr style=\"text-align: right;\">\n",
       "      <th></th>\n",
       "      <th>Price_transformed</th>\n",
       "      <th>Price_transformed-binned</th>\n",
       "    </tr>\n",
       "  </thead>\n",
       "  <tbody>\n",
       "    <tr>\n",
       "      <td>0</td>\n",
       "      <td>0.30</td>\n",
       "      <td>Low</td>\n",
       "    </tr>\n",
       "    <tr>\n",
       "      <td>1</td>\n",
       "      <td>0.30</td>\n",
       "      <td>Low</td>\n",
       "    </tr>\n",
       "    <tr>\n",
       "      <td>2</td>\n",
       "      <td>0.26</td>\n",
       "      <td>Low</td>\n",
       "    </tr>\n",
       "    <tr>\n",
       "      <td>3</td>\n",
       "      <td>0.27</td>\n",
       "      <td>Low</td>\n",
       "    </tr>\n",
       "    <tr>\n",
       "      <td>4</td>\n",
       "      <td>0.29</td>\n",
       "      <td>Low</td>\n",
       "    </tr>\n",
       "    <tr>\n",
       "      <td>5</td>\n",
       "      <td>0.22</td>\n",
       "      <td>Low</td>\n",
       "    </tr>\n",
       "    <tr>\n",
       "      <td>6</td>\n",
       "      <td>0.44</td>\n",
       "      <td>Medium</td>\n",
       "    </tr>\n",
       "    <tr>\n",
       "      <td>7</td>\n",
       "      <td>0.18</td>\n",
       "      <td>Low</td>\n",
       "    </tr>\n",
       "    <tr>\n",
       "      <td>8</td>\n",
       "      <td>0.31</td>\n",
       "      <td>Low</td>\n",
       "    </tr>\n",
       "    <tr>\n",
       "      <td>9</td>\n",
       "      <td>0.20</td>\n",
       "      <td>Low</td>\n",
       "    </tr>\n",
       "  </tbody>\n",
       "</table>\n",
       "</div>"
      ],
      "text/plain": [
       "   Price_transformed Price_transformed-binned\n",
       "0               0.30                      Low\n",
       "1               0.30                      Low\n",
       "2               0.26                      Low\n",
       "3               0.27                      Low\n",
       "4               0.29                      Low\n",
       "5               0.22                      Low\n",
       "6               0.44                   Medium\n",
       "7               0.18                      Low\n",
       "8               0.31                      Low\n",
       "9               0.20                      Low"
      ]
     },
     "execution_count": 252,
     "metadata": {},
     "output_type": "execute_result"
    }
   ],
   "source": [
    "hd['Price_transformed-binned']=pd.cut(hd['Price_transformed'], bins, labels=group_names, include_lowest=True)\n",
    "hd[['Price_transformed', 'Price_transformed-binned']].head(10)"
   ]
  },
  {
   "cell_type": "code",
   "execution_count": 253,
   "metadata": {},
   "outputs": [
    {
     "data": {
      "text/plain": [
       "Low       37763\n",
       "Medium     5087\n",
       "High         32\n",
       "Name: Price_transformed-binned, dtype: int64"
      ]
     },
     "execution_count": 253,
     "metadata": {},
     "output_type": "execute_result"
    }
   ],
   "source": [
    "hd['Price_transformed-binned'].value_counts()"
   ]
  },
  {
   "cell_type": "code",
   "execution_count": 254,
   "metadata": {},
   "outputs": [
    {
     "data": {
      "text/plain": [
       "Text(0.5, 1.0, 'Price_transformed-binned')"
      ]
     },
     "execution_count": 254,
     "metadata": {},
     "output_type": "execute_result"
    },
    {
     "data": {
      "image/png": "[encoded data removed]",
      "text/plain": [
       "<Figure size 432x288 with 1 Axes>"
      ]
     },
     "metadata": {
      "needs_background": "light"
     },
     "output_type": "display_data"
    }
   ],
   "source": [
    "%matplotlib inline\n",
    "import matplotlib as plt\n",
    "from matplotlib import pyplot\n",
    "pyplot.bar(group_names, hd['Price_transformed-binned']. value_counts())\n",
    "plt.pyplot.xlabel('Price_transformed')\n",
    "plt.pyplot.ylabel('count')\n",
    "plt.pyplot.title('Price_transformed-binned')"
   ]
  },
  {
   "cell_type": "code",
   "execution_count": 255,
   "metadata": {},
   "outputs": [
    {
     "data": {
      "text/html": [
       "<div>\n",
       "<style scoped>\n",
       "    .dataframe tbody tr th:only-of-type {\n",
       "        vertical-align: middle;\n",
       "    }\n",
       "\n",
       "    .dataframe tbody tr th {\n",
       "        vertical-align: top;\n",
       "    }\n",
       "\n",
       "    .dataframe thead th {\n",
       "        text-align: right;\n",
       "    }\n",
       "</style>\n",
       "<table border=\"1\" class=\"dataframe\">\n",
       "  <thead>\n",
       "    <tr style=\"text-align: right;\">\n",
       "      <th></th>\n",
       "      <th>Price</th>\n",
       "      <th>Listing Price</th>\n",
       "      <th>Number of Bedrooms</th>\n",
       "      <th>Number of Bathrooms</th>\n",
       "      <th>Square Feet</th>\n",
       "      <th>Number of Parking Spaces</th>\n",
       "      <th>Description</th>\n",
       "      <th>MLS</th>\n",
       "      <th>Building Type</th>\n",
       "      <th>Address</th>\n",
       "      <th>Latitude</th>\n",
       "      <th>Longitude</th>\n",
       "      <th>City District</th>\n",
       "      <th>Price in Thousands</th>\n",
       "      <th>Listing Price in Thousands</th>\n",
       "      <th>Number of Bedrooms_transformed</th>\n",
       "      <th>Number of Bathrooms_transformed</th>\n",
       "      <th>Price_transformed</th>\n",
       "      <th>Listing Price_transformed</th>\n",
       "      <th>Price_transformed-binned</th>\n",
       "    </tr>\n",
       "  </thead>\n",
       "  <tbody>\n",
       "    <tr>\n",
       "      <td>0</td>\n",
       "      <td>0.03</td>\n",
       "      <td>0.07</td>\n",
       "      <td>0.43</td>\n",
       "      <td>0.33</td>\n",
       "      <td>0.49</td>\n",
       "      <td>0.33</td>\n",
       "      <td>Luxurious And Spacious Murano Tower. 2+1, 2 Ba...</td>\n",
       "      <td>C4461599</td>\n",
       "      <td>Condo</td>\n",
       "      <td>38 Grenville St, Toronto</td>\n",
       "      <td>nan</td>\n",
       "      <td>nan</td>\n",
       "      <td>nan</td>\n",
       "      <td>0.86</td>\n",
       "      <td>0.87</td>\n",
       "      <td>0.65</td>\n",
       "      <td>0.58</td>\n",
       "      <td>0.30</td>\n",
       "      <td>0.40</td>\n",
       "      <td>Low</td>\n",
       "    </tr>\n",
       "    <tr>\n",
       "      <td>1</td>\n",
       "      <td>0.03</td>\n",
       "      <td>0.07</td>\n",
       "      <td>0.43</td>\n",
       "      <td>0.33</td>\n",
       "      <td>0.64</td>\n",
       "      <td>0.63</td>\n",
       "      <td>Fantastic Opportunity To Live Within The Histo...</td>\n",
       "      <td>W4502992</td>\n",
       "      <td>Semi-Detached</td>\n",
       "      <td>2 Cabot Crt, Toronto</td>\n",
       "      <td>nan</td>\n",
       "      <td>nan</td>\n",
       "      <td>nan</td>\n",
       "      <td>0.89</td>\n",
       "      <td>0.90</td>\n",
       "      <td>0.65</td>\n",
       "      <td>0.58</td>\n",
       "      <td>0.30</td>\n",
       "      <td>0.41</td>\n",
       "      <td>Low</td>\n",
       "    </tr>\n",
       "    <tr>\n",
       "      <td>2</td>\n",
       "      <td>0.02</td>\n",
       "      <td>0.04</td>\n",
       "      <td>0.14</td>\n",
       "      <td>0.17</td>\n",
       "      <td>0.31</td>\n",
       "      <td>0.63</td>\n",
       "      <td>Bright Sunfilled Spacious 1 Bdr Unit; Floor To...</td>\n",
       "      <td>C4511330</td>\n",
       "      <td>Condo</td>\n",
       "      <td>30 Roehampton Ave, Toronto</td>\n",
       "      <td>nan</td>\n",
       "      <td>nan</td>\n",
       "      <td>nan</td>\n",
       "      <td>0.55</td>\n",
       "      <td>0.55</td>\n",
       "      <td>0.38</td>\n",
       "      <td>0.41</td>\n",
       "      <td>0.26</td>\n",
       "      <td>0.35</td>\n",
       "      <td>Low</td>\n",
       "    </tr>\n",
       "  </tbody>\n",
       "</table>\n",
       "</div>"
      ],
      "text/plain": [
       "   Price  Listing Price  Number of Bedrooms  Number of Bathrooms  Square Feet  \\\n",
       "0   0.03           0.07                0.43                 0.33         0.49   \n",
       "1   0.03           0.07                0.43                 0.33         0.64   \n",
       "2   0.02           0.04                0.14                 0.17         0.31   \n",
       "\n",
       "   Number of Parking Spaces  \\\n",
       "0                      0.33   \n",
       "1                      0.63   \n",
       "2                      0.63   \n",
       "\n",
       "                                         Description       MLS  Building Type  \\\n",
       "0  Luxurious And Spacious Murano Tower. 2+1, 2 Ba...  C4461599          Condo   \n",
       "1  Fantastic Opportunity To Live Within The Histo...  W4502992  Semi-Detached   \n",
       "2  Bright Sunfilled Spacious 1 Bdr Unit; Floor To...  C4511330          Condo   \n",
       "\n",
       "                        Address  Latitude  Longitude  City District  \\\n",
       "0     38 Grenville St, Toronto        nan        nan            nan   \n",
       "1         2 Cabot Crt, Toronto        nan        nan            nan   \n",
       "2   30 Roehampton Ave, Toronto        nan        nan            nan   \n",
       "\n",
       "   Price in Thousands  Listing Price in Thousands  \\\n",
       "0                0.86                        0.87   \n",
       "1                0.89                        0.90   \n",
       "2                0.55                        0.55   \n",
       "\n",
       "   Number of Bedrooms_transformed  Number of Bathrooms_transformed  \\\n",
       "0                            0.65                             0.58   \n",
       "1                            0.65                             0.58   \n",
       "2                            0.38                             0.41   \n",
       "\n",
       "   Price_transformed  Listing Price_transformed Price_transformed-binned  \n",
       "0               0.30                       0.40                      Low  \n",
       "1               0.30                       0.41                      Low  \n",
       "2               0.26                       0.35                      Low  "
      ]
     },
     "execution_count": 255,
     "metadata": {},
     "output_type": "execute_result"
    }
   ],
   "source": [
    "hd.head(3)"
   ]
  },
  {
   "cell_type": "code",
   "execution_count": 256,
   "metadata": {},
   "outputs": [],
   "source": [
    "import pandas as pd\n",
    "import pylab as pl\n",
    "import numpy as np\n",
    "import scipy.optimize as opt\n",
    "from sklearn import preprocessing\n",
    "from sklearn.model_selection import train_test_split\n",
    "%matplotlib inline \n",
    "import matplotlib.pyplot as plt"
   ]
  },
  {
   "cell_type": "code",
   "execution_count": 257,
   "metadata": {},
   "outputs": [
    {
     "data": {
      "image/png": "[encoded data removed]",
      "text/plain": [
       "<Figure size 432x288 with 1 Axes>"
      ]
     },
     "metadata": {
      "needs_background": "light"
     },
     "output_type": "display_data"
    }
   ],
   "source": [
    "ax = hd[hd['Price_transformed-binned'] == 'Low'][0:50].plot(kind='scatter', \n",
    "        x='Number of Bedrooms_transformed', y='Number of Bathrooms_transformed', color='DarkBlue', label='Low');\n",
    "hd[hd['Price_transformed-binned'] == 'High'][0:50].plot(kind='scatter', \n",
    "        x='Number of Bedrooms_transformed', y='Number of Bathrooms_transformed', color='Yellow', label='High', ax=ax);\n",
    "hd[hd['Price_transformed-binned'] == 'Medium'][0:50].plot(kind='scatter', \n",
    "        x='Number of Bedrooms_transformed', y='Number of Bathrooms_transformed', color='Green', label='Medium', ax=ax);\n",
    "plt.show()"
   ]
  },
  {
   "cell_type": "code",
   "execution_count": 258,
   "metadata": {},
   "outputs": [
    {
     "data": {
      "text/plain": [
       "array([[0.65465367, 0.57735027],\n",
       "       [0.65465367, 0.57735027],\n",
       "       [0.37796447, 0.40824829],\n",
       "       [0.53452248, 0.40824829],\n",
       "       [0.53452248, 0.57735027]])"
      ]
     },
     "execution_count": 258,
     "metadata": {},
     "output_type": "execute_result"
    }
   ],
   "source": [
    "feature_hd = hd[['Number of Bedrooms_transformed', 'Number of Bathrooms_transformed']]\n",
    "X = np.asarray(feature_hd)\n",
    "X[0:5]"
   ]
  },
  {
   "cell_type": "code",
   "execution_count": 259,
   "metadata": {},
   "outputs": [
    {
     "data": {
      "text/plain": [
       "array(['Low', 'Low', 'Low', 'Low', 'Low'], dtype=object)"
      ]
     },
     "execution_count": 259,
     "metadata": {},
     "output_type": "execute_result"
    }
   ],
   "source": [
    "y = np.asarray(hd['Price_transformed-binned'])\n",
    "y [0:5]"
   ]
  },
  {
   "cell_type": "code",
   "execution_count": 260,
   "metadata": {},
   "outputs": [
    {
     "name": "stdout",
     "output_type": "stream",
     "text": [
      "Train set: (34305, 2) (34305,)\n",
      "Test set: (8577, 2) (8577,)\n"
     ]
    }
   ],
   "source": [
    "X_train, X_test, y_train, y_test = train_test_split( X, y, test_size=0.2, random_state=4)\n",
    "print ('Train set:', X_train.shape,  y_train.shape)\n",
    "print ('Test set:', X_test.shape,  y_test.shape)"
   ]
  },
  {
   "cell_type": "code",
   "execution_count": 262,
   "metadata": {},
   "outputs": [
    {
     "data": {
      "text/plain": [
       "SVC(C=1.0, cache_size=200, class_weight=None, coef0=0.0,\n",
       "    decision_function_shape='ovr', degree=3, gamma='auto_deprecated',\n",
       "    kernel='rbf', max_iter=-1, probability=False, random_state=None,\n",
       "    shrinking=True, tol=0.001, verbose=False)"
      ]
     },
     "execution_count": 262,
     "metadata": {},
     "output_type": "execute_result"
    }
   ],
   "source": [
    "from sklearn import svm\n",
    "clf = svm.SVC(kernel='rbf')\n",
    "clf.fit(X_train, y_train) "
   ]
  },
  {
   "cell_type": "code",
   "execution_count": 263,
   "metadata": {},
   "outputs": [
    {
     "data": {
      "text/plain": [
       "array(['Low', 'Low', 'Low', 'Low', 'Low'], dtype=object)"
      ]
     },
     "execution_count": 263,
     "metadata": {},
     "output_type": "execute_result"
    }
   ],
   "source": [
    "yhat = clf.predict(X_test)\n",
    "yhat [0:5]"
   ]
  },
  {
   "cell_type": "code",
   "execution_count": 264,
   "metadata": {},
   "outputs": [],
   "source": [
    "from sklearn.metrics import classification_report, confusion_matrix\n",
    "import itertools"
   ]
  },
  {
   "cell_type": "code",
   "execution_count": 265,
   "metadata": {},
   "outputs": [],
   "source": [
    "def plot_confusion_matrix(cm, classes,\n",
    "                          normalize=False,\n",
    "                          title='Confusion matrix',\n",
    "                          cmap=plt.cm.Blues):\n",
    "    \"\"\"\n",
    "    This function prints and plots the confusion matrix.\n",
    "    Normalization can be applied by setting `normalize=True`.\n",
    "    \"\"\"\n",
    "    if normalize:\n",
    "        cm = cm.astype('float') / cm.sum(axis=1)[:, np.newaxis]\n",
    "        print(\"Normalized confusion matrix\")\n",
    "    else:\n",
    "        print('Confusion matrix, without normalization')\n",
    "\n",
    "    print(cm)\n",
    "\n",
    "    plt.imshow(cm, interpolation='nearest', cmap=cmap)\n",
    "    plt.title(title)\n",
    "    plt.colorbar()\n",
    "    tick_marks = np.arange(len(classes))\n",
    "    plt.xticks(tick_marks, classes, rotation=45)\n",
    "    plt.yticks(tick_marks, classes)\n",
    "\n",
    "    fmt = '.2f' if normalize else 'd'\n",
    "    thresh = cm.max() / 2.\n",
    "    for i, j in itertools.product(range(cm.shape[0]), range(cm.shape[1])):\n",
    "        plt.text(j, i, format(cm[i, j], fmt),\n",
    "                 horizontalalignment=\"center\",\n",
    "                 color=\"white\" if cm[i, j] > thresh else \"black\")\n",
    "\n",
    "    plt.tight_layout()\n",
    "    plt.ylabel('True label')\n",
    "    plt.xlabel('Predicted label')"
   ]
  },
  {
   "cell_type": "code",
   "execution_count": 266,
   "metadata": {},
   "outputs": [
    {
     "name": "stdout",
     "output_type": "stream",
     "text": [
      "              precision    recall  f1-score   support\n",
      "\n",
      "        High       0.00      0.00      0.00         7\n",
      "         Low       0.90      0.99      0.94      7553\n",
      "      Medium       0.68      0.22      0.34      1017\n",
      "\n",
      "    accuracy                           0.89      8577\n",
      "   macro avg       0.53      0.40      0.43      8577\n",
      "weighted avg       0.88      0.89      0.87      8577\n",
      "\n",
      "Confusion matrix, without normalization\n",
      "[[7447    0  106]\n",
      " [   6    0    1]\n",
      " [ 790    0  227]]\n"
     ]
    },
    {
     "data": {
      "image/png": "[encoded data removed]",
      "text/plain": [
       "<Figure size 432x288 with 2 Axes>"
      ]
     },
     "metadata": {
      "needs_background": "light"
     },
     "output_type": "display_data"
    }
   ],
   "source": [
    "# Compute confusion matrix\n",
    "cnf_matrix = confusion_matrix(y_test, yhat, labels=['Low','High', 'Medium'])\n",
    "np.set_printoptions(precision=2)\n",
    "\n",
    "print (classification_report(y_test, yhat))\n",
    "\n",
    "# Plot non-normalized confusion matrix\n",
    "plt.figure()\n",
    "plot_confusion_matrix(cnf_matrix, classes=['Low','High', 'Medium'],normalize= False,  title='Confusion matrix')"
   ]
  },
  {
   "cell_type": "code",
   "execution_count": 267,
   "metadata": {},
   "outputs": [
    {
     "data": {
      "text/plain": [
       "0.8701714742624754"
      ]
     },
     "execution_count": 267,
     "metadata": {},
     "output_type": "execute_result"
    }
   ],
   "source": [
    "from sklearn.metrics import f1_score\n",
    "f1_score(y_test, yhat, average='weighted') "
   ]
  },
  {
   "cell_type": "code",
   "execution_count": 268,
   "metadata": {},
   "outputs": [
    {
     "name": "stderr",
     "output_type": "stream",
     "text": [
      "C:\\Users\\timohakartoha\\Anaconda3\\lib\\site-packages\\sklearn\\metrics\\classification.py:635: DeprecationWarning: jaccard_similarity_score has been deprecated and replaced with jaccard_score. It will be removed in version 0.23. This implementation has surprising behavior for binary and multiclass classification tasks.\n",
      "  'and multiclass classification tasks.', DeprecationWarning)\n"
     ]
    },
    {
     "data": {
      "text/plain": [
       "0.8947184330185379"
      ]
     },
     "execution_count": 268,
     "metadata": {},
     "output_type": "execute_result"
    }
   ],
   "source": [
    "from sklearn.metrics import jaccard_similarity_score\n",
    "jaccard_similarity_score(y_test, yhat)"
   ]
  },
  {
   "cell_type": "code",
   "execution_count": null,
   "metadata": {},
   "outputs": [],
   "source": [
    "#Model is working"
   ]
  },
  {
   "cell_type": "markdown",
   "metadata": {},
   "source": [
    "# Map"
   ]
  },
  {
   "cell_type": "code",
   "execution_count": 269,
   "metadata": {
    "collapsed": true
   },
   "outputs": [
    {
     "name": "stdout",
     "output_type": "stream",
     "text": [
      "Collecting package metadata (current_repodata.json): ...working... done\n",
      "Solving environment: ...working... done\n",
      "\n",
      "## Package Plan ##\n",
      "\n",
      "  environment location: C:\\Users\\timohakartoha\\Anaconda3\n",
      "\n",
      "  added / updated specs:\n",
      "    - folium=0.5.0\n",
      "\n",
      "\n",
      "The following packages will be downloaded:\n",
      "\n",
      "    package                    |            build\n",
      "    ---------------------------|-----------------\n",
      "    conda-4.8.4                |   py37hc8dfbb8_2         3.1 MB  conda-forge\n",
      "    ------------------------------------------------------------\n",
      "                                           Total:         3.1 MB\n",
      "\n",
      "The following packages will be UPDATED:\n",
      "\n",
      "  conda                                4.8.4-py37hc8dfbb8_1 --> 4.8.4-py37hc8dfbb8_2\n",
      "\n",
      "\n",
      "\n",
      "Downloading and Extracting Packages\n",
      "\n",
      "conda-4.8.4          | 3.1 MB    |            |   0% \n",
      "conda-4.8.4          | 3.1 MB    |            |   1% \n",
      "conda-4.8.4          | 3.1 MB    | #9         |  19% \n",
      "conda-4.8.4          | 3.1 MB    | #####6     |  56% \n",
      "conda-4.8.4          | 3.1 MB    | #########1 |  91% \n",
      "conda-4.8.4          | 3.1 MB    | ########## | 100% \n",
      "Preparing transaction: ...working... done\n",
      "Verifying transaction: ...working... done\n",
      "Executing transaction: ...working... done\n",
      "Folium installed and imported!\n"
     ]
    }
   ],
   "source": [
    "!conda install -c conda-forge folium=0.5.0 --yes\n",
    "import folium\n",
    "\n",
    "print('Folium installed and imported!')"
   ]
  },
  {
   "cell_type": "code",
   "execution_count": 270,
   "metadata": {},
   "outputs": [],
   "source": [
    "Lon_mean= hd['Longitude'].mean()\n",
    "Lon_mean\n",
    "\n",
    "hd['Longitude'] = np.where(hd['Longitude'] <-900, Lon_mean, hd['Longitude'])\n",
    "\n",
    "hd['Longitude'].describe()\n",
    "\n",
    "Lat_mean= hd['Latitude'].mean()\n",
    "Lat_mean\n",
    "\n",
    "hd['Latitude'] = np.where(hd['Latitude'] <-900, Lat_mean, hd['Latitude'])"
   ]
  },
  {
   "cell_type": "code",
   "execution_count": 271,
   "metadata": {},
   "outputs": [],
   "source": [
    "hd['Longitude'].replace(np.nan, Lon_mean, inplace=True)"
   ]
  },
  {
   "cell_type": "code",
   "execution_count": 272,
   "metadata": {},
   "outputs": [],
   "source": [
    "hd['Latitude'].replace(np.nan, Lat_mean, inplace=True)"
   ]
  },
  {
   "cell_type": "code",
   "execution_count": 273,
   "metadata": {},
   "outputs": [
    {
     "data": {
      "text/html": [
       "<div style=\"width:100%;\"><div style=\"position:relative;width:100%;height:0;padding-bottom:60%;\"><span style=\"color:#565656\">Make this Notebook Trusted to load map: File -> Trust Notebook</span><iframe src=\"about:blank\" style=\"position:absolute;width:100%;height:100%;left:0;top:0;border:none !important;\" data-html=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 onload=\"this.contentDocument.open();this.contentDocument.write(atob(this.getAttribute('data-html')));this.contentDocument.close();\" allowfullscreen webkitallowfullscreen mozallowfullscreen></iframe></div></div>"
      ],
      "text/plain": [
       "<folium.folium.Map at 0x1d0e3d8b208>"
      ]
     },
     "execution_count": 273,
     "metadata": {},
     "output_type": "execute_result"
    }
   ],
   "source": [
    "world_map = folium.Map()\n",
    "\n",
    "world_map"
   ]
  },
  {
   "cell_type": "code",
   "execution_count": 274,
   "metadata": {},
   "outputs": [],
   "source": [
    "latitude = 43.65\n",
    "longitude = -79.35"
   ]
  },
  {
   "cell_type": "code",
   "execution_count": 275,
   "metadata": {},
   "outputs": [
    {
     "data": {
      "text/html": [
       "<div style=\"width:100%;\"><div style=\"position:relative;width:100%;height:0;padding-bottom:60%;\"><span style=\"color:#565656\">Make this Notebook Trusted to load map: File -> Trust Notebook</span><iframe src=\"about:blank\" style=\"position:absolute;width:100%;height:100%;left:0;top:0;border:none !important;\" data-html=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 onload=\"this.contentDocument.open();this.contentDocument.write(atob(this.getAttribute('data-html')));this.contentDocument.close();\" allowfullscreen webkitallowfullscreen mozallowfullscreen></iframe></div></div>"
      ],
      "text/plain": [
       "<folium.folium.Map at 0x1d0e3d9ddc8>"
      ]
     },
     "execution_count": 275,
     "metadata": {},
     "output_type": "execute_result"
    }
   ],
   "source": [
    "toronto_map = folium.Map(location=[latitude, longitude], zoom_start=12)\n",
    "toronto_map"
   ]
  },
  {
   "cell_type": "code",
   "execution_count": 276,
   "metadata": {},
   "outputs": [],
   "source": [
    "from branca.element import Figure\n",
    "fig=Figure(width=550,height=350)"
   ]
  },
  {
   "cell_type": "code",
   "execution_count": 277,
   "metadata": {},
   "outputs": [
    {
     "data": {
      "text/html": [
       "<iframe src=\"about:blank\" width=\"550\" height=\"350\"style=\"border:none !important;\" data-html=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 onload=\"this.contentDocument.open();this.contentDocument.write(atob(this.getAttribute('data-html')));this.contentDocument.close();\" \"allowfullscreen\" \"webkitallowfullscreen\" \"mozallowfullscreen\"></iframe>"
      ],
      "text/plain": [
       "<folium.folium.Map at 0x1d0e3d91308>"
      ]
     },
     "execution_count": 277,
     "metadata": {},
     "output_type": "execute_result"
    }
   ],
   "source": [
    "m1=folium.Map(width=550,height=350,location=[43.65, -79.35],zoom_start=11,min_zoom=8,max_zoom=14)\n",
    "fig.add_child(m1)\n",
    "m1"
   ]
  },
  {
   "cell_type": "code",
   "execution_count": 278,
   "metadata": {},
   "outputs": [],
   "source": [
    "hd = hd[hd.Longitude != 0]"
   ]
  },
  {
   "cell_type": "code",
   "execution_count": 279,
   "metadata": {},
   "outputs": [],
   "source": [
    "hd = hd[hd.Latitude != 0]"
   ]
  },
  {
   "cell_type": "code",
   "execution_count": 280,
   "metadata": {},
   "outputs": [],
   "source": [
    "hd.dropna(subset = [\"Longitude\"], inplace=True)"
   ]
  },
  {
   "cell_type": "code",
   "execution_count": 281,
   "metadata": {},
   "outputs": [],
   "source": [
    "hd.dropna(subset = [\"Latitude\"], inplace=True)"
   ]
  },
  {
   "cell_type": "code",
   "execution_count": null,
   "metadata": {},
   "outputs": [],
   "source": [
    "fig3=Figure(width=550,height=350)\n",
    "m3=folium.Map(location=[43.65, -79.35],tiles='cartodbpositron',zoom_start=11)\n",
    "fig3.add_child(m3)\n",
    "for lat, lng, in zip(hd['Latitude'], hd['Longitude']):\n",
    "   folium.Marker(location=[lat, lng],popup='Default popup Marker1').add_to(m3)\n",
    "\n",
    "m3"
   ]
  },
  {
   "cell_type": "code",
   "execution_count": null,
   "metadata": {},
   "outputs": [],
   "source": []
  }
 ],
 "metadata": {
  "kernelspec": {
   "display_name": "Python 3",
   "language": "python",
   "name": "python3"
  },
  "language_info": {
   "codemirror_mode": {
    "name": "ipython",
    "version": 3
   },
   "file_extension": ".py",
   "mimetype": "text/x-python",
   "name": "python",
   "nbconvert_exporter": "python",
   "pygments_lexer": "ipython3",
   "version": "3.7.4"
  }
 },
 "nbformat": 4,
 "nbformat_minor": 2
}
